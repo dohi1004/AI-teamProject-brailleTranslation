{
  "nbformat": 4,
  "nbformat_minor": 0,
  "metadata": {
    "colab": {
      "provenance": [],
      "collapsed_sections": [
        "pe68r1Q1EYcI",
        "A3apgZJC7PCv",
        "WMhSVCTg7S6-",
        "NPnwleLT7W5_"
      ],
      "include_colab_link": true
    },
    "kernelspec": {
      "name": "python3",
      "display_name": "Python 3"
    },
    "language_info": {
      "name": "python"
    },
    "accelerator": "GPU",
    "gpuClass": "standard"
  },
  "cells": [
    {
      "cell_type": "markdown",
      "metadata": {
        "id": "view-in-github",
        "colab_type": "text"
      },
      "source": [
        "<a href=\"https://colab.research.google.com/github/dohi1004/AI-teamProject-brailleTranslation/blob/main/Team6_Final_AI_Project.ipynb\" target=\"_parent\"><img src=\"https://colab.research.google.com/assets/colab-badge.svg\" alt=\"Open In Colab\"/></a>"
      ]
    },
    {
      "cell_type": "markdown",
      "source": [
        "***\n",
        "# **AI Team Project Final Presentation**\n",
        "\n",
        "### **Team 6**\n",
        "\n",
        "16102269 Kim Jong Gyu\n",
        "\n",
        "19102095 Lee Do Hui\n",
        "***\n",
        "\n"
      ],
      "metadata": {
        "id": "VpRu5GlOLhbE"
      }
    },
    {
      "cell_type": "markdown",
      "source": [
        "# **1. Motivation For The Proeject**\n",
        "* Similar to general language, braille is different according to the world. \n",
        "* It's hard to understand for the blind when they need to read foreign braille. \n",
        "* Therfore, we try to translate foreign braille to foreign text and then translate it to their language. And finally, our application generates the voice of translated text through Text-to-Speech API. \n",
        "* In education, it can be also usefully adopted. \n",
        "  * Sejong Foundation [1] developed two books, 1) Braille books and 2) Voice books for helping the foreign blind to learn Korean language. That is, the blind can learn new foreign language based on the braille and voice. \n",
        "\n",
        "* We expect that our application helps the blind to read foreign braille easily and also helps them learn foreign language. "
      ],
      "metadata": {
        "id": "xz2a97bVLqBD"
      }
    },
    {
      "cell_type": "markdown",
      "source": [
        "# **2. Problem Description**\n",
        "\n",
        "This is the scenario for our application.\n",
        "\n",
        "Sam is French blind who doesn't know English braille.\n",
        "\n",
        "1. There is English braille and Sam take a picture of it.\n",
        "2. He uses our application, and English braille is firstly tranlated into English (with Braille Translation)\n",
        "3. Then, English is translated into French (with Neural Machine Translation)\n",
        "4. Finally, French is transformed to voice and played. (Text-to-Speech API)\n",
        "\n",
        "So, based on the use case, our focus is on..\n",
        "\n",
        "### **Braille translation and language translation: how accurately we can translate the braille to their language**\n",
        "\n",
        "#### 1) Braille Translation\n",
        "\n",
        "Translate English braille (image) to English (text).\n",
        "\n",
        "#### 2) Language Translation\n",
        "\n",
        "Translate English (text) to French (text).\n",
        "\n",
        "\n"
      ],
      "metadata": {
        "id": "sXhdwLhc6aJi"
      }
    },
    {
      "cell_type": "markdown",
      "source": [
        "# **3. Data Description**\n",
        "\n",
        "### **Braille Translation**\n",
        "\n",
        "* Braille Characteristics\n",
        "  * Braille should basically have six points placed at equal intervals.\n",
        "  * Braille should not be inverted too much (less than 90 degree).\n",
        "  * Spaces should be written at regular intervals.\n",
        "* Kaggle Data [2]\n",
        "  * Problems\n",
        "\n",
        "    1) There are pictures with a rotation of more than 90 degrees and indistinguishable.\n",
        "     <img src = \"https://drive.google.com/uc?id=1VeUkM0AQPdw3uxnFWUu8bq5vyGjoeKef\" height = 300 width = 500>\n",
        "    \n",
        "    2) Only alphabets are used except for special characters.\n",
        "\n",
        "    <img src = \"https://drive.google.com/uc?id=1UQ8jsegwxsHsrih4eBFWJR3wS4a66JgO\" height = 300 width = 500>\n",
        "\n",
        "    \n",
        "\n",
        "* **Actual data we used**\n",
        "  * We make dataset by drawing it ourselves using PPT.\n",
        "\n",
        "    <img src = \"https://drive.google.com/uc?id=1ZunHu0KumEkiVuFcUvJGYG2cIHza_Vw3\" height = 300 width = 500>\n",
        "  \n",
        "  * **Actual data**\n",
        "  \n",
        "    <img src = \"https://drive.google.com/uc?id=1Kwm0NxQTKBNKQ4Z-Gau56bMnLlWFF948\" height = 300 width = 500>\n",
        "  \n",
        "\n",
        "### **Neural Machine Translation**\n",
        "\n",
        "*   For neural machine translation model, we used dataset comprised of French phrases and their English counterparts. The dataset is available from the http://www.manythings.org/anki/, with examples drawn from the Tatoeba Project.\n",
        "\n",
        "<img src = \"https://drive.google.com/uc?id=1zgHVKVLXsjyD4re6bWE5baV0q71J4yQo\" height = 250 width = 500>\n",
        "\n",
        "* The fra.txt file contains pairs of English to French phrases, one pair per line with a tab separating the language. Total pairs of sentences are 197,463.\n",
        "\n",
        "<img src = \"https://drive.google.com/uc?id=1-WO41TvUqFickYyjN298293hUtBSZRUs\" height = 150 width = 600>\n",
        "\n",
        "------------------\n",
        "Preprocessing process of each data is explained in **5. Implementation Details**\n",
        "\n",
        "------------------"
      ],
      "metadata": {
        "id": "8U0pwhGVLr70"
      }
    },
    {
      "cell_type": "markdown",
      "source": [
        "# **4.Model Architecture**\n",
        "\n",
        "### 1) Model 1: Convolutional Neural Network (2D-CNN) for Braille Translation\n",
        "a model consisting of three SeperableConv2D layers and max pooling layers.\n",
        "\n",
        "*   Last layer activation function:softmax (multi-class classification, braille image to corresponding character)\n",
        "*   Optimizer: Adam\n",
        "*   Loss function: categorical_crossentropy \n",
        "\n",
        "\n",
        "### 2) Model 2: Sequence-to-Sequence model - LSTM & GRU for Neural Machine Translation\n",
        "**Encoder-Decoder based model**\n",
        "<!-- 다양한 길이의 input/output 을 동일한 길이의 memory에 할당한다.\n",
        "-> 그래서 input 의 길이는 다양해도 상관 없음 (Maps variable-length sequence to fixed-length memory) -->\n",
        "--------------------\n",
        "* Input Language: English\n",
        "\n",
        "* Output Language: French\n",
        "---------------\n",
        "\n",
        "1. Encoder\n",
        "\n",
        "  It reads the input sequence and summarizes the information in one vector, called context vector (in LSTM, hidden state and cell state vectors). This context vector aims to contain all information for all input elements to help the decoder make accurate predictions. The hidden and cell state of the network is passed along to the decoder as input. \n",
        "\n",
        "2. Decoder\n",
        "\n",
        "  It interprets the context vector obtained from the encoder. The context vecotr of the encoder's final cell is input to the first cell of the decoder network. Using these initial states, the decoder starts generating the output sequence, and these outputs are also considered for futrue predictions. \n",
        "\n",
        "*   Last layer activation function:softmax (multi-class classification, English text to French text)\n",
        "*   Optimizer: Adam\n",
        "*   Loss function: sparse_categorical_crossentropy (decoder_outputs are integer labels, not one-hot encoded)\n",
        "\n",
        "\n",
        "\n",
        "<img src = \"https://drive.google.com/uc?id=1XChI2rJDoa6r8nL7hcBEELICLT-bDK8N\" height = 300 width = 800>\n",
        "\n",
        "----------------------\n",
        "\n",
        "\n",
        "3) Final Architecture\n",
        "\n",
        "\n",
        "\n",
        "<img src = \"https://drive.google.com/uc?id=1PRGd8u2JUUeMloKnRxjW9zLl3WaDxJlu\" height = 400 width = 850>"
      ],
      "metadata": {
        "id": "s9FaYZLN_vex"
      }
    },
    {
      "cell_type": "markdown",
      "source": [
        "# **5. Implementation Details**"
      ],
      "metadata": {
        "id": "PzhphPvU7WkT"
      }
    },
    {
      "cell_type": "markdown",
      "source": [
        "## **Part1. Braille Translation Model** \n",
        "* Firstly, we detected simple convnet model using Kaggle Data\n",
        "* Model consisting of three convolutional layers and max pooling layers."
      ],
      "metadata": {
        "id": "xOVbGzraM_qM"
      }
    },
    {
      "cell_type": "code",
      "source": [
        "from google.colab import drive\n",
        "\n",
        "drive.mount('/content/gdrive')"
      ],
      "metadata": {
        "id": "MGwwXGqYKcLc",
        "colab": {
          "base_uri": "https://localhost:8080/"
        },
        "outputId": "9496e038-299a-4e02-f221-726e6ce5e243"
      },
      "execution_count": 5,
      "outputs": [
        {
          "output_type": "stream",
          "name": "stdout",
          "text": [
            "Drive already mounted at /content/gdrive; to attempt to forcibly remount, call drive.mount(\"/content/gdrive\", force_remount=True).\n"
          ]
        }
      ]
    },
    {
      "cell_type": "code",
      "source": [
        "import os\n",
        "def createFolder(directory):\n",
        "      if not os.path.exists(directory):\n",
        "          os.makedirs(directory)"
      ],
      "metadata": {
        "id": "cezTVVeNhsul"
      },
      "execution_count": null,
      "outputs": []
    },
    {
      "cell_type": "code",
      "source": [
        "import numpy as np\n",
        "import pandas as pd\n",
        "from shutil import copyfile\n",
        "\n",
        "dir = '/content/gdrive/MyDrive/AI/teamProject/Data/'\n",
        "createFolder(dir + 'existing_dataset/')\n",
        "alpha = 'a'\n",
        "for i in range(0, 26): \n",
        "    createFolder(dir+ 'existing_dataset/' + alpha)\n",
        "    alpha = chr(ord(alpha) + 1)\n",
        "\n",
        "rootdir = '/content/gdrive/MyDrive/AI/teamProject/Data/braillset/'\n",
        "\n",
        "for file in os.listdir(rootdir):\n",
        "    letter = file[0]\n",
        "    copyfile(rootdir + file, dir + 'existing_dataset/' + letter + '/' + file) "
      ],
      "metadata": {
        "id": "aRLQ3k5WKa0I"
      },
      "execution_count": 10,
      "outputs": []
    },
    {
      "cell_type": "code",
      "source": [
        "from keras.preprocessing.image import ImageDataGenerator\n",
        "\n",
        "prev_img_dir = \"/content/gdrive/MyDrive/AI/teamProject/Data/existing_dataset/\"\n",
        "\n",
        "datagen = ImageDataGenerator(rotation_range=20,\n",
        "                             shear_range=10,\n",
        "                             validation_split=0.2)\n",
        "\n",
        "train_generator = datagen.flow_from_directory(prev_img_dir,\n",
        "                                              target_size=(28,28),\n",
        "                                              subset='training')\n",
        "\n",
        "val_generator = datagen.flow_from_directory(prev_img_dir,\n",
        "                                            target_size=(28,28),\n",
        "                                            subset='validation')"
      ],
      "metadata": {
        "id": "FMN1F5SXKfrI",
        "colab": {
          "base_uri": "https://localhost:8080/"
        },
        "outputId": "472c07a6-1197-4324-adf4-6196ec2f336b"
      },
      "execution_count": 12,
      "outputs": [
        {
          "output_type": "stream",
          "name": "stdout",
          "text": [
            "Found 1248 images belonging to 26 classes.\n",
            "Found 312 images belonging to 26 classes.\n"
          ]
        }
      ]
    },
    {
      "cell_type": "code",
      "source": [
        "#Simple convnet\n",
        "\n",
        "from tensorflow.keras import layers\n",
        "from tensorflow.keras import models\n",
        "from keras.callbacks import ModelCheckpoint,ReduceLROnPlateau,EarlyStopping\n",
        "\n",
        "\n",
        "def Make_simple_model(train,val):\n",
        "  model = models.Sequential()\n",
        "  path = \"/content/gdrive/MyDrive/Model/\"\n",
        "  model_ckpt = ModelCheckpoint(path+'BrailleNet_simple.h5',save_best_only=True)\n",
        "  model.add(layers.Conv2D(32, (3, 3), activation='relu', input_shape=(28,28, 3))) \n",
        "  model.add(layers.MaxPooling2D((2, 2))) \n",
        "  model.add(layers.Conv2D(64, (3, 3), activation='relu')) \n",
        "  model.add(layers.MaxPooling2D((2, 2))) \n",
        "  model.add(layers.Conv2D(64, (3, 3), activation='relu'))\n",
        "  model.add(layers.Flatten())\n",
        "  model.add(layers.Dense(64, activation='relu'))\n",
        "  model.add(layers.Dense(26, activation='softmax'))\n",
        "  model.compile(loss='categorical_crossentropy',optimizer='adam',metrics=['accuracy'])\n",
        "  history = model.fit_generator(train,\n",
        "                              epochs=30,\n",
        "                              callbacks=[model_ckpt],\n",
        "                              validation_data=val)\n",
        "  return history"
      ],
      "metadata": {
        "id": "U93gTcbuKhfF"
      },
      "execution_count": 13,
      "outputs": []
    },
    {
      "cell_type": "code",
      "source": [
        "history_simple = Make_simple_model(train_generator,val_generator)"
      ],
      "metadata": {
        "id": "5capelb6Kiy8",
        "colab": {
          "base_uri": "https://localhost:8080/"
        },
        "outputId": "bc3be4a0-4745-463b-8ab0-284691c33728"
      },
      "execution_count": 14,
      "outputs": [
        {
          "output_type": "stream",
          "name": "stdout",
          "text": [
            "Epoch 1/30\n"
          ]
        },
        {
          "output_type": "stream",
          "name": "stderr",
          "text": [
            "<ipython-input-13-89990d0c5617>:21: UserWarning: `Model.fit_generator` is deprecated and will be removed in a future version. Please use `Model.fit`, which supports generators.\n",
            "  history = model.fit_generator(train,\n"
          ]
        },
        {
          "output_type": "stream",
          "name": "stdout",
          "text": [
            "39/39 [==============================] - 11s 86ms/step - loss: 9.1122 - accuracy: 0.0337 - val_loss: 3.2600 - val_accuracy: 0.0385\n",
            "Epoch 2/30\n",
            "39/39 [==============================] - 3s 81ms/step - loss: 3.2366 - accuracy: 0.0417 - val_loss: 3.1937 - val_accuracy: 0.0737\n",
            "Epoch 3/30\n",
            "39/39 [==============================] - 3s 82ms/step - loss: 3.1302 - accuracy: 0.0745 - val_loss: 3.0915 - val_accuracy: 0.1250\n",
            "Epoch 4/30\n",
            "39/39 [==============================] - 4s 115ms/step - loss: 2.9459 - accuracy: 0.1506 - val_loss: 2.7831 - val_accuracy: 0.1987\n",
            "Epoch 5/30\n",
            "39/39 [==============================] - 3s 85ms/step - loss: 2.6067 - accuracy: 0.2564 - val_loss: 2.3373 - val_accuracy: 0.3333\n",
            "Epoch 6/30\n",
            "39/39 [==============================] - 3s 84ms/step - loss: 2.1309 - accuracy: 0.3982 - val_loss: 1.7616 - val_accuracy: 0.4808\n",
            "Epoch 7/30\n",
            "39/39 [==============================] - 3s 87ms/step - loss: 1.6527 - accuracy: 0.5545 - val_loss: 1.4489 - val_accuracy: 0.5897\n",
            "Epoch 8/30\n",
            "39/39 [==============================] - 3s 86ms/step - loss: 1.4250 - accuracy: 0.6114 - val_loss: 1.2219 - val_accuracy: 0.6731\n",
            "Epoch 9/30\n",
            "39/39 [==============================] - 3s 86ms/step - loss: 1.1809 - accuracy: 0.6546 - val_loss: 1.1373 - val_accuracy: 0.6987\n",
            "Epoch 10/30\n",
            "39/39 [==============================] - 3s 84ms/step - loss: 1.0534 - accuracy: 0.6971 - val_loss: 1.0614 - val_accuracy: 0.7147\n",
            "Epoch 11/30\n",
            "39/39 [==============================] - 3s 83ms/step - loss: 0.8826 - accuracy: 0.7340 - val_loss: 1.0388 - val_accuracy: 0.7340\n",
            "Epoch 12/30\n",
            "39/39 [==============================] - 3s 80ms/step - loss: 0.8226 - accuracy: 0.7460 - val_loss: 1.0856 - val_accuracy: 0.7051\n",
            "Epoch 13/30\n",
            "39/39 [==============================] - 3s 81ms/step - loss: 0.7808 - accuracy: 0.7796 - val_loss: 0.8828 - val_accuracy: 0.7564\n",
            "Epoch 14/30\n",
            "39/39 [==============================] - 3s 82ms/step - loss: 0.6308 - accuracy: 0.8165 - val_loss: 0.8047 - val_accuracy: 0.7949\n",
            "Epoch 15/30\n",
            "39/39 [==============================] - 3s 80ms/step - loss: 0.6383 - accuracy: 0.8061 - val_loss: 1.0266 - val_accuracy: 0.7660\n",
            "Epoch 16/30\n",
            "39/39 [==============================] - 3s 81ms/step - loss: 0.5863 - accuracy: 0.8277 - val_loss: 0.8112 - val_accuracy: 0.7821\n",
            "Epoch 17/30\n",
            "39/39 [==============================] - 3s 81ms/step - loss: 0.5540 - accuracy: 0.8197 - val_loss: 0.8541 - val_accuracy: 0.8013\n",
            "Epoch 18/30\n",
            "39/39 [==============================] - 4s 105ms/step - loss: 0.5095 - accuracy: 0.8365 - val_loss: 0.7625 - val_accuracy: 0.8269\n",
            "Epoch 19/30\n",
            "39/39 [==============================] - 3s 80ms/step - loss: 0.4361 - accuracy: 0.8662 - val_loss: 0.8126 - val_accuracy: 0.8109\n",
            "Epoch 20/30\n",
            "39/39 [==============================] - 3s 79ms/step - loss: 0.4037 - accuracy: 0.8614 - val_loss: 0.8415 - val_accuracy: 0.8013\n",
            "Epoch 21/30\n",
            "39/39 [==============================] - 4s 104ms/step - loss: 0.4322 - accuracy: 0.8702 - val_loss: 0.7205 - val_accuracy: 0.8205\n",
            "Epoch 22/30\n",
            "39/39 [==============================] - 3s 82ms/step - loss: 0.4129 - accuracy: 0.8774 - val_loss: 0.6275 - val_accuracy: 0.8526\n",
            "Epoch 23/30\n",
            "39/39 [==============================] - 3s 79ms/step - loss: 0.3167 - accuracy: 0.9022 - val_loss: 0.7387 - val_accuracy: 0.8429\n",
            "Epoch 24/30\n",
            "39/39 [==============================] - 3s 80ms/step - loss: 0.3060 - accuracy: 0.8998 - val_loss: 0.8293 - val_accuracy: 0.8397\n",
            "Epoch 25/30\n",
            "39/39 [==============================] - 3s 82ms/step - loss: 0.2808 - accuracy: 0.9062 - val_loss: 0.7371 - val_accuracy: 0.8782\n",
            "Epoch 26/30\n",
            "39/39 [==============================] - 3s 83ms/step - loss: 0.2593 - accuracy: 0.9295 - val_loss: 0.7425 - val_accuracy: 0.8494\n",
            "Epoch 27/30\n",
            "39/39 [==============================] - 4s 91ms/step - loss: 0.2498 - accuracy: 0.9223 - val_loss: 0.8379 - val_accuracy: 0.8494\n",
            "Epoch 28/30\n",
            "39/39 [==============================] - 3s 81ms/step - loss: 0.2655 - accuracy: 0.9103 - val_loss: 0.6772 - val_accuracy: 0.8558\n",
            "Epoch 29/30\n",
            "39/39 [==============================] - 3s 81ms/step - loss: 0.2311 - accuracy: 0.9183 - val_loss: 0.7662 - val_accuracy: 0.8718\n",
            "Epoch 30/30\n",
            "39/39 [==============================] - 3s 79ms/step - loss: 0.2499 - accuracy: 0.9247 - val_loss: 0.6703 - val_accuracy: 0.8686\n"
          ]
        }
      ]
    },
    {
      "cell_type": "markdown",
      "source": [
        "### **First model visualize training results**\n",
        "\n"
      ],
      "metadata": {
        "id": "Ra8l_jntKlY4"
      }
    },
    {
      "cell_type": "code",
      "source": [
        "def print_acc_loss(history):\n",
        "    import matplotlib.pyplot as plt\n",
        "    fig, loss_ax = plt.subplots(figsize=(10, 5))\n",
        "    acc_ax = loss_ax.twinx()\n",
        "    loss_ax.plot(history.history['loss'], 'y', label='train loss')\n",
        "    loss_ax.plot(history.history['val_loss'], 'r', label='val loss')\n",
        "    acc_ax.plot(history.history['accuracy'], 'b', label='train acc')\n",
        "    acc_ax.plot(history.history['val_accuracy'], 'g', label='val acc')\n",
        "    loss_ax.set_xlabel('epoch')\n",
        "    loss_ax.set_ylabel('loss')\n",
        "    acc_ax.set_ylabel('accuray')\n",
        "    loss_ax.legend(loc='upper left')\n",
        "    acc_ax.legend(loc='lower left')\n",
        "\n",
        "    plt.show()"
      ],
      "metadata": {
        "id": "9MK1WfmVKl48"
      },
      "execution_count": 15,
      "outputs": []
    },
    {
      "cell_type": "code",
      "source": [
        "print_acc_loss(history_simple)"
      ],
      "metadata": {
        "id": "OCxFCvpSKnME",
        "colab": {
          "base_uri": "https://localhost:8080/",
          "height": 334
        },
        "outputId": "d7ada352-b1f9-499a-9dc8-a59637b26c25"
      },
      "execution_count": 16,
      "outputs": [
        {
          "output_type": "display_data",
          "data": {
            "text/plain": [
              "<Figure size 720x360 with 2 Axes>"
            ],
            "image/png": "[encoded data removed]"
          },
          "metadata": {
            "needs_background": "light"
          }
        }
      ]
    },
    {
      "cell_type": "markdown",
      "source": [
        "### **First model accuracy**"
      ],
      "metadata": {
        "id": "BaVeKd_bKqfN"
      }
    },
    {
      "cell_type": "code",
      "source": [
        "def load_model(model_name):\n",
        "  from keras.models import load_model\n",
        "  model = load_model('/content/gdrive/MyDrive/Model/' + model_name)\n",
        "  return model\n",
        "\n",
        "def acc_chk(model, val):\n",
        "  acc = model.evaluate_generator(val)[1]\n",
        "  print('model accuracy: {}'.format(round(acc,4)))"
      ],
      "metadata": {
        "id": "hP9wc_VBKoll"
      },
      "execution_count": 36,
      "outputs": []
    },
    {
      "cell_type": "code",
      "source": [
        "# first model accuray\n",
        "model_simple = load_model('BrailleNet_simple.h5')\n",
        "acc = model_simple.evaluate_generator(val_generator)[1]\n",
        "print('model accuracy: {}'.format(round(acc,4)))"
      ],
      "metadata": {
        "id": "o4rcdw5iKs8w",
        "colab": {
          "base_uri": "https://localhost:8080/"
        },
        "outputId": "8bbe5def-faed-46c3-efad-d953ad3ed8f7"
      },
      "execution_count": 37,
      "outputs": [
        {
          "output_type": "stream",
          "name": "stderr",
          "text": [
            "<ipython-input-37-4eef31f6a2d2>:3: UserWarning: `Model.evaluate_generator` is deprecated and will be removed in a future version. Please use `Model.evaluate`, which supports generators.\n",
            "  acc = model_simple.evaluate_generator(val_generator)[1]\n"
          ]
        },
        {
          "output_type": "stream",
          "name": "stdout",
          "text": [
            "model accuracy: 0.8494\n"
          ]
        }
      ]
    },
    {
      "cell_type": "markdown",
      "source": [
        "# **5.2 Second Model**\n",
        "* Secondly, we detected CNN model with SeperableConv2D using Kaggle Data\n",
        "* Add Features:\n",
        "  * ReduceLROnPlateau : This is the part to improve the learning rate during model learning. If you fall into a local pit before reaching your final goal, adjust the learning rate to get out.\n",
        "  * EarlyStopping : If there is no significant change during learning, get out. Overfitting and underfitting can be properly determined.\n",
        "  * kernel_regularizer: Regularizer to apply a penalty on the layer's kernel using L2\n",
        "  * SperableConv2D\n",
        "\n",
        "\n",
        "###**SeperableConv2D [3]** \n",
        "* Depthwise Conv + Pointwise Conv\n",
        "  \n",
        "  <img src = \"https://drive.google.com/uc?id=159W63eJVfpUz_x98OIJWw75gWdOD-yNj\" height = 150 width = 500>\n",
        "\n",
        "* Comparing MobileNet results above consisting of general convs only with MobileNet below, which adds Depthwise Separable Convolution Layer, the accuracy is reduced, but Multi-Adds and parameters are reduced by about 88.3% and 85.7%.\n"
      ],
      "metadata": {
        "id": "y5z4PbtiKvBs"
      }
    },
    {
      "cell_type": "code",
      "source": [
        "#Using Seperable con \n",
        "\n",
        "from keras import backend as K\n",
        "from keras import layers as L\n",
        "from keras.models import Model,load_model\n",
        "from keras.regularizers import l2\n",
        "from keras.callbacks import ModelCheckpoint,ReduceLROnPlateau,EarlyStopping\n",
        "\n",
        "def Make_second_model(train,val):\n",
        "  K.clear_session()\n",
        "  reduce_lr = ReduceLROnPlateau(patience=8,verbose=0)\n",
        "  path = \"/content/gdrive/MyDrive/Model/\"\n",
        "  model_ckpt = ModelCheckpoint(path+'BrailleNet_second.h5',save_best_only=True)\n",
        "  early_stop = EarlyStopping(patience=15,verbose=1)\n",
        "  entry = L.Input(shape=(28, 28 ,3))\n",
        "  x = L.SeparableConv2D(64,(3,3),activation='relu')(entry)\n",
        "  x = L.MaxPooling2D((2,2))(x)\n",
        "  x = L.SeparableConv2D(128,(3,3),activation='relu')(x)\n",
        "  x = L.MaxPooling2D((2,2))(x)\n",
        "  x = L.SeparableConv2D(256,(2,2),activation='relu')(x)\n",
        "  x = L.GlobalMaxPooling2D()(x)\n",
        "  x = L.Dense(256)(x)\n",
        "  x = L.LeakyReLU()(x)\n",
        "  x = L.Dense(64,kernel_regularizer=l2(2e-4))(x)\n",
        "  x = L.LeakyReLU()(x)\n",
        "  x = L.Dense(26,activation='softmax')(x)\n",
        "  \n",
        "  model = Model(entry,x)\n",
        "  model.compile(loss='categorical_crossentropy',optimizer='adam',metrics=['accuracy'])\n",
        "  history = model.fit_generator(train_generator,validation_data=val_generator,epochs=30,\n",
        "                              callbacks=[model_ckpt,reduce_lr,early_stop],verbose=0)\n",
        "  return history"
      ],
      "metadata": {
        "id": "nZZK4jdbKtOi"
      },
      "execution_count": 38,
      "outputs": []
    },
    {
      "cell_type": "code",
      "source": [
        "history_second = Make_second_model(train_generator,val_generator)"
      ],
      "metadata": {
        "id": "PlU0un_yK38N",
        "colab": {
          "base_uri": "https://localhost:8080/"
        },
        "outputId": "81332f00-52f2-4ac3-bd9d-7978cb7d91b3"
      },
      "execution_count": 39,
      "outputs": [
        {
          "output_type": "stream",
          "name": "stderr",
          "text": [
            "<ipython-input-38-60278b2cacb5>:30: UserWarning: `Model.fit_generator` is deprecated and will be removed in a future version. Please use `Model.fit`, which supports generators.\n",
            "  history = model.fit_generator(train_generator,validation_data=val_generator,epochs=30,\n"
          ]
        }
      ]
    },
    {
      "cell_type": "markdown",
      "source": [
        "\n",
        "\n",
        "\n",
        "### **Second model visualize training results**"
      ],
      "metadata": {
        "id": "X_Qyo-WVK5bA"
      }
    },
    {
      "cell_type": "code",
      "source": [
        "print_acc_loss(history_second)"
      ],
      "metadata": {
        "id": "QmY9jYmlK5_z",
        "colab": {
          "base_uri": "https://localhost:8080/",
          "height": 334
        },
        "outputId": "13355f6e-f7f2-4048-d994-f9511190da3e"
      },
      "execution_count": 40,
      "outputs": [
        {
          "output_type": "display_data",
          "data": {
            "text/plain": [
              "<Figure size 720x360 with 2 Axes>"
            ],
            "image/png": "[encoded data removed]"
          },
          "metadata": {
            "needs_background": "light"
          }
        }
      ]
    },
    {
      "cell_type": "markdown",
      "source": [
        "### **Third model accuracy**"
      ],
      "metadata": {
        "id": "uTN0My0Kmikn"
      }
    },
    {
      "cell_type": "code",
      "source": [
        "from keras.models import Model,load_model\n",
        "path = \"/content/gdrive/MyDrive/Model/\"\n",
        "model_second = load_model(path + 'BrailleNet_second.h5')\n",
        "acc = model_second.evaluate_generator(val_generator)[1]\n",
        "print('model accuracy: {}'.format(round(acc,4)))"
      ],
      "metadata": {
        "colab": {
          "base_uri": "https://localhost:8080/"
        },
        "id": "7jOWp73SmbrF",
        "outputId": "bbab6a0f-c3da-4a61-dcb4-2643e7b3b63c"
      },
      "execution_count": 44,
      "outputs": [
        {
          "output_type": "stream",
          "name": "stderr",
          "text": [
            "<ipython-input-44-d7db9fb7e454>:4: UserWarning: `Model.evaluate_generator` is deprecated and will be removed in a future version. Please use `Model.evaluate`, which supports generators.\n",
            "  acc = model_second.evaluate_generator(val_generator)[1]\n"
          ]
        },
        {
          "output_type": "stream",
          "name": "stdout",
          "text": [
            "model accuracy: 0.8718\n"
          ]
        }
      ]
    },
    {
      "cell_type": "markdown",
      "source": [
        "# **5.3 Third Model**\n",
        "* Thirdly, we detected CNN model by referring to the contents of the paper [4].\n",
        "<img src = \"https://drive.google.com/uc?id=1TCEppgk86gHO_0N7sgcfUQpKxmsQyw9i\" height = 300 width = 500>\n",
        "* There are three ways to improve the performance of the CNN model:\n",
        "  * Increase channels\n",
        "  * Increase the layer\n",
        "  * Increase original resolution\n",
        "\n",
        "<img src = \"https://drive.google.com/uc?id=1yCQONsNp3YvSMbEPiKnZdmEKqrUYrlWg\" height = 300 width = 500>\n",
        "\n",
        "* In the same paper, show a higher performance growth rate when the resolution of the input image is high even in the same model.\n",
        "\n",
        "* ### **In CNN, the size of the filter is very important. The accuracy depends on how you use the filter.**\n",
        "\n",
        "```\n",
        " entry = L.Input(shape=(36,36,3))\n",
        "    x = L.SeparableConv2D(64,(3,3),activation='relu',padding ='same')(entry)\n",
        "    x = L.MaxPooling2D((2,2))(x)\n",
        "\n",
        "    x = L.SeparableConv2D(128,(3,3),activation='relu',padding ='same')(x)\n",
        "    x = L.MaxPooling2D((2,2))(x)\n",
        "\n",
        "    x = L.SeparableConv2D(256,(2,2),activation='relu',padding ='same')(x)\n",
        "    x = L.GlobalMaxPooling2D()(x)\n",
        "```\n",
        "* Using Conv2D, we find it using 64 kernels and its strid is 3*3.\n",
        "\n",
        "<img src = \"https://drive.google.com/uc?id=1k92Ls5MWK3lOei96U2It9GLGE4OlxZ98\" height = 300 width = 200>\n",
        "\n",
        "* When increasing the resolution, it is better to increase the stride value as well.\n",
        "\n",
        "* ### **Changed the resolution of the image to 50 * 50 and the filter size to 10 * 10**\n",
        "\n",
        "```\n",
        "    entry = L.Input(shape=(50,50,3))\n",
        "    x = L.SeparableConv2D(128, (10,10), activation='relu', padding='same')(entry)\n",
        "    x = L.MaxPooling2D((2, 2))(x)\n",
        "    x = L.SeparableConv2D(256,(10,10),activation='relu',padding ='same')(x)\n",
        "    x = L.MaxPooling2D((2,2))(x)\n",
        "```\n",
        "\n",
        "* This is the approximate size of the image and the size of the filter\n",
        "\n",
        "<img src = \"https://drive.google.com/uc?id=1RHLRBWx7ULvnQh7fCiQmPvxsj2c17Y4K\" height = 200 width = 150>"
      ],
      "metadata": {
        "id": "CQ7QWgT2K-hr"
      }
    },
    {
      "cell_type": "code",
      "source": [
        "from tensorflow.keras import backend as K\n",
        "from tensorflow.keras import layers as L\n",
        "from tensorflow.keras.models import Model\n",
        "from tensorflow.keras.regularizers import l2\n",
        "from tensorflow.keras.callbacks import ModelCheckpoint,ReduceLROnPlateau,EarlyStopping\n",
        "\n",
        "def Make_model(train, val):\n",
        "    K.clear_session()\n",
        "\n",
        "    model_ckpt = ModelCheckpoint('/content/gdrive/MyDrive/Model/BrailleNet_thrid.h5',save_best_only=True)\n",
        "    reduce_lr = ReduceLROnPlateau(patience=8,verbose=1)\n",
        "    early_stop = EarlyStopping(patience=5,verbose=2,monitor='accuracy')\n",
        "\n",
        "    entry = L.Input(shape=(50,50,3))\n",
        "    x = L.SeparableConv2D(128, (10,10), activation='relu', padding='same')(entry)\n",
        "    x = L.MaxPooling2D((2, 2))(x)\n",
        "    x = L.SeparableConv2D(256,(10,10),activation='relu',padding ='same')(x)\n",
        "    x = L.MaxPooling2D((2,2))(x)\n",
        "    x = L.SeparableConv2D(512,(10,10),activation='relu',padding ='same')(x)\n",
        "    x = L.GlobalMaxPooling2D()(x)\n",
        "\n",
        "    x = L.Dense(512)(x)\n",
        "    x = L.LeakyReLU()(x)\n",
        "    x = L.Dense(256)(x)\n",
        "    x = L.ReLU()(x)\n",
        "    x = L.Dense(128,kernel_regularizer=l2(2e-4))(x)\n",
        "    x = L.ReLU()(x)\n",
        "    x = L.Dense(26,activation='softmax')(x)\n",
        "\n",
        "    model = Model(entry,x)\n",
        "    model.compile(loss='categorical_crossentropy',optimizer='adam',metrics=['accuracy'])\n",
        "\n",
        "    history = model.fit_generator(train,validation_data=val,epochs=30,\n",
        "                                  callbacks=[model_ckpt,reduce_lr,early_stop],verbose=1)\n",
        "    \n",
        "    return history\n"
      ],
      "metadata": {
        "id": "YlyWXn1GK_jE"
      },
      "execution_count": 53,
      "outputs": []
    },
    {
      "cell_type": "code",
      "source": [
        "prev_img_dir = \"/content/gdrive/MyDrive/AI/teamProject/Data/existing_dataset/\"\n",
        "\n",
        "datagen = ImageDataGenerator(rotation_range=20,\n",
        "                             shear_range=10,\n",
        "                             validation_split=0.2)\n",
        "\n",
        "train_generator = datagen.flow_from_directory(prev_img_dir,\n",
        "                                              target_size=(50,50),\n",
        "                                              subset='training')\n",
        "\n",
        "val_generator = datagen.flow_from_directory(prev_img_dir,\n",
        "                                            target_size=(50,50),\n",
        "                                            subset='validation')"
      ],
      "metadata": {
        "colab": {
          "base_uri": "https://localhost:8080/"
        },
        "id": "kw1BtJXmnM89",
        "outputId": "37b95851-7a71-4ef5-c9ff-9bf0737208c5"
      },
      "execution_count": 49,
      "outputs": [
        {
          "output_type": "stream",
          "name": "stdout",
          "text": [
            "Found 1248 images belonging to 26 classes.\n",
            "Found 312 images belonging to 26 classes.\n"
          ]
        }
      ]
    },
    {
      "cell_type": "code",
      "source": [
        "history_third = Make_model(train_generator,val_generator)"
      ],
      "metadata": {
        "id": "pznpIp1dLBvq",
        "colab": {
          "base_uri": "https://localhost:8080/"
        },
        "outputId": "72d95d5f-db89-4265-82cd-5a5a7ab382bf"
      },
      "execution_count": 54,
      "outputs": [
        {
          "output_type": "stream",
          "name": "stdout",
          "text": [
            "Epoch 1/30\n"
          ]
        },
        {
          "output_type": "stream",
          "name": "stderr",
          "text": [
            "<ipython-input-53-399679881629>:33: UserWarning: `Model.fit_generator` is deprecated and will be removed in a future version. Please use `Model.fit`, which supports generators.\n",
            "  history = model.fit_generator(train,validation_data=val,epochs=30,\n"
          ]
        },
        {
          "output_type": "stream",
          "name": "stdout",
          "text": [
            "39/39 [==============================] - 6s 135ms/step - loss: 3.3032 - accuracy: 0.0353 - val_loss: 3.2775 - val_accuracy: 0.0321 - lr: 0.0010\n",
            "Epoch 2/30\n",
            "39/39 [==============================] - 4s 101ms/step - loss: 3.2630 - accuracy: 0.0345 - val_loss: 3.1831 - val_accuracy: 0.0801 - lr: 0.0010\n",
            "Epoch 3/30\n",
            "39/39 [==============================] - 4s 100ms/step - loss: 3.2490 - accuracy: 0.0449 - val_loss: 3.2622 - val_accuracy: 0.0385 - lr: 0.0010\n",
            "Epoch 4/30\n",
            "39/39 [==============================] - 5s 124ms/step - loss: 2.9319 - accuracy: 0.1170 - val_loss: 2.5004 - val_accuracy: 0.2564 - lr: 0.0010\n",
            "Epoch 5/30\n",
            "39/39 [==============================] - 4s 101ms/step - loss: 2.3360 - accuracy: 0.2564 - val_loss: 1.9816 - val_accuracy: 0.3558 - lr: 0.0010\n",
            "Epoch 6/30\n",
            "39/39 [==============================] - 4s 100ms/step - loss: 1.9921 - accuracy: 0.4103 - val_loss: 1.5714 - val_accuracy: 0.5321 - lr: 0.0010\n",
            "Epoch 7/30\n",
            "39/39 [==============================] - 4s 104ms/step - loss: 1.3955 - accuracy: 0.6098 - val_loss: 1.0583 - val_accuracy: 0.7019 - lr: 0.0010\n",
            "Epoch 8/30\n",
            "39/39 [==============================] - 4s 104ms/step - loss: 0.9959 - accuracy: 0.7276 - val_loss: 0.8428 - val_accuracy: 0.7436 - lr: 0.0010\n",
            "Epoch 9/30\n",
            "39/39 [==============================] - 4s 103ms/step - loss: 0.8505 - accuracy: 0.7476 - val_loss: 2.5867 - val_accuracy: 0.3526 - lr: 0.0010\n",
            "Epoch 10/30\n",
            "39/39 [==============================] - 4s 103ms/step - loss: 0.9671 - accuracy: 0.7276 - val_loss: 0.6980 - val_accuracy: 0.8013 - lr: 0.0010\n",
            "Epoch 11/30\n",
            "39/39 [==============================] - 4s 99ms/step - loss: 0.5799 - accuracy: 0.8301 - val_loss: 0.6684 - val_accuracy: 0.7981 - lr: 0.0010\n",
            "Epoch 12/30\n",
            "39/39 [==============================] - 4s 100ms/step - loss: 0.3956 - accuracy: 0.8918 - val_loss: 0.4142 - val_accuracy: 0.8782 - lr: 0.0010\n",
            "Epoch 13/30\n",
            "39/39 [==============================] - 4s 98ms/step - loss: 0.4341 - accuracy: 0.8654 - val_loss: 0.4372 - val_accuracy: 0.8718 - lr: 0.0010\n",
            "Epoch 14/30\n",
            "39/39 [==============================] - 4s 101ms/step - loss: 0.3911 - accuracy: 0.8902 - val_loss: 0.3784 - val_accuracy: 0.8910 - lr: 0.0010\n",
            "Epoch 15/30\n",
            "39/39 [==============================] - 4s 105ms/step - loss: 0.2793 - accuracy: 0.9255 - val_loss: 0.3727 - val_accuracy: 0.8846 - lr: 0.0010\n",
            "Epoch 16/30\n",
            "39/39 [==============================] - 4s 103ms/step - loss: 0.2400 - accuracy: 0.9295 - val_loss: 0.3595 - val_accuracy: 0.9103 - lr: 0.0010\n",
            "Epoch 17/30\n",
            "39/39 [==============================] - 5s 121ms/step - loss: 0.2929 - accuracy: 0.9119 - val_loss: 0.4406 - val_accuracy: 0.8846 - lr: 0.0010\n",
            "Epoch 18/30\n",
            "39/39 [==============================] - 4s 103ms/step - loss: 0.2891 - accuracy: 0.9095 - val_loss: 0.3102 - val_accuracy: 0.9231 - lr: 0.0010\n",
            "Epoch 19/30\n",
            "39/39 [==============================] - 5s 125ms/step - loss: 0.3033 - accuracy: 0.9135 - val_loss: 0.3543 - val_accuracy: 0.9103 - lr: 0.0010\n",
            "Epoch 20/30\n",
            "39/39 [==============================] - 6s 143ms/step - loss: 0.2773 - accuracy: 0.9191 - val_loss: 0.2233 - val_accuracy: 0.9263 - lr: 0.0010\n",
            "Epoch 21/30\n",
            "39/39 [==============================] - 4s 99ms/step - loss: 0.1699 - accuracy: 0.9543 - val_loss: 0.2699 - val_accuracy: 0.9327 - lr: 0.0010\n",
            "Epoch 22/30\n",
            "39/39 [==============================] - 4s 98ms/step - loss: 0.1888 - accuracy: 0.9447 - val_loss: 0.4332 - val_accuracy: 0.8782 - lr: 0.0010\n",
            "Epoch 23/30\n",
            "39/39 [==============================] - 4s 100ms/step - loss: 0.2426 - accuracy: 0.9255 - val_loss: 0.2411 - val_accuracy: 0.9455 - lr: 0.0010\n",
            "Epoch 24/30\n",
            "39/39 [==============================] - 4s 99ms/step - loss: 0.2473 - accuracy: 0.9279 - val_loss: 0.3230 - val_accuracy: 0.8974 - lr: 0.0010\n",
            "Epoch 25/30\n",
            "39/39 [==============================] - 5s 118ms/step - loss: 0.1457 - accuracy: 0.9575 - val_loss: 0.1822 - val_accuracy: 0.9487 - lr: 0.0010\n",
            "Epoch 26/30\n",
            "39/39 [==============================] - 4s 97ms/step - loss: 0.1796 - accuracy: 0.9487 - val_loss: 0.4970 - val_accuracy: 0.8878 - lr: 0.0010\n",
            "Epoch 27/30\n",
            "39/39 [==============================] - 4s 100ms/step - loss: 0.1503 - accuracy: 0.9543 - val_loss: 0.3004 - val_accuracy: 0.9295 - lr: 0.0010\n",
            "Epoch 28/30\n",
            "39/39 [==============================] - 4s 98ms/step - loss: 0.1414 - accuracy: 0.9583 - val_loss: 0.2596 - val_accuracy: 0.9199 - lr: 0.0010\n",
            "Epoch 29/30\n",
            "39/39 [==============================] - 4s 101ms/step - loss: 0.1124 - accuracy: 0.9639 - val_loss: 0.2188 - val_accuracy: 0.9423 - lr: 0.0010\n",
            "Epoch 30/30\n",
            "39/39 [==============================] - 4s 101ms/step - loss: 0.0986 - accuracy: 0.9696 - val_loss: 0.2941 - val_accuracy: 0.9359 - lr: 0.0010\n"
          ]
        }
      ]
    },
    {
      "cell_type": "markdown",
      "source": [
        "### **Third model visualize training results**\n",
        "\n"
      ],
      "metadata": {
        "id": "-Kvo9qjULDyk"
      }
    },
    {
      "cell_type": "code",
      "source": [
        "print_acc_loss(history_third)"
      ],
      "metadata": {
        "id": "tMyB720LLEHl",
        "colab": {
          "base_uri": "https://localhost:8080/",
          "height": 334
        },
        "outputId": "5e39ba3a-5994-4836-f73d-bfe054b4a323"
      },
      "execution_count": 55,
      "outputs": [
        {
          "output_type": "display_data",
          "data": {
            "text/plain": [
              "<Figure size 720x360 with 2 Axes>"
            ],
            "image/png": "[encoded data removed]"
          },
          "metadata": {
            "needs_background": "light"
          }
        }
      ]
    },
    {
      "cell_type": "markdown",
      "source": [
        "### **Third model accuracy**"
      ],
      "metadata": {
        "id": "vxchCYjeLGQD"
      }
    },
    {
      "cell_type": "code",
      "source": [
        "from keras.models import Model,load_model\n",
        "model_second = load_model('/content/gdrive/MyDrive/Model/BrailleNet_thrid.h5')\n",
        "acc = model_second.evaluate_generator(val_generator)[1]\n",
        "print('model accuracy: {}'.format(round(acc,4)))"
      ],
      "metadata": {
        "id": "jkJXa57WLGAZ",
        "colab": {
          "base_uri": "https://localhost:8080/"
        },
        "outputId": "06409f6b-ec5b-47cf-d89b-fbd3927bc3c3"
      },
      "execution_count": 57,
      "outputs": [
        {
          "output_type": "stream",
          "name": "stderr",
          "text": [
            "<ipython-input-57-81070074e61e>:3: UserWarning: `Model.evaluate_generator` is deprecated and will be removed in a future version. Please use `Model.evaluate`, which supports generators.\n",
            "  acc = model_second.evaluate_generator(val_generator)[1]\n"
          ]
        },
        {
          "output_type": "stream",
          "name": "stdout",
          "text": [
            "model accuracy: 0.9295\n"
          ]
        }
      ]
    },
    {
      "cell_type": "markdown",
      "source": [
        "# **5.4 Final braille Model**"
      ],
      "metadata": {
        "id": "GumQ7SdwLJTM"
      }
    },
    {
      "cell_type": "markdown",
      "source": [
        "### **Data Augmentation**\n",
        "* Using ImageDataGenerator\n",
        "* Generate 20 data images for each braille. \n",
        "* Generate 10 data images for space.\n"
      ],
      "metadata": {
        "id": "MfdoHLnyLNX8"
      }
    },
    {
      "cell_type": "code",
      "source": [
        "import os\n",
        "\n",
        "file_path = '/content/gdrive/MyDrive/AI/teamProject/Data'\n",
        "createFolder(file_path+'/new_dataset')"
      ],
      "metadata": {
        "id": "9gaAGLgsLI0r"
      },
      "execution_count": 58,
      "outputs": []
    },
    {
      "cell_type": "code",
      "source": [
        "import tensorflow as tf\n",
        "from tensorflow.keras.preprocessing.image import ImageDataGenerator, img_to_array, load_img\n",
        "\n",
        "datagen = ImageDataGenerator(\n",
        "        rotation_range=5,\n",
        "        width_shift_range=0.1,\n",
        "        height_shift_range=0.1,\n",
        "        shear_range=0.05,\n",
        "        zoom_range=0.01,\n",
        "        fill_mode='constant',\n",
        "        cval=255\n",
        "        )\n",
        "\n",
        "def newGenerateData():\n",
        "  files = os.listdir(file_path + '/dataset')\n",
        "  for file in files:\n",
        "    if(os.path.splitext(file)[1] == '.png'):\n",
        "      filename = os.path.splitext(file)[0]\n",
        "      createFolder(file_path + '/new_dataset/'+ filename)\n",
        "      img = load_img(file_path+'/dataset/'+file)  # PIL 이미지\n",
        "      x = img_to_array(img)\n",
        "      x = x.reshape((1,) + x.shape)\n",
        "      if file == 'space.png':\n",
        "        import shutil\n",
        "        for _ in range(10):\n",
        "          print(_,file, file_path +'/dataset/'+file)\n",
        "          shutil.copy(file_path+'/dataset/'+file, file_path + '/new_dataset/'+ filename + '/' + filename + str(_) + '.jpg')\n",
        "      else:\n",
        "        i = 0\n",
        "        for batch in datagen.flow(x, batch_size=1, save_to_dir= file_path + '/new_dataset/'+ filename, save_prefix=filename, save_format='jpg'):\n",
        "          i += 1\n",
        "          if i > 20:\n",
        "            break  \n",
        "\n",
        "newGenerateData()\n"
      ],
      "metadata": {
        "id": "WD53ExaPLP4l",
        "colab": {
          "base_uri": "https://localhost:8080/"
        },
        "outputId": "b97ad32d-660d-42e1-e8a2-e572d12ccd25"
      },
      "execution_count": 59,
      "outputs": [
        {
          "output_type": "stream",
          "name": "stdout",
          "text": [
            "0 space.png /content/gdrive/MyDrive/AI/teamProject/Data/dataset/space.png\n",
            "1 space.png /content/gdrive/MyDrive/AI/teamProject/Data/dataset/space.png\n",
            "2 space.png /content/gdrive/MyDrive/AI/teamProject/Data/dataset/space.png\n",
            "3 space.png /content/gdrive/MyDrive/AI/teamProject/Data/dataset/space.png\n",
            "4 space.png /content/gdrive/MyDrive/AI/teamProject/Data/dataset/space.png\n",
            "5 space.png /content/gdrive/MyDrive/AI/teamProject/Data/dataset/space.png\n",
            "6 space.png /content/gdrive/MyDrive/AI/teamProject/Data/dataset/space.png\n",
            "7 space.png /content/gdrive/MyDrive/AI/teamProject/Data/dataset/space.png\n",
            "8 space.png /content/gdrive/MyDrive/AI/teamProject/Data/dataset/space.png\n",
            "9 space.png /content/gdrive/MyDrive/AI/teamProject/Data/dataset/space.png\n"
          ]
        }
      ]
    },
    {
      "cell_type": "markdown",
      "source": [
        "### **Make training set and validation set**\n",
        "* Validation set : 20% of total data\n",
        "* Training set : 80% of total data"
      ],
      "metadata": {
        "id": "zA_wjhG_LR7o"
      }
    },
    {
      "cell_type": "code",
      "source": [
        "from keras_preprocessing.image import ImageDataGenerator\n",
        "\n",
        "def data_ready():\n",
        "    images_dir = '/content/gdrive/MyDrive/AI/teamProject/Data/new_dataset'\n",
        "\n",
        "    datagen = ImageDataGenerator(rotation_range=5,\n",
        "                                 shear_range=5,\n",
        "                                 validation_split=0.2,\n",
        "                                 ) #20%를 검증모델로 사용.\n",
        "\n",
        "    train_generator = datagen.flow_from_directory(images_dir,\n",
        "                                                  target_size=(50,50),\n",
        "                                                  subset='training')\n",
        "\n",
        "    val_generator = datagen.flow_from_directory(images_dir,\n",
        "                                                target_size=(50,50),\n",
        "                                                subset='validation')\n",
        "\n",
        "    return train_generator, val_generator\n",
        "\n",
        "def load_image(img_path, input_size):\n",
        "    images_dir = img_path\n",
        "    datagen = ImageDataGenerator()\n",
        "    real_generator = datagen.flow_from_directory(images_dir,\n",
        "                                                 target_size=(input_size, input_size))\n",
        "\n",
        "    return real_generator"
      ],
      "metadata": {
        "id": "yBlz_HSWLSON"
      },
      "execution_count": 60,
      "outputs": []
    },
    {
      "cell_type": "markdown",
      "source": [
        "### **Training final model**\n"
      ],
      "metadata": {
        "id": "Opb3E9igLY_M"
      }
    },
    {
      "cell_type": "code",
      "source": [
        "from tensorflow.keras import backend as K\n",
        "from tensorflow.keras import layers as L\n",
        "from tensorflow.keras.models import Model\n",
        "from tensorflow.keras.regularizers import l2\n",
        "from tensorflow.keras.callbacks import ModelCheckpoint,ReduceLROnPlateau,EarlyStopping\n",
        "\n",
        "def Make_final_model(train, val):\n",
        "    K.clear_session()\n",
        "\n",
        "    model_ckpt = ModelCheckpoint('/content/gdrive/MyDrive/Model/BrailleNet_final.h5',save_best_only=True)\n",
        "    reduce_lr = ReduceLROnPlateau(patience=8,verbose=1)\n",
        "    early_stop = EarlyStopping(patience=5,verbose=2,monitor='accuracy')\n",
        "\n",
        "    entry = L.Input(shape=(50,50,3))\n",
        "    x = L.SeparableConv2D(128, (10,10), activation='relu', padding='same')(entry)\n",
        "    x = L.MaxPooling2D((2, 2))(x)\n",
        "    x = L.SeparableConv2D(256,(10,10),activation='relu',padding ='same')(x)\n",
        "    x = L.MaxPooling2D((2,2))(x)\n",
        "    x = L.SeparableConv2D(512,(10,10),activation='relu',padding ='same')(x)\n",
        "    x = L.GlobalMaxPooling2D()(x)\n",
        "\n",
        "    x = L.Dense(512)(x)\n",
        "    x = L.LeakyReLU()(x)\n",
        "    x = L.Dense(256)(x)\n",
        "    x = L.ReLU()(x)\n",
        "    x = L.Dense(128,kernel_regularizer=l2(2e-4))(x)\n",
        "    x = L.ReLU()(x)\n",
        "    x = L.Dense(32,activation='softmax')(x)\n",
        "\n",
        "    model = Model(entry,x)\n",
        "    model.compile(loss='categorical_crossentropy',optimizer='adam',metrics=['accuracy'])\n",
        "\n",
        "    history = model.fit_generator(train,validation_data=val,epochs=30,\n",
        "                                  callbacks=[model_ckpt,reduce_lr,early_stop],verbose=1)\n",
        "    \n",
        "    return history"
      ],
      "metadata": {
        "id": "C8GBG-vvs1b8"
      },
      "execution_count": 64,
      "outputs": []
    },
    {
      "cell_type": "code",
      "source": [
        "train_generator, val_generator = data_ready()"
      ],
      "metadata": {
        "colab": {
          "base_uri": "https://localhost:8080/"
        },
        "id": "kFV8WdRQsiGV",
        "outputId": "65b3efd9-528b-4366-9b96-c126a8468802"
      },
      "execution_count": 63,
      "outputs": [
        {
          "output_type": "stream",
          "name": "stdout",
          "text": [
            "Found 535 images belonging to 32 classes.\n",
            "Found 126 images belonging to 32 classes.\n"
          ]
        }
      ]
    },
    {
      "cell_type": "code",
      "source": [
        "hist = Make_final_model(train_generator,val_generator)"
      ],
      "metadata": {
        "colab": {
          "base_uri": "https://localhost:8080/"
        },
        "id": "PcgJvDLktAKS",
        "outputId": "bbd504ee-00f7-4b32-cad6-242fcd910b50"
      },
      "execution_count": 65,
      "outputs": [
        {
          "output_type": "stream",
          "name": "stdout",
          "text": [
            "Epoch 1/30\n"
          ]
        },
        {
          "output_type": "stream",
          "name": "stderr",
          "text": [
            "<ipython-input-64-e4be545a87e3>:33: UserWarning: `Model.fit_generator` is deprecated and will be removed in a future version. Please use `Model.fit`, which supports generators.\n",
            "  history = model.fit_generator(train,validation_data=val,epochs=30,\n"
          ]
        },
        {
          "output_type": "stream",
          "name": "stdout",
          "text": [
            "17/17 [==============================] - 3s 138ms/step - loss: 3.5282 - accuracy: 0.0243 - val_loss: 3.4849 - val_accuracy: 0.0317 - lr: 0.0010\n",
            "Epoch 2/30\n",
            "17/17 [==============================] - 2s 115ms/step - loss: 3.4843 - accuracy: 0.0299 - val_loss: 3.4504 - val_accuracy: 0.0317 - lr: 0.0010\n",
            "Epoch 3/30\n",
            "17/17 [==============================] - 2s 117ms/step - loss: 3.3422 - accuracy: 0.0766 - val_loss: 2.8545 - val_accuracy: 0.2063 - lr: 0.0010\n",
            "Epoch 4/30\n",
            "17/17 [==============================] - 2s 113ms/step - loss: 2.1340 - accuracy: 0.3589 - val_loss: 1.1750 - val_accuracy: 0.6349 - lr: 0.0010\n",
            "Epoch 5/30\n",
            "17/17 [==============================] - 2s 112ms/step - loss: 0.8384 - accuracy: 0.7364 - val_loss: 0.5008 - val_accuracy: 0.8730 - lr: 0.0010\n",
            "Epoch 6/30\n",
            "17/17 [==============================] - 2s 112ms/step - loss: 0.2047 - accuracy: 0.9533 - val_loss: 0.0493 - val_accuracy: 0.9921 - lr: 0.0010\n",
            "Epoch 7/30\n",
            "17/17 [==============================] - 2s 109ms/step - loss: 0.0450 - accuracy: 0.9944 - val_loss: 0.0630 - val_accuracy: 0.9762 - lr: 0.0010\n",
            "Epoch 8/30\n",
            "17/17 [==============================] - 2s 112ms/step - loss: 0.0449 - accuracy: 0.9907 - val_loss: 0.0342 - val_accuracy: 0.9921 - lr: 0.0010\n",
            "Epoch 9/30\n",
            "17/17 [==============================] - 2s 109ms/step - loss: 0.1587 - accuracy: 0.9514 - val_loss: 0.0701 - val_accuracy: 0.9841 - lr: 0.0010\n",
            "Epoch 10/30\n",
            "17/17 [==============================] - 2s 111ms/step - loss: 0.0774 - accuracy: 0.9794 - val_loss: 0.0223 - val_accuracy: 1.0000 - lr: 0.0010\n",
            "Epoch 11/30\n",
            "17/17 [==============================] - 2s 110ms/step - loss: 0.0197 - accuracy: 1.0000 - val_loss: 0.0192 - val_accuracy: 1.0000 - lr: 0.0010\n",
            "Epoch 12/30\n",
            "17/17 [==============================] - 2s 114ms/step - loss: 0.0321 - accuracy: 0.9944 - val_loss: 0.0159 - val_accuracy: 1.0000 - lr: 0.0010\n",
            "Epoch 13/30\n",
            "17/17 [==============================] - 2s 110ms/step - loss: 0.0508 - accuracy: 0.9907 - val_loss: 0.0152 - val_accuracy: 1.0000 - lr: 0.0010\n",
            "Epoch 14/30\n",
            "17/17 [==============================] - 2s 102ms/step - loss: 0.0217 - accuracy: 0.9981 - val_loss: 0.0261 - val_accuracy: 0.9921 - lr: 0.0010\n",
            "Epoch 15/30\n",
            "17/17 [==============================] - 2s 114ms/step - loss: 0.0132 - accuracy: 1.0000 - val_loss: 0.0128 - val_accuracy: 1.0000 - lr: 0.0010\n",
            "Epoch 16/30\n",
            "17/17 [==============================] - 2s 113ms/step - loss: 0.0125 - accuracy: 1.0000 - val_loss: 0.0123 - val_accuracy: 1.0000 - lr: 0.0010\n",
            "Epoch 16: early stopping\n"
          ]
        }
      ]
    },
    {
      "cell_type": "markdown",
      "source": [
        "### **Final model visualize training results**\n"
      ],
      "metadata": {
        "id": "D0xKvedMtWbq"
      }
    },
    {
      "cell_type": "code",
      "source": [
        "print_acc_loss(hist)"
      ],
      "metadata": {
        "colab": {
          "base_uri": "https://localhost:8080/",
          "height": 334
        },
        "id": "KJ1n5WSytZco",
        "outputId": "09bc70cb-c536-4eaf-faa7-b59f8c50d3b4"
      },
      "execution_count": 66,
      "outputs": [
        {
          "output_type": "display_data",
          "data": {
            "text/plain": [
              "<Figure size 720x360 with 2 Axes>"
            ],
            "image/png": "[encoded data removed]"
          },
          "metadata": {
            "needs_background": "light"
          }
        }
      ]
    },
    {
      "cell_type": "markdown",
      "source": [
        "### **Final model accuracy**"
      ],
      "metadata": {
        "id": "VIfwo-Detdto"
      }
    },
    {
      "cell_type": "code",
      "source": [
        "from keras.models import Model,load_model\n",
        "model_final = load_model('/content/gdrive/MyDrive/Model/BrailleNet_final.h5')\n",
        "acc = model_final.evaluate_generator(val_generator)[1]\n",
        "print('model accuracy: {}'.format(round(acc,4)))"
      ],
      "metadata": {
        "colab": {
          "base_uri": "https://localhost:8080/"
        },
        "id": "xeJvJ_-AtZeu",
        "outputId": "d0be22e9-0adf-442f-85f3-e3db612e823e"
      },
      "execution_count": 67,
      "outputs": [
        {
          "output_type": "stream",
          "name": "stderr",
          "text": [
            "<ipython-input-67-36d4214d1c5e>:3: UserWarning: `Model.evaluate_generator` is deprecated and will be removed in a future version. Please use `Model.evaluate`, which supports generators.\n",
            "  acc = model_final.evaluate_generator(val_generator)[1]\n"
          ]
        },
        {
          "output_type": "stream",
          "name": "stdout",
          "text": [
            "model accuracy: 1.0\n"
          ]
        }
      ]
    },
    {
      "cell_type": "markdown",
      "source": [
        "# **5.5 Test using final braille model**"
      ],
      "metadata": {
        "id": "pDyfh9XHLr2t"
      }
    },
    {
      "cell_type": "code",
      "source": [
        "import PIL.Image as Img\n",
        "import numpy as np\n",
        "\n",
        "\n",
        "def get_test_img(path):\n",
        "  img = Img.open(path).convert('RGB')\n",
        "  img = img.resize((50,50))\n",
        "  x = img_to_array(img)\n",
        "  x = x.reshape((1,) + x.shape)\n",
        "\n",
        "  return x\n"
      ],
      "metadata": {
        "id": "VQvSECBbLpy9"
      },
      "execution_count": 81,
      "outputs": []
    },
    {
      "cell_type": "code",
      "source": [
        "from functools import update_wrapper\n",
        "from keras.models import Model,load_model\n",
        "import os\n",
        "from tensorflow.keras.preprocessing.image import ImageDataGenerator, img_to_array, load_img\n",
        "\n",
        "def decode_predict(result,labels):\n",
        "  max = np.max(result)\n",
        "  index = np.where(result == max)\n",
        "  return labels[index[1][0]]\n",
        "\n",
        "def translate(test_image):\n",
        "  dir = os.listdir('/content/gdrive/MyDrive/AI/teamProject/Data/dataset')\n",
        "  tmp = []\n",
        "  for file in dir:\n",
        "    if(os.path.splitext(file)[1] == '.png'):\n",
        "      tmp.append(file.split('.')[0])\n",
        "  dir = tmp\n",
        "  dir.sort()\n",
        "  print(dir)\n",
        "  model = load_model('/content/gdrive/MyDrive/Model/BrailleNet_final.h5')\n",
        "  result = model.predict(test_image)\n",
        "  decoded = decode_predict(result,dir)\n",
        "  return(decoded)\n",
        "\n",
        "def convert_test_img(input_img):\n",
        "  img = input_img.convert('RGB')\n",
        "  img = img.resize((50,50))\n",
        "  x = img_to_array(img)\n",
        "  x = x.reshape((1,) + x.shape)\n",
        "  return x"
      ],
      "metadata": {
        "id": "PmFti85ELsWN"
      },
      "execution_count": 82,
      "outputs": []
    },
    {
      "cell_type": "markdown",
      "source": [
        "### **Test character case using testset**"
      ],
      "metadata": {
        "id": "uo4PKNuqLu_9"
      }
    },
    {
      "cell_type": "code",
      "source": [
        "import PIL.Image as Img\n",
        "test_file = '/content/gdrive/MyDrive/AI/teamProject/Data/testset/test_q.png'\n",
        "input = get_test_img(test_file)\n",
        "print(translate(input))"
      ],
      "metadata": {
        "id": "2xd1GgB7LtyX",
        "colab": {
          "base_uri": "https://localhost:8080/"
        },
        "outputId": "60a62b78-3d70-4c4a-c77b-3900a4f15e7a"
      },
      "execution_count": 83,
      "outputs": [
        {
          "output_type": "stream",
          "name": "stdout",
          "text": [
            "['a', 'b', 'c', 'comma', 'd', 'e', 'exclamation_point', 'f', 'g', 'h', 'i', 'j', 'k', 'l', 'm', 'n', 'o', 'p', 'period', 'q', 'question_mark', 'r', 's', 'space', 't', 'u', 'upper', 'v', 'w', 'x', 'y', 'z']\n",
            "1/1 [==============================] - 0s 139ms/step\n",
            "q\n"
          ]
        }
      ]
    },
    {
      "cell_type": "markdown",
      "source": [
        "\n",
        "### **Make test case about sentence**\n",
        "* If you can enter input sentence, you make braille notation corresponding input.\n",
        "\n",
        "####Reason\n",
        "* It is difficult to crop braille pictures because the ratio of the images actually used is not accurate."
      ],
      "metadata": {
        "id": "LFMZat0kLyd1"
      }
    },
    {
      "cell_type": "code",
      "source": [
        "#Make test datset\n",
        "import cv2\n",
        "import numpy as np\n",
        "\n",
        "def make_test(word):\n",
        "  path = '/content/gdrive/MyDrive/AI/teamProject/Data/dataset'\n",
        "  store_path = '/content/gdrive/MyDrive/AI/teamProject/Data/dataset'\n",
        "  result_img = np.zeros((50,50,3), np.uint8)\n",
        "  for ch in word:\n",
        "    if ch == ' ':\n",
        "      img = cv2.imread(path+'/space.png')\n",
        "      img = cv2.resize(img,(50,50))\n",
        "      result_img = cv2.hconcat([result_img,img])\n",
        "    elif ch == '!':\n",
        "      img = cv2.imread(path+'/exclamation_point.png')\n",
        "      img = cv2.resize(img,(50,50))\n",
        "      result_img = cv2.hconcat([result_img,img])\n",
        "    elif ch == ',':\n",
        "      img = cv2.imread(path+'/comma.png')\n",
        "      img = cv2.resize(img,(50,50))\n",
        "      result_img = cv2.hconcat([result_img,img])\n",
        "    elif ch == '.':\n",
        "      img = cv2.imread(path+'/period.png')\n",
        "      img = cv2.resize(img,(50,50))\n",
        "      result_img = cv2.hconcat([result_img,img])\n",
        "    elif ch == '?':\n",
        "      img = cv2.imread(path+'/question_mark.png')\n",
        "      img = cv2.resize(img,(50,50))\n",
        "      result_img = cv2.hconcat([result_img,img])\n",
        "    else:\n",
        "      if word.find(ch) == 0:\n",
        "        if ch.isupper():\n",
        "          result_img = cv2.imread(path+'/upper.png')\n",
        "          result_img = cv2.resize(result_img,(50,50))\n",
        "          ch = ch.lower()\n",
        "          img = cv2.imread(path+'/'+ ch +'.png')\n",
        "          img = cv2.resize(img,(50,50))\n",
        "          result_img = cv2.hconcat([result_img,img])\n",
        "        else:\n",
        "          result_img = cv2.imread(path+'/'+ ch +'.png')\n",
        "          result_img = cv2.resize(result_img,(50,50))\n",
        "      else:\n",
        "        if ch.isupper():\n",
        "          print(ch)\n",
        "          img = cv2.imread(path+'/upper.png')\n",
        "          img = cv2.resize(img,(50,50))\n",
        "          result_img = cv2.hconcat([result_img,img])\n",
        "          ch = ch.lower()\n",
        "          img = cv2.imread(path+'/'+ ch +'.png')\n",
        "          img = cv2.resize(img,(50,50))\n",
        "          result_img = cv2.hconcat([result_img,img])\n",
        "        else:\n",
        "          img = cv2.imread(path+'/'+ ch +'.png')\n",
        "          img = cv2.resize(img,(50,50))\n",
        "          result_img = cv2.hconcat([result_img,img])\n",
        "  cv2.imwrite(store_path+'/'+word+'.png', result_img)\n",
        "make_test('I am a student')"
      ],
      "metadata": {
        "id": "NTBZ8-iuLySu"
      },
      "execution_count": null,
      "outputs": []
    },
    {
      "cell_type": "markdown",
      "source": [
        "### **Translate a set of english braille notation into English sentence**"
      ],
      "metadata": {
        "id": "zKEnAxcCL3B1"
      }
    },
    {
      "cell_type": "code",
      "source": [
        "from PIL import Image\n",
        "import os\n",
        "\n",
        "def divide_img(fileName):\n",
        "  path = '/content/gdrive/MyDrive/AI/teamProject/Data/testset/'\n",
        "  dir = os.listdir('/content/gdrive/MyDrive/AI/teamProject/Data/dataset')\n",
        "  tmp = []\n",
        "  for file in dir:\n",
        "    if(os.path.splitext(file)[1] == '.png'):\n",
        "      tmp.append(file.split('.')[0])\n",
        "      dir = tmp\n",
        "      dir.sort()\n",
        "  img = Image.open(path+fileName)\n",
        "  (width,height) = img.size\n",
        "  print(width, height)\n",
        "  iterate_num = width // height\n",
        "  iterate_num = int(iterate_num)\n",
        "  start_point = 0\n",
        "  size = height\n",
        "  end_point = height\n",
        "  text = ''\n",
        "\n",
        "  special_character_dir = {'space': ' ', 'exclamation_point': '!', 'comma': ',', 'period':'.', \n",
        "                           'question_mark': '?'}\n",
        "  keyList = special_character_dir.keys()\n",
        "  translated_sentence = ''\n",
        "  isUpper = False\n",
        "  for i in range(0, iterate_num):\n",
        "    area = (start_point, 0, end_point, height)\n",
        "    cropped_img = img.crop(area)\n",
        "    result = translate(convert_test_img(cropped_img))\n",
        "    start_point = end_point\n",
        "    end_point += size\n",
        "    if result == 'upper':\n",
        "      isUpper = True\n",
        "      continue\n",
        "    if isUpper == True:\n",
        "      result = result.upper()\n",
        "      isUpper = False\n",
        "    if result in keyList:\n",
        "      result = special_character_dir[result]\n",
        "    print(result)\n",
        "    translated_sentence += result\n",
        "\n",
        "  return translated_sentence\n",
        "result = divide_img('I like busy place.png')"
      ],
      "metadata": {
        "id": "v_itjl3nL3S8",
        "colab": {
          "base_uri": "https://localhost:8080/"
        },
        "outputId": "15520cac-26d7-4847-c254-aea7794f6ef9"
      },
      "execution_count": 252,
      "outputs": [
        {
          "output_type": "stream",
          "name": "stdout",
          "text": [
            "648 36\n",
            "['a', 'b', 'c', 'comma', 'd', 'e', 'exclamation_point', 'f', 'g', 'h', 'i', 'j', 'k', 'l', 'm', 'n', 'o', 'p', 'period', 'q', 'question_mark', 'r', 's', 'space', 't', 'u', 'upper', 'v', 'w', 'x', 'y', 'z']\n",
            "1/1 [==============================] - 0s 81ms/step\n",
            "['a', 'b', 'c', 'comma', 'd', 'e', 'exclamation_point', 'f', 'g', 'h', 'i', 'j', 'k', 'l', 'm', 'n', 'o', 'p', 'period', 'q', 'question_mark', 'r', 's', 'space', 't', 'u', 'upper', 'v', 'w', 'x', 'y', 'z']\n",
            "1/1 [==============================] - 0s 181ms/step\n",
            "I\n",
            "['a', 'b', 'c', 'comma', 'd', 'e', 'exclamation_point', 'f', 'g', 'h', 'i', 'j', 'k', 'l', 'm', 'n', 'o', 'p', 'period', 'q', 'question_mark', 'r', 's', 'space', 't', 'u', 'upper', 'v', 'w', 'x', 'y', 'z']\n",
            "1/1 [==============================] - 0s 81ms/step\n",
            " \n",
            "['a', 'b', 'c', 'comma', 'd', 'e', 'exclamation_point', 'f', 'g', 'h', 'i', 'j', 'k', 'l', 'm', 'n', 'o', 'p', 'period', 'q', 'question_mark', 'r', 's', 'space', 't', 'u', 'upper', 'v', 'w', 'x', 'y', 'z']\n",
            "1/1 [==============================] - 0s 81ms/step\n",
            "l\n",
            "['a', 'b', 'c', 'comma', 'd', 'e', 'exclamation_point', 'f', 'g', 'h', 'i', 'j', 'k', 'l', 'm', 'n', 'o', 'p', 'period', 'q', 'question_mark', 'r', 's', 'space', 't', 'u', 'upper', 'v', 'w', 'x', 'y', 'z']\n",
            "1/1 [==============================] - 0s 98ms/step\n",
            "i\n",
            "['a', 'b', 'c', 'comma', 'd', 'e', 'exclamation_point', 'f', 'g', 'h', 'i', 'j', 'k', 'l', 'm', 'n', 'o', 'p', 'period', 'q', 'question_mark', 'r', 's', 'space', 't', 'u', 'upper', 'v', 'w', 'x', 'y', 'z']\n",
            "1/1 [==============================] - 0s 80ms/step\n",
            "k\n",
            "['a', 'b', 'c', 'comma', 'd', 'e', 'exclamation_point', 'f', 'g', 'h', 'i', 'j', 'k', 'l', 'm', 'n', 'o', 'p', 'period', 'q', 'question_mark', 'r', 's', 'space', 't', 'u', 'upper', 'v', 'w', 'x', 'y', 'z']\n",
            "1/1 [==============================] - 0s 83ms/step\n",
            "e\n",
            "['a', 'b', 'c', 'comma', 'd', 'e', 'exclamation_point', 'f', 'g', 'h', 'i', 'j', 'k', 'l', 'm', 'n', 'o', 'p', 'period', 'q', 'question_mark', 'r', 's', 'space', 't', 'u', 'upper', 'v', 'w', 'x', 'y', 'z']\n",
            "1/1 [==============================] - 0s 85ms/step\n",
            " \n",
            "['a', 'b', 'c', 'comma', 'd', 'e', 'exclamation_point', 'f', 'g', 'h', 'i', 'j', 'k', 'l', 'm', 'n', 'o', 'p', 'period', 'q', 'question_mark', 'r', 's', 'space', 't', 'u', 'upper', 'v', 'w', 'x', 'y', 'z']\n",
            "1/1 [==============================] - 0s 79ms/step\n",
            "b\n",
            "['a', 'b', 'c', 'comma', 'd', 'e', 'exclamation_point', 'f', 'g', 'h', 'i', 'j', 'k', 'l', 'm', 'n', 'o', 'p', 'period', 'q', 'question_mark', 'r', 's', 'space', 't', 'u', 'upper', 'v', 'w', 'x', 'y', 'z']\n",
            "1/1 [==============================] - 0s 83ms/step\n",
            "u\n",
            "['a', 'b', 'c', 'comma', 'd', 'e', 'exclamation_point', 'f', 'g', 'h', 'i', 'j', 'k', 'l', 'm', 'n', 'o', 'p', 'period', 'q', 'question_mark', 'r', 's', 'space', 't', 'u', 'upper', 'v', 'w', 'x', 'y', 'z']\n",
            "1/1 [==============================] - 0s 87ms/step\n",
            "s\n",
            "['a', 'b', 'c', 'comma', 'd', 'e', 'exclamation_point', 'f', 'g', 'h', 'i', 'j', 'k', 'l', 'm', 'n', 'o', 'p', 'period', 'q', 'question_mark', 'r', 's', 'space', 't', 'u', 'upper', 'v', 'w', 'x', 'y', 'z']\n",
            "1/1 [==============================] - 0s 77ms/step\n",
            "y\n",
            "['a', 'b', 'c', 'comma', 'd', 'e', 'exclamation_point', 'f', 'g', 'h', 'i', 'j', 'k', 'l', 'm', 'n', 'o', 'p', 'period', 'q', 'question_mark', 'r', 's', 'space', 't', 'u', 'upper', 'v', 'w', 'x', 'y', 'z']\n",
            "1/1 [==============================] - 0s 79ms/step\n",
            " \n",
            "['a', 'b', 'c', 'comma', 'd', 'e', 'exclamation_point', 'f', 'g', 'h', 'i', 'j', 'k', 'l', 'm', 'n', 'o', 'p', 'period', 'q', 'question_mark', 'r', 's', 'space', 't', 'u', 'upper', 'v', 'w', 'x', 'y', 'z']\n",
            "1/1 [==============================] - 0s 91ms/step\n",
            "p\n",
            "['a', 'b', 'c', 'comma', 'd', 'e', 'exclamation_point', 'f', 'g', 'h', 'i', 'j', 'k', 'l', 'm', 'n', 'o', 'p', 'period', 'q', 'question_mark', 'r', 's', 'space', 't', 'u', 'upper', 'v', 'w', 'x', 'y', 'z']\n",
            "1/1 [==============================] - 0s 80ms/step\n",
            "l\n",
            "['a', 'b', 'c', 'comma', 'd', 'e', 'exclamation_point', 'f', 'g', 'h', 'i', 'j', 'k', 'l', 'm', 'n', 'o', 'p', 'period', 'q', 'question_mark', 'r', 's', 'space', 't', 'u', 'upper', 'v', 'w', 'x', 'y', 'z']\n",
            "1/1 [==============================] - 0s 81ms/step\n",
            "a\n",
            "['a', 'b', 'c', 'comma', 'd', 'e', 'exclamation_point', 'f', 'g', 'h', 'i', 'j', 'k', 'l', 'm', 'n', 'o', 'p', 'period', 'q', 'question_mark', 'r', 's', 'space', 't', 'u', 'upper', 'v', 'w', 'x', 'y', 'z']\n",
            "1/1 [==============================] - 0s 92ms/step\n",
            "c\n",
            "['a', 'b', 'c', 'comma', 'd', 'e', 'exclamation_point', 'f', 'g', 'h', 'i', 'j', 'k', 'l', 'm', 'n', 'o', 'p', 'period', 'q', 'question_mark', 'r', 's', 'space', 't', 'u', 'upper', 'v', 'w', 'x', 'y', 'z']\n",
            "1/1 [==============================] - 0s 84ms/step\n",
            "e\n"
          ]
        }
      ]
    },
    {
      "cell_type": "code",
      "source": [
        "result"
      ],
      "metadata": {
        "id": "6mMYTGqXL6Ed",
        "colab": {
          "base_uri": "https://localhost:8080/",
          "height": 35
        },
        "outputId": "2bac5bb5-dca5-4261-f697-d111083816ac"
      },
      "execution_count": 253,
      "outputs": [
        {
          "output_type": "execute_result",
          "data": {
            "text/plain": [
              "'I like busy place'"
            ],
            "application/vnd.google.colaboratory.intrinsic+json": {
              "type": "string"
            }
          },
          "metadata": {},
          "execution_count": 253
        }
      ]
    },
    {
      "cell_type": "code",
      "source": [
        "braille_sentence = result"
      ],
      "metadata": {
        "id": "jZb-JqqpZr7f"
      },
      "execution_count": 254,
      "outputs": []
    },
    {
      "cell_type": "markdown",
      "source": [
        "#  **Part2. NMT model (English -> French)**\n"
      ],
      "metadata": {
        "id": "sqeK8VzxOlmd"
      }
    },
    {
      "cell_type": "code",
      "source": [
        "from google.colab import drive\n",
        "drive.mount('/content/gdrive/') "
      ],
      "metadata": {
        "colab": {
          "base_uri": "https://localhost:8080/"
        },
        "id": "NlZ0kYVb8ioM",
        "outputId": "ac5dbb1b-0526-4ae4-d1d5-9d6d93a22c82"
      },
      "execution_count": null,
      "outputs": [
        {
          "output_type": "stream",
          "name": "stdout",
          "text": [
            "Mounted at /content/gdrive/\n"
          ]
        }
      ]
    },
    {
      "cell_type": "code",
      "source": [
        "import os\n",
        "import re\n",
        "import shutil\n",
        "import zipfile\n",
        "\n",
        "import numpy as np\n",
        "import pandas as pd\n",
        "import tensorflow as tf\n",
        "import unicodedata\n",
        "import urllib3\n",
        "from tensorflow.keras.layers import Embedding, GRU, Dense\n",
        "from tensorflow.keras.preprocessing.sequence import pad_sequences\n",
        "from tensorflow.keras.preprocessing.text import Tokenizer"
      ],
      "metadata": {
        "id": "gPZO7fF-huhk"
      },
      "execution_count": 100,
      "outputs": []
    },
    {
      "cell_type": "markdown",
      "source": [
        "### **Data**\n",
        "\n",
        "* Parallel corpus data \n",
        "\n",
        "- source: English\n",
        "\n",
        "- target: French\n",
        "\n"
      ],
      "metadata": {
        "id": "Z-5Aa2bshpqN"
      }
    },
    {
      "cell_type": "code",
      "source": [
        "length = 0\n",
        "with open(\"./gdrive/MyDrive/AI/teamProject/fra.txt\", \"r\", encoding='UTF-8') as lines:\n",
        "        for i, line in enumerate(lines):\n",
        "            length+=1\n",
        "print(length)"
      ],
      "metadata": {
        "colab": {
          "base_uri": "https://localhost:8080/"
        },
        "id": "R0Y3A2UKmsSu",
        "outputId": "676668bb-ff77-4a33-98f4-41de38606f8d"
      },
      "execution_count": null,
      "outputs": [
        {
          "output_type": "stream",
          "name": "stdout",
          "text": [
            "197463\n"
          ]
        }
      ]
    },
    {
      "cell_type": "code",
      "source": [
        "import pandas as pd\n",
        "data = pd.read_csv(\"./gdrive/MyDrive/AI/teamProject/fra.txt\", delimiter = \"\\t\")\n",
        "data.columns = [\"en\", \"fr\", \"cc\"]\n",
        "data"
      ],
      "metadata": {
        "colab": {
          "base_uri": "https://localhost:8080/",
          "height": 641
        },
        "id": "LLk6wspjpG2Q",
        "outputId": "994ea284-5f66-4a9a-b3f1-f5eb74d39a46"
      },
      "execution_count": 101,
      "outputs": [
        {
          "output_type": "execute_result",
          "data": {
            "text/plain": [
              "                                                       en  \\\n",
              "0                                                     Go.   \n",
              "1                                                     Go.   \n",
              "2                                                     Go.   \n",
              "3                                                     Hi.   \n",
              "4                                                     Hi.   \n",
              "...                                                   ...   \n",
              "197457  A carbon footprint is the amount of carbon dio...   \n",
              "197458  Death is something that we're often discourage...   \n",
              "197459  Since there are usually multiple websites on a...   \n",
              "197460  If someone who doesn't know your background sa...   \n",
              "197461  It may be impossible to get a completely error...   \n",
              "\n",
              "                                                       fr  \\\n",
              "0                                                 Marche.   \n",
              "1                                              En route !   \n",
              "2                                                 Bouge !   \n",
              "3                                                 Salut !   \n",
              "4                                                  Salut.   \n",
              "...                                                   ...   \n",
              "197457  Une empreinte carbone est la somme de pollutio...   \n",
              "197458  La mort est une chose qu'on nous décourage sou...   \n",
              "197459  Puisqu'il y a de multiples sites web sur chaqu...   \n",
              "197460  Si quelqu'un qui ne connaît pas vos antécédent...   \n",
              "197461  Il est peut-être impossible d'obtenir un Corpu...   \n",
              "\n",
              "                                                       cc  \n",
              "0       CC-BY 2.0 (France) Attribution: tatoeba.org #2...  \n",
              "1       CC-BY 2.0 (France) Attribution: tatoeba.org #2...  \n",
              "2       CC-BY 2.0 (France) Attribution: tatoeba.org #2...  \n",
              "3       CC-BY 2.0 (France) Attribution: tatoeba.org #5...  \n",
              "4       CC-BY 2.0 (France) Attribution: tatoeba.org #5...  \n",
              "...                                                   ...  \n",
              "197457  CC-BY 2.0 (France) Attribution: tatoeba.org #1...  \n",
              "197458  CC-BY 2.0 (France) Attribution: tatoeba.org #1...  \n",
              "197459  CC-BY 2.0 (France) Attribution: tatoeba.org #9...  \n",
              "197460  CC-BY 2.0 (France) Attribution: tatoeba.org #9...  \n",
              "197461  CC-BY 2.0 (France) Attribution: tatoeba.org #2...  \n",
              "\n",
              "[197462 rows x 3 columns]"
            ],
            "text/html": [
              "\n",
              "  <div id=\"df-7aa3fabd-a536-4fe9-abb6-1d24d2f723e7\">\n",
              "    <div class=\"colab-df-container\">\n",
              "      <div>\n",
              "<style scoped>\n",
              "    .dataframe tbody tr th:only-of-type {\n",
              "        vertical-align: middle;\n",
              "    }\n",
              "\n",
              "    .dataframe tbody tr th {\n",
              "        vertical-align: top;\n",
              "    }\n",
              "\n",
              "    .dataframe thead th {\n",
              "        text-align: right;\n",
              "    }\n",
              "</style>\n",
              "<table border=\"1\" class=\"dataframe\">\n",
              "  <thead>\n",
              "    <tr style=\"text-align: right;\">\n",
              "      <th></th>\n",
              "      <th>en</th>\n",
              "      <th>fr</th>\n",
              "      <th>cc</th>\n",
              "    </tr>\n",
              "  </thead>\n",
              "  <tbody>\n",
              "    <tr>\n",
              "      <th>0</th>\n",
              "      <td>Go.</td>\n",
              "      <td>Marche.</td>\n",
              "      <td>CC-BY 2.0 (France) Attribution: tatoeba.org #2...</td>\n",
              "    </tr>\n",
              "    <tr>\n",
              "      <th>1</th>\n",
              "      <td>Go.</td>\n",
              "      <td>En route !</td>\n",
              "      <td>CC-BY 2.0 (France) Attribution: tatoeba.org #2...</td>\n",
              "    </tr>\n",
              "    <tr>\n",
              "      <th>2</th>\n",
              "      <td>Go.</td>\n",
              "      <td>Bouge !</td>\n",
              "      <td>CC-BY 2.0 (France) Attribution: tatoeba.org #2...</td>\n",
              "    </tr>\n",
              "    <tr>\n",
              "      <th>3</th>\n",
              "      <td>Hi.</td>\n",
              "      <td>Salut !</td>\n",
              "      <td>CC-BY 2.0 (France) Attribution: tatoeba.org #5...</td>\n",
              "    </tr>\n",
              "    <tr>\n",
              "      <th>4</th>\n",
              "      <td>Hi.</td>\n",
              "      <td>Salut.</td>\n",
              "      <td>CC-BY 2.0 (France) Attribution: tatoeba.org #5...</td>\n",
              "    </tr>\n",
              "    <tr>\n",
              "      <th>...</th>\n",
              "      <td>...</td>\n",
              "      <td>...</td>\n",
              "      <td>...</td>\n",
              "    </tr>\n",
              "    <tr>\n",
              "      <th>197457</th>\n",
              "      <td>A carbon footprint is the amount of carbon dio...</td>\n",
              "      <td>Une empreinte carbone est la somme de pollutio...</td>\n",
              "      <td>CC-BY 2.0 (France) Attribution: tatoeba.org #1...</td>\n",
              "    </tr>\n",
              "    <tr>\n",
              "      <th>197458</th>\n",
              "      <td>Death is something that we're often discourage...</td>\n",
              "      <td>La mort est une chose qu'on nous décourage sou...</td>\n",
              "      <td>CC-BY 2.0 (France) Attribution: tatoeba.org #1...</td>\n",
              "    </tr>\n",
              "    <tr>\n",
              "      <th>197459</th>\n",
              "      <td>Since there are usually multiple websites on a...</td>\n",
              "      <td>Puisqu'il y a de multiples sites web sur chaqu...</td>\n",
              "      <td>CC-BY 2.0 (France) Attribution: tatoeba.org #9...</td>\n",
              "    </tr>\n",
              "    <tr>\n",
              "      <th>197460</th>\n",
              "      <td>If someone who doesn't know your background sa...</td>\n",
              "      <td>Si quelqu'un qui ne connaît pas vos antécédent...</td>\n",
              "      <td>CC-BY 2.0 (France) Attribution: tatoeba.org #9...</td>\n",
              "    </tr>\n",
              "    <tr>\n",
              "      <th>197461</th>\n",
              "      <td>It may be impossible to get a completely error...</td>\n",
              "      <td>Il est peut-être impossible d'obtenir un Corpu...</td>\n",
              "      <td>CC-BY 2.0 (France) Attribution: tatoeba.org #2...</td>\n",
              "    </tr>\n",
              "  </tbody>\n",
              "</table>\n",
              "<p>197462 rows × 3 columns</p>\n",
              "</div>\n",
              "      <button class=\"colab-df-convert\" onclick=\"convertToInteractive('df-7aa3fabd-a536-4fe9-abb6-1d24d2f723e7')\"\n",
              "              title=\"Convert this dataframe to an interactive table.\"\n",
              "              style=\"display:none;\">\n",
              "        \n",
              "  <svg xmlns=\"http://www.w3.org/2000/svg\" height=\"24px\"viewBox=\"0 0 24 24\"\n",
              "       width=\"24px\">\n",
              "    <path d=\"M0 0h24v24H0V0z\" fill=\"none\"/>\n",
              "    <path d=\"M18.56 5.44l.94 2.06.94-2.06 2.06-.94-2.06-.94-.94-2.06-.94 2.06-2.06.94zm-11 1L8.5 8.5l.94-2.06 2.06-.94-2.06-.94L8.5 2.5l-.94 2.06-2.06.94zm10 10l.94 2.06.94-2.06 2.06-.94-2.06-.94-.94-2.06-.94 2.06-2.06.94z\"/><path d=\"M17.41 7.96l-1.37-1.37c-.4-.4-.92-.59-1.43-.59-.52 0-1.04.2-1.43.59L10.3 9.45l-7.72 7.72c-.78.78-.78 2.05 0 2.83L4 21.41c.39.39.9.59 1.41.59.51 0 1.02-.2 1.41-.59l7.78-7.78 2.81-2.81c.8-.78.8-2.07 0-2.86zM5.41 20L4 18.59l7.72-7.72 1.47 1.35L5.41 20z\"/>\n",
              "  </svg>\n",
              "      </button>\n",
              "      \n",
              "  <style>\n",
              "    .colab-df-container {\n",
              "      display:flex;\n",
              "      flex-wrap:wrap;\n",
              "      gap: 12px;\n",
              "    }\n",
              "\n",
              "    .colab-df-convert {\n",
              "      background-color: #E8F0FE;\n",
              "      border: none;\n",
              "      border-radius: 50%;\n",
              "      cursor: pointer;\n",
              "      display: none;\n",
              "      fill: #1967D2;\n",
              "      height: 32px;\n",
              "      padding: 0 0 0 0;\n",
              "      width: 32px;\n",
              "    }\n",
              "\n",
              "    .colab-df-convert:hover {\n",
              "      background-color: #E2EBFA;\n",
              "      box-shadow: 0px 1px 2px rgba(60, 64, 67, 0.3), 0px 1px 3px 1px rgba(60, 64, 67, 0.15);\n",
              "      fill: #174EA6;\n",
              "    }\n",
              "\n",
              "    [theme=dark] .colab-df-convert {\n",
              "      background-color: #3B4455;\n",
              "      fill: #D2E3FC;\n",
              "    }\n",
              "\n",
              "    [theme=dark] .colab-df-convert:hover {\n",
              "      background-color: #434B5C;\n",
              "      box-shadow: 0px 1px 3px 1px rgba(0, 0, 0, 0.15);\n",
              "      filter: drop-shadow(0px 1px 2px rgba(0, 0, 0, 0.3));\n",
              "      fill: #FFFFFF;\n",
              "    }\n",
              "  </style>\n",
              "\n",
              "      <script>\n",
              "        const buttonEl =\n",
              "          document.querySelector('#df-7aa3fabd-a536-4fe9-abb6-1d24d2f723e7 button.colab-df-convert');\n",
              "        buttonEl.style.display =\n",
              "          google.colab.kernel.accessAllowed ? 'block' : 'none';\n",
              "\n",
              "        async function convertToInteractive(key) {\n",
              "          const element = document.querySelector('#df-7aa3fabd-a536-4fe9-abb6-1d24d2f723e7');\n",
              "          const dataTable =\n",
              "            await google.colab.kernel.invokeFunction('convertToInteractive',\n",
              "                                                     [key], {});\n",
              "          if (!dataTable) return;\n",
              "\n",
              "          const docLinkHtml = 'Like what you see? Visit the ' +\n",
              "            '<a target=\"_blank\" href=https://colab.research.google.com/notebooks/data_table.ipynb>data table notebook</a>'\n",
              "            + ' to learn more about interactive tables.';\n",
              "          element.innerHTML = '';\n",
              "          dataTable['output_type'] = 'display_data';\n",
              "          await google.colab.output.renderOutput(dataTable, element);\n",
              "          const docLink = document.createElement('div');\n",
              "          docLink.innerHTML = docLinkHtml;\n",
              "          element.appendChild(docLink);\n",
              "        }\n",
              "      </script>\n",
              "    </div>\n",
              "  </div>\n",
              "  "
            ]
          },
          "metadata": {},
          "execution_count": 101
        }
      ]
    },
    {
      "cell_type": "markdown",
      "source": [
        "## **Data Preprocessing**"
      ],
      "metadata": {
        "id": "JE0m29pUlf4A"
      }
    },
    {
      "cell_type": "code",
      "source": [
        "def to_ascii(s):\n",
        "    # delete accent in French\n",
        "    # EX) : 'déjà diné' -> deja dine\n",
        "    return ''.join(c for c in unicodedata.normalize('NFD', s)\n",
        "                   if unicodedata.category(c) != 'Mn')\n",
        "\n",
        "def preprocess_sentence(sent):\n",
        "    # Call accent deletion function\n",
        "    sent = to_ascii(sent.lower())\n",
        "    \n",
        "    # Add blank between word and punctuation \n",
        "    # ex) \"I am a student.\" => \"I am a student .\"\n",
        "    sent = re.sub(r\"([?.!,¿])\", r\" \\1\", sent)\n",
        "    \n",
        "    # Except (a-z, A-Z, \".\", \"?\", \"!\", \",\"), transform others to blank\n",
        "    sent = re.sub(r\"[^a-zA-Z!.?]+\", r\" \", sent)\n",
        "    \n",
        "    # Transform multiple blanks to one blank\n",
        "    sent = re.sub(r\"\\s+\", \" \", sent)\n",
        "    \n",
        "    return sent"
      ],
      "metadata": {
        "id": "x0WkR49X9Qq8"
      },
      "execution_count": 102,
      "outputs": []
    },
    {
      "cell_type": "code",
      "source": [
        "# Preprocessing Test\n",
        "en_sent = u\"Have you had dinner?\"\n",
        "fr_sent = u\"Avez-vous déjà diné?\"\n",
        "\n",
        "print('Before preprocessing English sentence :', en_sent)\n",
        "print('After preprocessing English sentence :',preprocess_sentence(en_sent))\n",
        "print('Before preprocessing French sentence :', fr_sent)\n",
        "print('After preprocessing French sentence :', preprocess_sentence(fr_sent))"
      ],
      "metadata": {
        "colab": {
          "base_uri": "https://localhost:8080/"
        },
        "id": "rJdUEWO39Sfq",
        "outputId": "94ce5ee2-4614-4b47-9564-ecec52da22df"
      },
      "execution_count": 103,
      "outputs": [
        {
          "output_type": "stream",
          "name": "stdout",
          "text": [
            "Before preprocessing English sentence : Have you had dinner?\n",
            "After preprocessing English sentence : have you had dinner ?\n",
            "Before preprocessing French sentence : Avez-vous déjà diné?\n",
            "After preprocessing French sentence : avez vous deja dine ?\n"
          ]
        }
      ]
    },
    {
      "cell_type": "code",
      "source": [
        "def load_preprocessed_data():\n",
        "    encoder_input, decoder_input, decoder_target = [], [], []\n",
        "    src_seqlen = 0\n",
        "    tar_seqlen = 0\n",
        "    with open(\"./gdrive/MyDrive/AI/teamProject/fra.txt\", \"r\", encoding='UTF-8') as lines:\n",
        "        for i, line in enumerate(lines):\n",
        "            # split source data and target data \n",
        "            src_line, tar_line, _ = line.strip().split('\\t')\n",
        "            \n",
        "            # preprocess source data\n",
        "            preprocessed_sen = preprocess_sentence(src_line)\n",
        "            src_line = [w for w in preprocessed_sen.split()]\n",
        "            for w in preprocessed_sen.split():\n",
        "              if len(w) > src_seqlen:\n",
        "                src_seqlen = len(w)\n",
        "            \n",
        "            # preprocess target data -> we'll use teacher forcing in training phase, so divide decoder's input sequence and original value (label)\n",
        "            tar_line = preprocess_sentence(tar_line)\n",
        "            for w in tar_line.split():\n",
        "              if len(w) > tar_seqlen:\n",
        "                tar_seqlen = len(w)\n",
        "            #  For target sequence (French) adding <sos> meaning start and <eos> meaning end.  \n",
        "            tar_line_in = [w for w in (\"<sos> \" + tar_line).split()]\n",
        "            tar_line_out = [w for w in (tar_line + \" <eos>\").split()]\n",
        "            \n",
        "            encoder_input.append(src_line)\n",
        "            decoder_input.append(tar_line_in)\n",
        "            decoder_target.append(tar_line_out)\n",
        "            \n",
        "            if i == num_samples - 1:\n",
        "                break\n",
        "        \n",
        "    return encoder_input, decoder_input, decoder_target, src_seqlen, tar_seqlen"
      ],
      "metadata": {
        "id": "SU0FM-yw9T_K"
      },
      "execution_count": 104,
      "outputs": []
    },
    {
      "cell_type": "code",
      "source": [
        "num_samples = 70000 # we use 70000 among about 190000 data"
      ],
      "metadata": {
        "id": "Kx4H1PvY9sdC"
      },
      "execution_count": 90,
      "outputs": []
    },
    {
      "cell_type": "code",
      "source": [
        "# Top 5 samples\n",
        "sents_en_in, sents_fra_in, sents_fra_out, src_seqlen, tar_seqlen = load_preprocessed_data()\n",
        "print('Input of Encoder :',sents_en_in[:5])\n",
        "print('Input of Decoder :',sents_fra_in[:5])\n",
        "print('Label of Decoder :',sents_fra_out[:5])\n",
        "print(src_seqlen)\n",
        "print(tar_seqlen)"
      ],
      "metadata": {
        "colab": {
          "base_uri": "https://localhost:8080/"
        },
        "id": "EEOxVdso9S4m",
        "outputId": "2352539c-6f89-4111-f717-d9580a59f1f9"
      },
      "execution_count": 105,
      "outputs": [
        {
          "output_type": "stream",
          "name": "stdout",
          "text": [
            "Input of Encoder : [['go', '.'], ['go', '.'], ['go', '.'], ['go', '.'], ['hi', '.']]\n",
            "Input of Decoder : [['<sos>', 'va', '!'], ['<sos>', 'marche', '.'], ['<sos>', 'en', 'route', '!'], ['<sos>', 'bouge', '!'], ['<sos>', 'salut', '!']]\n",
            "Label of Decoder : [['va', '!', '<eos>'], ['marche', '.', '<eos>'], ['en', 'route', '!', '<eos>'], ['bouge', '!', '<eos>'], ['salut', '!', '<eos>']]\n",
            "16\n",
            "18\n"
          ]
        }
      ]
    },
    {
      "cell_type": "markdown",
      "source": [
        "### Teacher Forcing\n",
        "\n",
        "* Technique where the target word(ground truth) is passed as the next input to the decoder \n",
        "\n",
        "\n",
        "### Why it is needed?\n",
        "\n",
        "* The problem with training recurrent neural networks that use output from prior time steps as input.\n",
        "\n",
        "-> There is a risk that every single part part fails even though only one mistake in the first one. (previous decoder cell's prediction is wrong, this affects entire prediction wrong.) \n",
        "\n",
        "-> Analogy : a teacher records the score for each individual part and then tells the student the correct answre, to be used in the next part. (giving real value instead of predicted previous value.)"
      ],
      "metadata": {
        "id": "Sgmo_DqhnECX"
      }
    },
    {
      "cell_type": "code",
      "source": [
        "# Generate set of word with keras tokenizer and do integer encoding and padding \n",
        "tokenizer_en = Tokenizer(filters=\"\", lower=False)\n",
        "tokenizer_en.fit_on_texts(sents_en_in)\n",
        "encoder_input = tokenizer_en.texts_to_sequences(sents_en_in)\n",
        "encoder_input = pad_sequences(encoder_input, padding=\"post\")\n",
        "\n",
        "tokenizer_fra = Tokenizer(filters=\"\", lower=False)\n",
        "tokenizer_fra.fit_on_texts(sents_fra_in)\n",
        "tokenizer_fra.fit_on_texts(sents_fra_out)\n",
        "\n",
        "decoder_input = tokenizer_fra.texts_to_sequences(sents_fra_in)\n",
        "decoder_input = pad_sequences(decoder_input, padding=\"post\")\n",
        "\n",
        "decoder_target = tokenizer_fra.texts_to_sequences(sents_fra_out)\n",
        "decoder_target = pad_sequences(decoder_target, padding=\"post\")"
      ],
      "metadata": {
        "id": "vR3hqwy79lSe"
      },
      "execution_count": 210,
      "outputs": []
    },
    {
      "cell_type": "code",
      "source": [
        "# Shape of each data\n",
        "print('Input of Encoder Shape :',encoder_input.shape)\n",
        "print('Input of Decoder Shape :',decoder_input.shape)\n",
        "print('Label of Decoder Shape :',decoder_target.shape)"
      ],
      "metadata": {
        "colab": {
          "base_uri": "https://localhost:8080/"
        },
        "id": "lErUV8Rn9xo1",
        "outputId": "4fbfb629-1d1a-410b-d714-1a7b1ad7037c"
      },
      "execution_count": 193,
      "outputs": [
        {
          "output_type": "stream",
          "name": "stdout",
          "text": [
            "Input of Encoder Shape : (70000, 9)\n",
            "Input of Decoder Shape : (70000, 17)\n",
            "Label of Decoder Shape : (70000, 17)\n"
          ]
        }
      ]
    },
    {
      "cell_type": "code",
      "source": [
        "# The size of word set \n",
        "src_vocab_size = len(tokenizer_en.word_index) + 1\n",
        "tar_vocab_size = len(tokenizer_fra.word_index) + 1\n",
        "print(\"Size of English word set : {:d}, Size of French word set : {:d}\".format(src_vocab_size, tar_vocab_size))"
      ],
      "metadata": {
        "colab": {
          "base_uri": "https://localhost:8080/"
        },
        "id": "fg6RgZNr9z3W",
        "outputId": "07d115eb-35e5-472d-8d78-027375bc2f23"
      },
      "execution_count": 112,
      "outputs": [
        {
          "output_type": "stream",
          "name": "stdout",
          "text": [
            "Size of English word set : 7241, Size of French word set : 12336\n"
          ]
        }
      ]
    },
    {
      "cell_type": "code",
      "source": [
        "src_to_index = tokenizer_en.word_index\n",
        "index_to_src = tokenizer_en.index_word\n",
        "tar_to_index = tokenizer_fra.word_index\n",
        "index_to_tar = tokenizer_fra.index_word"
      ],
      "metadata": {
        "id": "484gZQKC903s"
      },
      "execution_count": 113,
      "outputs": []
    },
    {
      "cell_type": "code",
      "source": [
        "# Before spliting dataset, randomly mixing integer sequence list. \n",
        "indices = np.arange(encoder_input.shape[0])\n",
        "np.random.shuffle(indices)\n",
        "print('Random Sequence :',indices)"
      ],
      "metadata": {
        "colab": {
          "base_uri": "https://localhost:8080/"
        },
        "id": "YT6KNypQ91_H",
        "outputId": "8123dca5-f38c-45b8-ef1c-2539e46937c4"
      },
      "execution_count": 114,
      "outputs": [
        {
          "output_type": "stream",
          "name": "stdout",
          "text": [
            "Random Sequence : [56067  6335 63388 ... 47942 55626 22310]\n"
          ]
        }
      ]
    },
    {
      "cell_type": "code",
      "source": [
        "# set it to dataset's order -> samples are mixed unlike original order \n",
        "encoder_input = encoder_input[indices]\n",
        "decoder_input = decoder_input[indices]\n",
        "decoder_target = decoder_target[indices]"
      ],
      "metadata": {
        "id": "Tx2Ty3Td93G6"
      },
      "execution_count": 115,
      "outputs": []
    },
    {
      "cell_type": "code",
      "source": [
        "# print randomly selected sample. \n",
        "# Here, decoder_input and decoder_target should have same integer sequence except <sos> and <eos> token.\n",
        "print(encoder_input[40111])\n",
        "print(decoder_input[40111])\n",
        "print(decoder_target[40111])"
      ],
      "metadata": {
        "colab": {
          "base_uri": "https://localhost:8080/"
        },
        "id": "zLFLtof494In",
        "outputId": "ea4ccc65-22a1-4507-b811-3892bb825b55"
      },
      "execution_count": 116,
      "outputs": [
        {
          "output_type": "stream",
          "name": "stdout",
          "text": [
            "[  2  17 836   1   0   0   0   0   0]\n",
            "[   2   15   17   19 7876    1    0    0    0    0    0    0    0    0\n",
            "    0    0    0]\n",
            "[  15   17   19 7876    1    3    0    0    0    0    0    0    0    0\n",
            "    0    0    0]\n"
          ]
        }
      ]
    },
    {
      "cell_type": "code",
      "source": [
        "# number of validation dataset (10%) \n",
        "n_of_val = int(num_samples*0.1)\n",
        "print('Number of validation data :',n_of_val)"
      ],
      "metadata": {
        "colab": {
          "base_uri": "https://localhost:8080/"
        },
        "id": "wQnAwAoP94_z",
        "outputId": "19224040-9ae5-404b-c908-07d96c917ae0"
      },
      "execution_count": 117,
      "outputs": [
        {
          "output_type": "stream",
          "name": "stdout",
          "text": [
            "Number of validation data : 7000\n"
          ]
        }
      ]
    },
    {
      "cell_type": "code",
      "source": [
        "# divide train (90%) and test data (10%)\n",
        "encoder_input_train = encoder_input[:-n_of_val]\n",
        "decoder_input_train = decoder_input[:-n_of_val]\n",
        "decoder_target_train = decoder_target[:-n_of_val]\n",
        "\n",
        "encoder_input_test = encoder_input[-n_of_val:]\n",
        "decoder_input_test = decoder_input[-n_of_val:]\n",
        "decoder_target_test = decoder_target[-n_of_val:]"
      ],
      "metadata": {
        "id": "CEdPf9RJ96Bk"
      },
      "execution_count": 118,
      "outputs": []
    },
    {
      "cell_type": "code",
      "source": [
        "# shape of traning and test data\n",
        "print('Shape of training source data :',encoder_input_train.shape)\n",
        "print('Shape of training target data :',decoder_input_train.shape)\n",
        "print('Shape of trainig target label data :',decoder_target_train.shape)\n",
        "print('Shape of test source data :',encoder_input_test.shape)\n",
        "print('Shape of test target data :',decoder_input_test.shape)\n",
        "print('Shape of test target label data :',decoder_target_test.shape)"
      ],
      "metadata": {
        "colab": {
          "base_uri": "https://localhost:8080/"
        },
        "id": "UfYr08J397LQ",
        "outputId": "f1cbd651-cc30-4076-ca13-720741fac108"
      },
      "execution_count": 119,
      "outputs": [
        {
          "output_type": "stream",
          "name": "stdout",
          "text": [
            "Shape of training source data : (63000, 9)\n",
            "Shape of training target data : (63000, 17)\n",
            "Shape of trainig target label data : (63000, 17)\n",
            "Shape of test source data : (7000, 9)\n",
            "Shape of test target data : (7000, 17)\n",
            "Shape of test target label data : (7000, 17)\n"
          ]
        }
      ]
    },
    {
      "cell_type": "markdown",
      "source": [
        "# **Comparing LSTM and GRU Model**\n",
        "\n",
        "We randomly select hyperparamter, and this same hyperparamter is applied to comparing LSTM and GRU model."
      ],
      "metadata": {
        "id": "IEyuRpVpvO9K"
      }
    },
    {
      "cell_type": "code",
      "source": [
        "from tensorflow.keras.layers import Input, LSTM, Embedding, Dense, Masking, GRU, Dropout\n",
        "from tensorflow.keras.models import Model\n",
        "from tensorflow.keras import optimizers\n",
        "from keras.callbacks import EarlyStopping, ModelCheckpoint\n",
        "from tensorflow.keras.utils import plot_model\n",
        "import matplotlib.pyplot as plt"
      ],
      "metadata": {
        "id": "aZaDG5UMvbDd"
      },
      "execution_count": 120,
      "outputs": []
    },
    {
      "cell_type": "code",
      "source": [
        "# same hyperparameter for LSTM and GRU model\n",
        "hidden_units = 64\n",
        "embedding_dim = 64\n",
        "batchsize = 128\n",
        "encoder_dropout = 0.2\n",
        "decoder_dropout = 0.2"
      ],
      "metadata": {
        "id": "K6fdRm96vqZi"
      },
      "execution_count": null,
      "outputs": []
    },
    {
      "cell_type": "code",
      "source": [
        "# LSTM model\n",
        "encoder_inputs = Input(shape=(None,))\n",
        "enc_emb = Embedding(src_vocab_size, embedding_dim)(encoder_inputs) # Embedding layer\n",
        "enc_masking = Masking(mask_value=0.0)(enc_emb) # Exclude padding 0 in operation\n",
        "encoder_lstm = LSTM(hidden_units, return_state=True, dropout=encoder_dropout) # To return state value\n",
        "encoder_outputs, state_h, state_c = encoder_lstm(enc_masking) # Return hidden state and cell state\n",
        "encoder_states = [state_h, state_c] # Save encoder's hidden state and cell state -> to decoder!\n",
        "\n",
        "# Decoder\n",
        "decoder_inputs = Input(shape=(None,))\n",
        "dec_emb_layer = Embedding(tar_vocab_size, hidden_units) # Embedding layer\n",
        "dec_emb = dec_emb_layer(decoder_inputs) # exclude padding 0 in operation\n",
        "dec_masking = Masking(mask_value=0.0)(dec_emb)\n",
        "\n",
        "# To return state value, return_state = True\n",
        "# To predict word for every time step, return_sequences = True\n",
        "decoder_lstm = LSTM(hidden_units, return_sequences=True, return_state=True, dropout=decoder_dropout) \n",
        "\n",
        "# Use encoder's hidden state as initial hidden state \n",
        "decoder_outputs, _, _ = decoder_lstm(dec_masking,\n",
        "                                    initial_state=encoder_states)\n",
        "\n",
        "# predict word bsaed on softmax activation function for all results from every time step\n",
        "decoder_dense = Dense(tar_vocab_size, activation='softmax')\n",
        "decoder_outputs = decoder_dense(decoder_outputs)\n",
        "\n",
        "# Model's input and output \n",
        "model = Model([encoder_inputs, decoder_inputs], decoder_outputs)\n",
        "\n",
        "model.compile(optimizer='adam', loss='sparse_categorical_crossentropy', metrics=['acc'])\n",
        "\n",
        "history = model.fit(x=[encoder_input_train, decoder_input_train], y=decoder_target_train, \\\n",
        "        validation_data=([encoder_input_test, decoder_input_test], decoder_target_test),\n",
        "        batch_size=batchsize, callbacks=[EarlyStopping(monitor='val_loss', patience = 10)], epochs=50) # for testing, we use epochs = 10 "
      ],
      "metadata": {
        "colab": {
          "base_uri": "https://localhost:8080/"
        },
        "id": "EkjDAHDbvkbp",
        "outputId": "cddb1156-d82f-438d-aea8-48252f4d1cd2"
      },
      "execution_count": null,
      "outputs": [
        {
          "output_type": "stream",
          "name": "stdout",
          "text": [
            "Epoch 1/50\n",
            "493/493 [==============================] - 28s 42ms/step - loss: 2.8225 - acc: 0.6187 - val_loss: 1.9384 - val_acc: 0.7034\n",
            "Epoch 2/50\n",
            "493/493 [==============================] - 19s 38ms/step - loss: 1.7906 - acc: 0.7225 - val_loss: 1.6807 - val_acc: 0.7352\n",
            "Epoch 3/50\n",
            "493/493 [==============================] - 18s 37ms/step - loss: 1.5871 - acc: 0.7432 - val_loss: 1.5165 - val_acc: 0.7566\n",
            "Epoch 4/50\n",
            "493/493 [==============================] - 19s 38ms/step - loss: 1.4284 - acc: 0.7692 - val_loss: 1.3811 - val_acc: 0.7784\n",
            "Epoch 5/50\n",
            "493/493 [==============================] - 19s 38ms/step - loss: 1.3087 - acc: 0.7878 - val_loss: 1.2893 - val_acc: 0.7924\n",
            "Epoch 6/50\n",
            "493/493 [==============================] - 19s 38ms/step - loss: 1.2202 - acc: 0.7993 - val_loss: 1.2204 - val_acc: 0.8014\n",
            "Epoch 7/50\n",
            "493/493 [==============================] - 19s 38ms/step - loss: 1.1526 - acc: 0.8067 - val_loss: 1.1673 - val_acc: 0.8073\n",
            "Epoch 8/50\n",
            "493/493 [==============================] - 20s 40ms/step - loss: 1.0946 - acc: 0.8125 - val_loss: 1.1201 - val_acc: 0.8117\n",
            "Epoch 9/50\n",
            "493/493 [==============================] - 19s 38ms/step - loss: 1.0420 - acc: 0.8179 - val_loss: 1.0770 - val_acc: 0.8167\n",
            "Epoch 10/50\n",
            "493/493 [==============================] - 19s 38ms/step - loss: 0.9943 - acc: 0.8233 - val_loss: 1.0381 - val_acc: 0.8222\n",
            "Epoch 11/50\n",
            "493/493 [==============================] - 19s 38ms/step - loss: 0.9503 - acc: 0.8279 - val_loss: 1.0060 - val_acc: 0.8246\n",
            "Epoch 12/50\n",
            "493/493 [==============================] - 19s 38ms/step - loss: 0.9109 - acc: 0.8321 - val_loss: 0.9723 - val_acc: 0.8296\n",
            "Epoch 13/50\n",
            "493/493 [==============================] - 19s 38ms/step - loss: 0.8745 - acc: 0.8360 - val_loss: 0.9448 - val_acc: 0.8320\n",
            "Epoch 14/50\n",
            "493/493 [==============================] - 19s 38ms/step - loss: 0.8411 - acc: 0.8396 - val_loss: 0.9202 - val_acc: 0.8353\n",
            "Epoch 15/50\n",
            "493/493 [==============================] - 19s 38ms/step - loss: 0.8099 - acc: 0.8428 - val_loss: 0.8983 - val_acc: 0.8373\n",
            "Epoch 16/50\n",
            "493/493 [==============================] - 19s 38ms/step - loss: 0.7815 - acc: 0.8459 - val_loss: 0.8784 - val_acc: 0.8395\n",
            "Epoch 17/50\n",
            "493/493 [==============================] - 19s 38ms/step - loss: 0.7556 - acc: 0.8488 - val_loss: 0.8593 - val_acc: 0.8427\n",
            "Epoch 18/50\n",
            "493/493 [==============================] - 19s 38ms/step - loss: 0.7309 - acc: 0.8514 - val_loss: 0.8425 - val_acc: 0.8447\n",
            "Epoch 19/50\n",
            "493/493 [==============================] - 19s 38ms/step - loss: 0.7085 - acc: 0.8539 - val_loss: 0.8276 - val_acc: 0.8468\n",
            "Epoch 20/50\n",
            "493/493 [==============================] - 19s 38ms/step - loss: 0.6871 - acc: 0.8564 - val_loss: 0.8142 - val_acc: 0.8487\n",
            "Epoch 21/50\n",
            "493/493 [==============================] - 19s 38ms/step - loss: 0.6670 - acc: 0.8587 - val_loss: 0.8013 - val_acc: 0.8505\n",
            "Epoch 22/50\n",
            "493/493 [==============================] - 19s 38ms/step - loss: 0.6484 - acc: 0.8609 - val_loss: 0.7890 - val_acc: 0.8520\n",
            "Epoch 23/50\n",
            "493/493 [==============================] - 20s 40ms/step - loss: 0.6312 - acc: 0.8632 - val_loss: 0.7785 - val_acc: 0.8544\n",
            "Epoch 24/50\n",
            "493/493 [==============================] - 19s 38ms/step - loss: 0.6146 - acc: 0.8653 - val_loss: 0.7684 - val_acc: 0.8552\n",
            "Epoch 25/50\n",
            "493/493 [==============================] - 19s 38ms/step - loss: 0.5992 - acc: 0.8674 - val_loss: 0.7589 - val_acc: 0.8573\n",
            "Epoch 26/50\n",
            "493/493 [==============================] - 19s 38ms/step - loss: 0.5838 - acc: 0.8695 - val_loss: 0.7504 - val_acc: 0.8577\n",
            "Epoch 27/50\n",
            "493/493 [==============================] - 19s 38ms/step - loss: 0.5701 - acc: 0.8713 - val_loss: 0.7425 - val_acc: 0.8596\n",
            "Epoch 28/50\n",
            "493/493 [==============================] - 19s 38ms/step - loss: 0.5572 - acc: 0.8730 - val_loss: 0.7348 - val_acc: 0.8603\n",
            "Epoch 29/50\n",
            "493/493 [==============================] - 19s 38ms/step - loss: 0.5445 - acc: 0.8748 - val_loss: 0.7293 - val_acc: 0.8615\n",
            "Epoch 30/50\n",
            "493/493 [==============================] - 19s 38ms/step - loss: 0.5332 - acc: 0.8768 - val_loss: 0.7220 - val_acc: 0.8624\n",
            "Epoch 31/50\n",
            "493/493 [==============================] - 19s 38ms/step - loss: 0.5222 - acc: 0.8785 - val_loss: 0.7148 - val_acc: 0.8645\n",
            "Epoch 32/50\n",
            "493/493 [==============================] - 19s 38ms/step - loss: 0.5112 - acc: 0.8800 - val_loss: 0.7102 - val_acc: 0.8648\n",
            "Epoch 33/50\n",
            "493/493 [==============================] - 19s 38ms/step - loss: 0.5015 - acc: 0.8819 - val_loss: 0.7046 - val_acc: 0.8659\n",
            "Epoch 34/50\n",
            "493/493 [==============================] - 21s 43ms/step - loss: 0.4919 - acc: 0.8832 - val_loss: 0.6989 - val_acc: 0.8666\n",
            "Epoch 35/50\n",
            "493/493 [==============================] - 20s 41ms/step - loss: 0.4828 - acc: 0.8848 - val_loss: 0.6946 - val_acc: 0.8671\n",
            "Epoch 36/50\n",
            "493/493 [==============================] - 20s 41ms/step - loss: 0.4738 - acc: 0.8863 - val_loss: 0.6889 - val_acc: 0.8682\n",
            "Epoch 37/50\n",
            "493/493 [==============================] - 19s 38ms/step - loss: 0.4657 - acc: 0.8875 - val_loss: 0.6865 - val_acc: 0.8682\n",
            "Epoch 38/50\n",
            "493/493 [==============================] - 19s 38ms/step - loss: 0.4578 - acc: 0.8889 - val_loss: 0.6807 - val_acc: 0.8696\n",
            "Epoch 39/50\n",
            "493/493 [==============================] - 20s 40ms/step - loss: 0.4505 - acc: 0.8900 - val_loss: 0.6769 - val_acc: 0.8699\n",
            "Epoch 40/50\n",
            "493/493 [==============================] - 19s 38ms/step - loss: 0.4441 - acc: 0.8912 - val_loss: 0.6743 - val_acc: 0.8711\n",
            "Epoch 41/50\n",
            "493/493 [==============================] - 19s 39ms/step - loss: 0.4370 - acc: 0.8924 - val_loss: 0.6709 - val_acc: 0.8712\n",
            "Epoch 42/50\n",
            "493/493 [==============================] - 19s 38ms/step - loss: 0.4302 - acc: 0.8938 - val_loss: 0.6678 - val_acc: 0.8725\n",
            "Epoch 43/50\n",
            "493/493 [==============================] - 19s 38ms/step - loss: 0.4242 - acc: 0.8948 - val_loss: 0.6655 - val_acc: 0.8729\n",
            "Epoch 44/50\n",
            "493/493 [==============================] - 19s 38ms/step - loss: 0.4179 - acc: 0.8960 - val_loss: 0.6629 - val_acc: 0.8733\n",
            "Epoch 45/50\n",
            "493/493 [==============================] - 19s 38ms/step - loss: 0.4128 - acc: 0.8969 - val_loss: 0.6600 - val_acc: 0.8738\n",
            "Epoch 46/50\n",
            "493/493 [==============================] - 19s 38ms/step - loss: 0.4073 - acc: 0.8979 - val_loss: 0.6586 - val_acc: 0.8742\n",
            "Epoch 47/50\n",
            "493/493 [==============================] - 20s 40ms/step - loss: 0.4020 - acc: 0.8988 - val_loss: 0.6558 - val_acc: 0.8749\n",
            "Epoch 48/50\n",
            "493/493 [==============================] - 19s 38ms/step - loss: 0.3968 - acc: 0.8998 - val_loss: 0.6546 - val_acc: 0.8748\n",
            "Epoch 49/50\n",
            "493/493 [==============================] - 19s 39ms/step - loss: 0.3927 - acc: 0.9002 - val_loss: 0.6520 - val_acc: 0.8754\n",
            "Epoch 50/50\n",
            "493/493 [==============================] - 19s 38ms/step - loss: 0.3880 - acc: 0.9011 - val_loss: 0.6516 - val_acc: 0.8758\n"
          ]
        }
      ]
    },
    {
      "cell_type": "code",
      "source": [
        "plt.plot(history.history[\"loss\"])\n",
        "plt.plot(history.history[\"val_loss\"])\n",
        "plt.legend(labels=[\"loss\", \"val_loss\"])\n",
        "plt.xlabel(\"epochs\")\n",
        "plt.ylabel(\"loss\")\n",
        "plt.show()"
      ],
      "metadata": {
        "colab": {
          "base_uri": "https://localhost:8080/",
          "height": 279
        },
        "id": "3PBy3bDhwnB5",
        "outputId": "ae6b190e-b34a-4efa-88b9-a04ed601c445"
      },
      "execution_count": null,
      "outputs": [
        {
          "output_type": "display_data",
          "data": {
            "text/plain": [
              "<Figure size 432x288 with 1 Axes>"
            ],
            "image/png": "[encoded data removed]"
          },
          "metadata": {
            "needs_background": "light"
          }
        }
      ]
    },
    {
      "cell_type": "markdown",
      "source": [
        "## **Evaluation Metrics**\n",
        "\n",
        "In NMT, there are diverse evaluation metrics from human evaluation methods to automatic evaluation metrics [5]. In previous diverse neural machine traslation tasks [6] [7], the mostly used evelaution metrics are BLEU score. Therefore, among diverse evlauation metrics, we use BLEU score and ROUGE score for our model's evaluation. \n",
        "\n",
        "\n",
        "<img src = \"https://drive.google.com/uc?id=1JuvHUO16HlSU7N6B5zSPDOM3BVAKsXuL\" height = 300 width = 400>\n",
        "\n",
        "\n",
        "**BLEU Score [8] (n-gram precision)**\n",
        "\n",
        "  BLEU is based on the degree of n-gram overlapping between the strings of words produced by the machine and the human translation references at the corpus level. BLEU computes the precision for n-gram of size 1-to-4 with\n",
        "the coefficient of brevity penalty (BP).\n",
        "\n",
        "\n",
        "**ROUGE Score [9] (n-gram recall)**\n",
        "\n",
        "  ROUGE compare an automatically produced summary or translation against a reference or a set of references (human-produced) summary or translation. ROUGE is another metric that focuses upon recall rather than precision like BLEU.\n",
        "\n",
        "* Diverse Variations, here we focus on ROUGE-1, ROUGE-2 and ROUGE-L\n",
        "\n",
        "  1) ROUGE-N: how many n-grams from the reference translation have been properly predicted in the machine generated translation\n",
        "\n",
        "  (ROUGE-1: unigrams, ROUGE-2: bigrams)\n",
        "\n",
        "  2) ROUGE-L: measure of recall for longest common subsequences. \n",
        "\n",
        "---------------\n",
        "BLEU focuses on precision: how much the words (and/or n-grams) in the candidate model outputs appear in the human reference.\n",
        "\n",
        "ROUGE focuses on recall: how much the words (and/or n-grams) in the human references appear in the candidate model outputs.\n",
        "\n",
        "These results are complementing, as is often the case in the precision-recall tradeoff. Therefore, we try to check both metrics for our model's evaluation.\n",
        "\n"
      ],
      "metadata": {
        "id": "Ayt8EvmtAIwc"
      }
    },
    {
      "cell_type": "code",
      "source": [
        "pip install rouge"
      ],
      "metadata": {
        "id": "6B3HBE6AA8nj"
      },
      "execution_count": null,
      "outputs": []
    },
    {
      "cell_type": "code",
      "source": [
        "import nltk.translate.bleu_score as bleu\n",
        "from rouge import Rouge"
      ],
      "metadata": {
        "id": "Dv6nGsI1A5AM"
      },
      "execution_count": null,
      "outputs": []
    },
    {
      "cell_type": "markdown",
      "source": [
        "#### LSTM Inference \n",
        "In sequence-to-sequence, how it works in training phase and test phase is different. Therefore, we have to design model for test phase (especially, we need to change decoder). \n",
        "\n",
        "\n",
        "* Overall translation process is as follows. \n",
        "\n",
        "  1) Input source sentence to be translated into encoder and get the final step's hidden and cell state. \n",
        "\n",
        "  2) Encoder's final hidden state, cell state and \\<sos> token is sent to decoder.\n",
        "\n",
        "  3) Decoder iterate next word prediction until \\<eos> token.\n",
        "\n",
        "  4) The input and output of encoder, encoder_inputs and encoder_states is reused that was defined in training phase. We get all layers from encoder_inputs to encoder_states in training phase. That is, we reuse encoder used in training phase.\n",
        "\n",
        "  5) We control decoder's every step in test phase, so we define decoder_state_input_h, decoder_state_input_c which store previous step's state. "
      ],
      "metadata": {
        "id": "275JdZdj8CBt"
      }
    },
    {
      "cell_type": "code",
      "source": [
        "# Encoder\n",
        "encoder_model = Model(encoder_inputs, encoder_states)\n",
        "\n",
        "# Decoder \n",
        "# Tensor for previous step's state \n",
        "decoder_state_input_h = Input(shape=(hidden_units,))\n",
        "decoder_state_input_c = Input(shape=(hidden_units,))\n",
        "decoder_states_inputs = [decoder_state_input_h, decoder_state_input_c]\n",
        "\n",
        "# Reuse Embedding layer that was used in training phase \n",
        "dec_emb2 = dec_emb_layer(decoder_inputs)\n",
        "\n",
        "# To predict next word.. \n",
        "# Previous time step's state -> current time step's initial state  \n",
        "decoder_outputs2, state_h2, state_c2 = decoder_lstm(dec_emb2, initial_state=decoder_states_inputs)\n",
        "decoder_states2 = [state_h2, state_c2]\n",
        "\n",
        "# Predict word in every time step \n",
        "decoder_outputs2 = decoder_dense(decoder_outputs2)\n",
        "\n",
        "# Updated decoder \n",
        "decoder_model = Model(\n",
        "    [decoder_inputs] + decoder_states_inputs,\n",
        "    [decoder_outputs2] + decoder_states2)"
      ],
      "metadata": {
        "id": "EMSTDTFEx4BU"
      },
      "execution_count": null,
      "outputs": []
    },
    {
      "cell_type": "code",
      "source": [
        "def decode_sequence(input_seq):\n",
        "    # Get last step's state(hidden state, cell state) of encoder from input sequence\n",
        "    states_value = encoder_model.predict(input_seq)\n",
        "    \n",
        "    # generate integer corresponding <SOS>\n",
        "    target_seq = np.zeros((1,1))\n",
        "    target_seq[0, 0] = tar_to_index['<sos>']\n",
        "    \n",
        "    stop_condition = False\n",
        "    decoded_sentence = ''\n",
        "    \n",
        "    # Iterate loop until stop_condition becomes True (we use batch size 1 for implementation simplification)\n",
        "    \n",
        "    while not stop_condition:\n",
        "        # use previous step's states_value as current step's initial state \n",
        "        output_tokens, h, c = decoder_model.predict([target_seq] + states_value)\n",
        "        \n",
        "        # transform predicted result to word \n",
        "        sampled_token_index = np.argmax(output_tokens[0, -1, :])\n",
        "        sampled_char = index_to_tar[sampled_token_index]\n",
        "        \n",
        "        # add current step's predicted word to predicted sentence \n",
        "        decoded_sentence += ' '+sampled_char\n",
        "        \n",
        "        # reach <eos> or exceed range -> stop\n",
        "        if (sampled_char == '<eos>' or len(decoded_sentence) > 50):\n",
        "            stop_condition = True\n",
        "            \n",
        "        # to use current step's predicted result to next step's input\n",
        "        target_seq = np.zeros((1,1))\n",
        "        target_seq[0, 0] = sampled_token_index\n",
        "        \n",
        "        # to use current step's state in next step's state \n",
        "        states_value = [h, c]\n",
        "        \n",
        "    return decoded_sentence"
      ],
      "metadata": {
        "id": "jTGfysgJx4xl"
      },
      "execution_count": null,
      "outputs": []
    },
    {
      "cell_type": "code",
      "source": [
        "# transform original sentence's integer sequence to text sequence \n",
        "# English integer sequence -> English text sequence\n",
        "def seq_to_src(input_seq):\n",
        "    sentence = ''\n",
        "    for encoded_word in input_seq:\n",
        "        if(encoded_word != 0):\n",
        "            sentence = sentence + index_to_src[encoded_word] + ' '\n",
        "    return sentence\n",
        "\n",
        "# transform translated sentence's integer sequence to text sequence\n",
        "# French integer sequence -> French text sequence\n",
        "def seq_to_tar(input_seq):\n",
        "    sentence = ''\n",
        "    for encoded_word in input_seq:\n",
        "        if(encoded_word != 0 and encoded_word != tar_to_index['<sos>'] and encoded_word != tar_to_index['<eos>']):\n",
        "            sentence = sentence + index_to_tar[encoded_word] + ' '\n",
        "            \n",
        "    return sentence"
      ],
      "metadata": {
        "id": "5wjIsGaFyFzT"
      },
      "execution_count": 128,
      "outputs": []
    },
    {
      "cell_type": "markdown",
      "source": [
        "### LSTM Evaluation"
      ],
      "metadata": {
        "id": "NpJghazNO6gU"
      }
    },
    {
      "cell_type": "code",
      "source": [
        "rouge = Rouge()\n",
        "\n",
        "for seq_index in [3, 55, 1020, 300, 1001]:\n",
        "    reference = [[]]\n",
        "    candidate = []\n",
        "    input_seq = encoder_input_train[seq_index: seq_index + 1]\n",
        "    decoded_sentence = decode_sequence(input_seq)\n",
        "    \n",
        "\n",
        "    input_sentence = seq_to_src(encoder_input_train[seq_index])\n",
        "    answer_sentence = seq_to_tar(decoder_input_train[seq_index])\n",
        "    translated_sentence = decoded_sentence[1:-5]\n",
        "\n",
        "    print(\"Input Sentence :\", input_sentence)\n",
        "    print(\"Answer Sentence: \", answer_sentence)\n",
        "    print(\"Translated Sentence :\", translated_sentence)\n",
        "\n",
        "    print(rouge.get_scores([translated_sentence], [answer_sentence], avg=True))\n",
        "    reference[0].extend(answer_sentence.split())\n",
        "    candidate.extend(translated_sentence.split())\n",
        "    print('BLEU-1 score: {:.5f}'.format(bleu.sentence_bleu(reference, candidate, weights=(1, 0, 0, 0))))\n",
        "    print('BLEU-2 score: {:.5f}'.format(bleu.sentence_bleu(reference, candidate, weights=(0, 1, 0, 0))))\n",
        "    print('BLEU-3 score: {:.5f}'.format(bleu.sentence_bleu(reference, candidate, weights=(0, 0, 1, 0))))\n",
        "    print('BLEU-4 score: {:.5f}'.format(bleu.sentence_bleu(reference, candidate, weights=(0, 0, 0, 1))))\n",
        "\n",
        "    print(\"-\"*50)"
      ],
      "metadata": {
        "colab": {
          "base_uri": "https://localhost:8080/"
        },
        "id": "9RB4CBPqyLeK",
        "outputId": "e4ca7817-0031-464f-9c43-196c29cf3c98"
      },
      "execution_count": null,
      "outputs": [
        {
          "output_type": "stream",
          "name": "stdout",
          "text": [
            "1/1 [==============================] - 0s 25ms/step\n",
            "1/1 [==============================] - 0s 26ms/step\n",
            "1/1 [==============================] - 0s 25ms/step\n",
            "1/1 [==============================] - 0s 29ms/step\n",
            "1/1 [==============================] - 0s 28ms/step\n",
            "1/1 [==============================] - 0s 29ms/step\n",
            "1/1 [==============================] - 0s 26ms/step\n",
            "Input Sentence : yeah you re right . \n",
            "Answer Sentence:  ouais vous avez raison . \n",
            "Translated Sentence : ouais tu as raison . \n",
            "{'rouge-1': {'r': 0.6, 'p': 0.6, 'f': 0.5999999950000001}, 'rouge-2': {'r': 0.25, 'p': 0.25, 'f': 0.24999999500000009}, 'rouge-l': {'r': 0.6, 'p': 0.6, 'f': 0.5999999950000001}}\n",
            "BLEU-1 score: 0.60000\n",
            "BLEU-2 score: 0.25000\n",
            "BLEU-3 score: 0.00000\n",
            "BLEU-4 score: 0.00000\n",
            "--------------------------------------------------\n",
            "1/1 [==============================] - 0s 25ms/step\n",
            "1/1 [==============================] - 0s 16ms/step\n",
            "1/1 [==============================] - 0s 18ms/step\n",
            "1/1 [==============================] - 0s 15ms/step\n",
            "1/1 [==============================] - 0s 14ms/step\n",
            "1/1 [==============================] - 0s 15ms/step\n",
            "1/1 [==============================] - 0s 17ms/step\n",
            "1/1 [==============================] - 0s 17ms/step\n",
            "1/1 [==============================] - 0s 17ms/step\n",
            "Input Sentence : i know tom is sensible . \n",
            "Answer Sentence:  je sais que tom est raisonnable . \n",
            "Translated Sentence : je sais que tom est raisonnable . \n",
            "{'rouge-1': {'r': 1.0, 'p': 1.0, 'f': 0.999999995}, 'rouge-2': {'r': 1.0, 'p': 1.0, 'f': 0.999999995}, 'rouge-l': {'r': 1.0, 'p': 1.0, 'f': 0.999999995}}\n",
            "BLEU-1 score: 1.00000\n",
            "BLEU-2 score: 1.00000\n",
            "BLEU-3 score: 1.00000\n",
            "BLEU-4 score: 1.00000\n",
            "--------------------------------------------------\n",
            "1/1 [==============================] - 0s 15ms/step\n",
            "1/1 [==============================] - 0s 19ms/step\n",
            "1/1 [==============================] - 0s 18ms/step\n",
            "1/1 [==============================] - 0s 16ms/step\n",
            "1/1 [==============================] - 0s 15ms/step\n",
            "1/1 [==============================] - 0s 15ms/step\n",
            "1/1 [==============================] - 0s 16ms/step\n",
            "1/1 [==============================] - 0s 15ms/step\n",
            "1/1 [==============================] - 0s 15ms/step\n",
            "1/1 [==============================] - 0s 20ms/step\n",
            "Input Sentence : he gave the dog a bone . \n",
            "Answer Sentence:  il donna un os au chien . \n",
            "Translated Sentence : il a donne un chien de gateau . \n",
            "{'rouge-1': {'r': 0.5714285714285714, 'p': 0.5, 'f': 0.5333333283555556}, 'rouge-2': {'r': 0.0, 'p': 0.0, 'f': 0.0}, 'rouge-l': {'r': 0.5714285714285714, 'p': 0.5, 'f': 0.5333333283555556}}\n",
            "BLEU-1 score: 0.50000\n",
            "BLEU-2 score: 0.00000\n",
            "BLEU-3 score: 0.00000\n",
            "BLEU-4 score: 0.00000\n",
            "--------------------------------------------------\n",
            "1/1 [==============================] - 0s 16ms/step\n",
            "1/1 [==============================] - 0s 15ms/step\n",
            "1/1 [==============================] - 0s 17ms/step\n",
            "1/1 [==============================] - 0s 17ms/step\n",
            "1/1 [==============================] - 0s 18ms/step\n",
            "1/1 [==============================] - 0s 17ms/step\n",
            "Input Sentence : i m sincere . \n",
            "Answer Sentence:  je suis sincere . \n",
            "Translated Sentence : je suis sincere . \n",
            "{'rouge-1': {'r': 1.0, 'p': 1.0, 'f': 0.999999995}, 'rouge-2': {'r': 1.0, 'p': 1.0, 'f': 0.999999995}, 'rouge-l': {'r': 1.0, 'p': 1.0, 'f': 0.999999995}}\n",
            "BLEU-1 score: 1.00000\n",
            "BLEU-2 score: 1.00000\n",
            "BLEU-3 score: 1.00000\n",
            "BLEU-4 score: 1.00000\n",
            "--------------------------------------------------\n",
            "1/1 [==============================] - 0s 16ms/step\n",
            "1/1 [==============================] - 0s 15ms/step\n",
            "1/1 [==============================] - 0s 17ms/step\n",
            "1/1 [==============================] - 0s 17ms/step\n",
            "1/1 [==============================] - 0s 16ms/step\n",
            "1/1 [==============================] - 0s 16ms/step\n",
            "1/1 [==============================] - 0s 16ms/step\n",
            "1/1 [==============================] - 0s 17ms/step\n",
            "1/1 [==============================] - 0s 20ms/step\n",
            "1/1 [==============================] - 0s 16ms/step\n",
            "1/1 [==============================] - 0s 18ms/step\n",
            "Input Sentence : who do you live with ? \n",
            "Answer Sentence:  avec qui vis tu ? \n",
            "Translated Sentence : avec qui es tu en train de voir ? \n",
            "{'rouge-1': {'r': 0.8, 'p': 0.4444444444444444, 'f': 0.5714285668367348}, 'rouge-2': {'r': 0.25, 'p': 0.125, 'f': 0.16666666222222234}, 'rouge-l': {'r': 0.8, 'p': 0.4444444444444444, 'f': 0.5714285668367348}}\n",
            "BLEU-1 score: 0.44444\n",
            "BLEU-2 score: 0.12500\n",
            "BLEU-3 score: 0.00000\n",
            "BLEU-4 score: 0.00000\n",
            "--------------------------------------------------\n"
          ]
        }
      ]
    },
    {
      "cell_type": "markdown",
      "source": [
        "#### GRU model with same hyperparameter"
      ],
      "metadata": {
        "id": "YTbIt7K18F28"
      }
    },
    {
      "cell_type": "code",
      "source": [
        "## GRU\n",
        "### Encoder\n",
        "encoder_inputs = Input(shape=(None,), name=\"encoder_input\")\n",
        "embedding = Embedding(\n",
        "    src_vocab_size, embedding_dim, name=\"encoder_embedding\"\n",
        ")\n",
        "encoder_gru = GRU(\n",
        "    hidden_units, return_state=True, name=\"encoder_gru\", dropout=encoder_dropout\n",
        ")\n",
        "encoder_emb = embedding(encoder_inputs)\n",
        "encoder_outputs, encoder_state = encoder_gru(encoder_emb)\n",
        "\n",
        "  ### Decoder\n",
        "decoder_inputs = Input(shape=(None,), name=\"decoder_input\")\n",
        "embedding = Embedding(\n",
        "    tar_vocab_size, embedding_dim, input_length=tar_seqlen-1, name=\"decoder_embedding\"\n",
        "  )\n",
        "decoder_gru = GRU(\n",
        "    hidden_units, return_state=True, return_sequences=True, name=\"decoder_gru\", \n",
        "    dropout=decoder_dropout\n",
        ")\n",
        "\n",
        "decoder_emb = embedding(decoder_inputs)\n",
        "decoder_outputs, _ = decoder_gru(decoder_emb, initial_state=encoder_state)\n",
        "dense_layer = Dense(tar_vocab_size, activation=\"softmax\", name=\"dense_layer\")\n",
        "decoder_outputs = dense_layer(decoder_outputs)\n",
        "\n",
        "  # Define the Model which accepts encoder/decoder inputs and outputs predictions\n",
        "model = Model(\n",
        "    inputs=[encoder_inputs, decoder_inputs],\n",
        "    outputs=decoder_outputs,\n",
        "    name=\"encoder_decoder_model_gru\",\n",
        ")\n",
        "\n",
        "model.compile(optimizer='adam', loss='sparse_categorical_crossentropy', metrics=['acc'])\n",
        "\n",
        "history = model.fit(x=[encoder_input_train, decoder_input_train], y=decoder_target_train, \\\n",
        "        validation_data=([encoder_input_test, decoder_input_test], decoder_target_test),\n",
        "        batch_size=batchsize, callbacks=[EarlyStopping(monitor='val_loss', patience = 10)], epochs=50) # for testing, we use epochs = 10 "
      ],
      "metadata": {
        "colab": {
          "base_uri": "https://localhost:8080/"
        },
        "id": "My5jVwpiwEto",
        "outputId": "e3701571-163c-4db8-8c7f-5eccc69f81e8"
      },
      "execution_count": null,
      "outputs": [
        {
          "output_type": "stream",
          "name": "stdout",
          "text": [
            "Epoch 1/50\n",
            "493/493 [==============================] - 19s 32ms/step - loss: 2.7961 - acc: 0.6422 - val_loss: 1.8180 - val_acc: 0.7192\n",
            "Epoch 2/50\n",
            "493/493 [==============================] - 15s 31ms/step - loss: 1.6975 - acc: 0.7283 - val_loss: 1.6294 - val_acc: 0.7350\n",
            "Epoch 3/50\n",
            "493/493 [==============================] - 15s 31ms/step - loss: 1.5571 - acc: 0.7422 - val_loss: 1.5171 - val_acc: 0.7488\n",
            "Epoch 4/50\n",
            "493/493 [==============================] - 15s 31ms/step - loss: 1.4334 - acc: 0.7562 - val_loss: 1.3820 - val_acc: 0.7662\n",
            "Epoch 5/50\n",
            "493/493 [==============================] - 15s 31ms/step - loss: 1.2983 - acc: 0.7772 - val_loss: 1.2724 - val_acc: 0.7833\n",
            "Epoch 6/50\n",
            "493/493 [==============================] - 15s 31ms/step - loss: 1.1920 - acc: 0.7915 - val_loss: 1.1878 - val_acc: 0.7956\n",
            "Epoch 7/50\n",
            "493/493 [==============================] - 15s 31ms/step - loss: 1.1080 - acc: 0.8032 - val_loss: 1.1253 - val_acc: 0.8058\n",
            "Epoch 8/50\n",
            "493/493 [==============================] - 15s 31ms/step - loss: 1.0442 - acc: 0.8113 - val_loss: 1.0771 - val_acc: 0.8126\n",
            "Epoch 9/50\n",
            "493/493 [==============================] - 15s 31ms/step - loss: 0.9898 - acc: 0.8178 - val_loss: 1.0357 - val_acc: 0.8179\n",
            "Epoch 10/50\n",
            "493/493 [==============================] - 15s 31ms/step - loss: 0.9432 - acc: 0.8233 - val_loss: 1.0053 - val_acc: 0.8213\n",
            "Epoch 11/50\n",
            "493/493 [==============================] - 15s 31ms/step - loss: 0.9062 - acc: 0.8272 - val_loss: 0.9800 - val_acc: 0.8248\n",
            "Epoch 12/50\n",
            "493/493 [==============================] - 15s 31ms/step - loss: 0.8739 - acc: 0.8307 - val_loss: 0.9591 - val_acc: 0.8274\n",
            "Epoch 13/50\n",
            "493/493 [==============================] - 15s 31ms/step - loss: 0.8452 - acc: 0.8337 - val_loss: 0.9410 - val_acc: 0.8298\n",
            "Epoch 14/50\n",
            "493/493 [==============================] - 15s 31ms/step - loss: 0.8195 - acc: 0.8365 - val_loss: 0.9239 - val_acc: 0.8312\n",
            "Epoch 15/50\n",
            "493/493 [==============================] - 16s 32ms/step - loss: 0.7957 - acc: 0.8393 - val_loss: 0.9087 - val_acc: 0.8339\n",
            "Epoch 16/50\n",
            "493/493 [==============================] - 15s 31ms/step - loss: 0.7733 - acc: 0.8421 - val_loss: 0.8950 - val_acc: 0.8355\n",
            "Epoch 17/50\n",
            "493/493 [==============================] - 16s 32ms/step - loss: 0.7527 - acc: 0.8442 - val_loss: 0.8818 - val_acc: 0.8377\n",
            "Epoch 18/50\n",
            "493/493 [==============================] - 16s 32ms/step - loss: 0.7340 - acc: 0.8466 - val_loss: 0.8696 - val_acc: 0.8392\n",
            "Epoch 19/50\n",
            "493/493 [==============================] - 16s 33ms/step - loss: 0.7152 - acc: 0.8488 - val_loss: 0.8585 - val_acc: 0.8405\n",
            "Epoch 20/50\n",
            "493/493 [==============================] - 16s 32ms/step - loss: 0.6981 - acc: 0.8509 - val_loss: 0.8477 - val_acc: 0.8422\n",
            "Epoch 21/50\n",
            "493/493 [==============================] - 16s 33ms/step - loss: 0.6821 - acc: 0.8532 - val_loss: 0.8380 - val_acc: 0.8437\n",
            "Epoch 22/50\n",
            "493/493 [==============================] - 16s 32ms/step - loss: 0.6666 - acc: 0.8554 - val_loss: 0.8283 - val_acc: 0.8452\n",
            "Epoch 23/50\n",
            "493/493 [==============================] - 18s 36ms/step - loss: 0.6515 - acc: 0.8573 - val_loss: 0.8189 - val_acc: 0.8464\n",
            "Epoch 24/50\n",
            "493/493 [==============================] - 17s 35ms/step - loss: 0.6378 - acc: 0.8590 - val_loss: 0.8106 - val_acc: 0.8472\n",
            "Epoch 25/50\n",
            "493/493 [==============================] - 17s 34ms/step - loss: 0.6242 - acc: 0.8608 - val_loss: 0.8029 - val_acc: 0.8491\n",
            "Epoch 26/50\n",
            "493/493 [==============================] - 16s 33ms/step - loss: 0.6111 - acc: 0.8631 - val_loss: 0.7953 - val_acc: 0.8497\n",
            "Epoch 27/50\n",
            "493/493 [==============================] - 17s 33ms/step - loss: 0.5991 - acc: 0.8647 - val_loss: 0.7873 - val_acc: 0.8508\n",
            "Epoch 28/50\n",
            "493/493 [==============================] - 17s 34ms/step - loss: 0.5872 - acc: 0.8665 - val_loss: 0.7803 - val_acc: 0.8518\n",
            "Epoch 29/50\n",
            "493/493 [==============================] - 16s 32ms/step - loss: 0.5757 - acc: 0.8679 - val_loss: 0.7741 - val_acc: 0.8526\n",
            "Epoch 30/50\n",
            "493/493 [==============================] - 16s 32ms/step - loss: 0.5642 - acc: 0.8700 - val_loss: 0.7667 - val_acc: 0.8538\n",
            "Epoch 31/50\n",
            "493/493 [==============================] - 15s 31ms/step - loss: 0.5543 - acc: 0.8713 - val_loss: 0.7611 - val_acc: 0.8547\n",
            "Epoch 32/50\n",
            "493/493 [==============================] - 16s 32ms/step - loss: 0.5438 - acc: 0.8729 - val_loss: 0.7551 - val_acc: 0.8562\n",
            "Epoch 33/50\n",
            "493/493 [==============================] - 17s 35ms/step - loss: 0.5346 - acc: 0.8746 - val_loss: 0.7490 - val_acc: 0.8568\n",
            "Epoch 34/50\n",
            "493/493 [==============================] - 16s 32ms/step - loss: 0.5245 - acc: 0.8762 - val_loss: 0.7437 - val_acc: 0.8577\n",
            "Epoch 35/50\n",
            "493/493 [==============================] - 16s 32ms/step - loss: 0.5158 - acc: 0.8777 - val_loss: 0.7385 - val_acc: 0.8588\n",
            "Epoch 36/50\n",
            "493/493 [==============================] - 16s 32ms/step - loss: 0.5067 - acc: 0.8793 - val_loss: 0.7336 - val_acc: 0.8599\n",
            "Epoch 37/50\n",
            "493/493 [==============================] - 16s 32ms/step - loss: 0.4988 - acc: 0.8805 - val_loss: 0.7288 - val_acc: 0.8603\n",
            "Epoch 38/50\n",
            "493/493 [==============================] - 16s 32ms/step - loss: 0.4907 - acc: 0.8821 - val_loss: 0.7246 - val_acc: 0.8613\n",
            "Epoch 39/50\n",
            "493/493 [==============================] - 16s 32ms/step - loss: 0.4822 - acc: 0.8834 - val_loss: 0.7196 - val_acc: 0.8624\n",
            "Epoch 40/50\n",
            "493/493 [==============================] - 16s 32ms/step - loss: 0.4753 - acc: 0.8845 - val_loss: 0.7150 - val_acc: 0.8627\n",
            "Epoch 41/50\n",
            "493/493 [==============================] - 15s 31ms/step - loss: 0.4678 - acc: 0.8859 - val_loss: 0.7114 - val_acc: 0.8632\n",
            "Epoch 42/50\n",
            "493/493 [==============================] - 16s 31ms/step - loss: 0.4603 - acc: 0.8872 - val_loss: 0.7075 - val_acc: 0.8644\n",
            "Epoch 43/50\n",
            "493/493 [==============================] - 16s 32ms/step - loss: 0.4537 - acc: 0.8884 - val_loss: 0.7031 - val_acc: 0.8653\n",
            "Epoch 44/50\n",
            "493/493 [==============================] - 16s 31ms/step - loss: 0.4475 - acc: 0.8896 - val_loss: 0.6998 - val_acc: 0.8653\n",
            "Epoch 45/50\n",
            "493/493 [==============================] - 16s 32ms/step - loss: 0.4408 - acc: 0.8907 - val_loss: 0.6962 - val_acc: 0.8667\n",
            "Epoch 46/50\n",
            "493/493 [==============================] - 16s 32ms/step - loss: 0.4348 - acc: 0.8918 - val_loss: 0.6942 - val_acc: 0.8668\n",
            "Epoch 47/50\n",
            "493/493 [==============================] - 16s 32ms/step - loss: 0.4288 - acc: 0.8931 - val_loss: 0.6908 - val_acc: 0.8673\n",
            "Epoch 48/50\n",
            "493/493 [==============================] - 16s 32ms/step - loss: 0.4237 - acc: 0.8941 - val_loss: 0.6874 - val_acc: 0.8684\n",
            "Epoch 49/50\n",
            "493/493 [==============================] - 16s 31ms/step - loss: 0.4184 - acc: 0.8949 - val_loss: 0.6848 - val_acc: 0.8685\n",
            "Epoch 50/50\n",
            "493/493 [==============================] - 16s 31ms/step - loss: 0.4135 - acc: 0.8957 - val_loss: 0.6821 - val_acc: 0.8695\n"
          ]
        }
      ]
    },
    {
      "cell_type": "code",
      "source": [
        "plt.plot(history.history[\"loss\"])\n",
        "plt.plot(history.history[\"val_loss\"])\n",
        "plt.legend(labels=[\"loss\", \"val_loss\"])\n",
        "plt.xlabel(\"epochs\")\n",
        "plt.ylabel(\"loss\")\n",
        "plt.show()"
      ],
      "metadata": {
        "colab": {
          "base_uri": "https://localhost:8080/",
          "height": 279
        },
        "id": "NyXjak0rzbTY",
        "outputId": "ab016816-8bfb-4b4c-d488-9835cf208571"
      },
      "execution_count": null,
      "outputs": [
        {
          "output_type": "display_data",
          "data": {
            "text/plain": [
              "<Figure size 432x288 with 1 Axes>"
            ],
            "image/png": "[encoded data removed]"
          },
          "metadata": {
            "needs_background": "light"
          }
        }
      ]
    },
    {
      "cell_type": "markdown",
      "source": [
        "#### GRU inference & evalulation"
      ],
      "metadata": {
        "id": "0cV5vt-f8Ler"
      }
    },
    {
      "cell_type": "code",
      "source": [
        "def create_inference_encoder_from(input_layer, embedding_layer, gru_layer):\n",
        "  encoder_embedding = embedding_layer(input_layer)\n",
        "  encoder_outputs, encoder_state = gru_layer(encoder_embedding)\n",
        "  encoder = Model(input_layer, encoder_state)\n",
        "  return encoder\n",
        "\n",
        "def create_inference_decoder_from(input_layer, embedding_layer, gru_layer, dense_layer):\n",
        "  decoder_embedding = embedding_layer(input_layer)\n",
        "  input_shape = dense_layer.input.shape[-1]\n",
        "  decoder_inputs_state = Input(shape=(input_shape,))\n",
        "\n",
        "  decoder_output, decoder_output_state = gru_layer(\n",
        "    decoder_embedding, initial_state=decoder_inputs_state\n",
        "  )\n",
        "\n",
        "  decoder_prediction = dense_layer(decoder_output)\n",
        "  decoder = Model(\n",
        "    inputs=[input_layer, decoder_inputs_state], \n",
        "    outputs=[decoder_prediction, decoder_output_state]\n",
        "  )\n",
        "  return decoder"
      ],
      "metadata": {
        "id": "9PKGW6zqzA0q"
      },
      "execution_count": null,
      "outputs": []
    },
    {
      "cell_type": "code",
      "source": [
        "encoder = create_inference_encoder_from(\n",
        "  model.get_layer('encoder_input').input,\n",
        "  model.get_layer('encoder_embedding'),\n",
        "  model.get_layer('encoder_gru')\n",
        ")\n",
        "\n",
        "decoder = create_inference_decoder_from(\n",
        "  model.get_layer('decoder_input').input,\n",
        "  model.get_layer('decoder_embedding'),\n",
        "  model.get_layer('decoder_gru'),\n",
        "  model.get_layer('dense_layer'),\n",
        ")"
      ],
      "metadata": {
        "id": "TerIKRHpzhwx"
      },
      "execution_count": null,
      "outputs": []
    },
    {
      "cell_type": "code",
      "source": [
        "def decode_sequence(input_seq):\n",
        "    # Get last step's state(hidden state, cell state) of encoder from input sequence\n",
        "    state = encoder.predict(input_seq)\n",
        "    \n",
        "    # generate integer corresponding <SOS>\n",
        "    target_seq = np.zeros((1,1))\n",
        "    target_seq[0, 0] = tar_to_index['<sos>']\n",
        "    \n",
        "    stop_condition = False\n",
        "    decoded_sentence = ''\n",
        "    \n",
        "    # Iterate loop until stop_condition becomes True (we use batch size 1 for implementation simplification)\n",
        "    \n",
        "    while not stop_condition:\n",
        "        # use previous step's states_value as current step's initial state \n",
        "        output_tokens, state = decoder.predict([target_seq, state])\n",
        "        \n",
        "        # transform predicted result to word \n",
        "        sampled_token_index = np.argmax(output_tokens[0, -1, :])\n",
        "        sampled_char = index_to_tar[sampled_token_index]\n",
        "        \n",
        "        # add current step's predicted word to predicted sentence \n",
        "        decoded_sentence += ' '+sampled_char\n",
        "        \n",
        "        # reach <eos> or exceed range -> stop\n",
        "        if (sampled_char == '<eos>' or len(decoded_sentence) > 50):\n",
        "            stop_condition = True\n",
        "            \n",
        "        # to use current step's predicted result to next step's input\n",
        "        target_seq = np.zeros((1,1))\n",
        "        target_seq[0, 0] = sampled_token_index\n",
        "        \n",
        "        # to use current step's state in next step's state \n",
        "        state = [state]\n",
        "        \n",
        "    return decoded_sentence"
      ],
      "metadata": {
        "id": "hhZOcfnL0Ibk"
      },
      "execution_count": null,
      "outputs": []
    },
    {
      "cell_type": "code",
      "source": [
        "rouge = Rouge()\n",
        "\n",
        "for seq_index in [3, 55, 1020, 300, 1001]:\n",
        "    reference = [[]]\n",
        "    candidate = []\n",
        "    input_seq = encoder_input_train[seq_index: seq_index + 1]\n",
        "    decoded_sentence = decode_sequence(input_seq)\n",
        "    \n",
        "\n",
        "    input_sentence = seq_to_src(encoder_input_train[seq_index])\n",
        "    answer_sentence = seq_to_tar(decoder_input_train[seq_index])\n",
        "    translated_sentence = decoded_sentence[1:-5]\n",
        "\n",
        "    print(\"Input Sentence :\", input_sentence)\n",
        "    print(\"Answer Sentence: \", answer_sentence)\n",
        "    print(\"Translated Sentence :\", translated_sentence)\n",
        "\n",
        "    print(rouge.get_scores([translated_sentence], [answer_sentence], avg=True))\n",
        "    reference[0].extend(answer_sentence.split())\n",
        "    candidate.extend(translated_sentence.split())\n",
        "\n",
        "    print('BLEU-1 score: {:.5f}'.format(bleu.sentence_bleu(reference, candidate, weights=(1, 0, 0, 0))))\n",
        "    print('BLEU-2 score: {:.5f}'.format(bleu.sentence_bleu(reference, candidate, weights=(0, 1, 0, 0))))\n",
        "    print('BLEU-3 score: {:.5f}'.format(bleu.sentence_bleu(reference, candidate, weights=(0, 0, 1, 0))))\n",
        "    print('BLEU-4 score: {:.5f}'.format(bleu.sentence_bleu(reference, candidate, weights=(0, 0, 0, 1))))\n",
        "    \n",
        "    print(\"-\"*50)"
      ],
      "metadata": {
        "colab": {
          "base_uri": "https://localhost:8080/"
        },
        "id": "qBMzXzwd0Naj",
        "outputId": "c9b99d66-aca7-4cf7-de5b-f48762fee16c"
      },
      "execution_count": null,
      "outputs": [
        {
          "output_type": "stream",
          "name": "stdout",
          "text": [
            "1/1 [==============================] - 0s 26ms/step\n",
            "1/1 [==============================] - 0s 25ms/step\n",
            "1/1 [==============================] - 0s 27ms/step\n",
            "1/1 [==============================] - 0s 26ms/step\n",
            "1/1 [==============================] - 0s 44ms/step\n",
            "1/1 [==============================] - 0s 14ms/step\n",
            "1/1 [==============================] - 0s 14ms/step\n",
            "Input Sentence : yeah you re right . \n",
            "Answer Sentence:  ouais vous avez raison . \n",
            "Translated Sentence : ouais tu as raison . \n",
            "{'rouge-1': {'r': 0.6, 'p': 0.6, 'f': 0.5999999950000001}, 'rouge-2': {'r': 0.25, 'p': 0.25, 'f': 0.24999999500000009}, 'rouge-l': {'r': 0.6, 'p': 0.6, 'f': 0.5999999950000001}}\n",
            "BLEU-1 score: 0.60000\n",
            "BLEU-2 score: 0.25000\n",
            "BLEU-3 score: 0.00000\n",
            "BLEU-4 score: 0.00000\n",
            "--------------------------------------------------\n",
            "1/1 [==============================] - 0s 13ms/step\n",
            "1/1 [==============================] - 0s 16ms/step\n",
            "1/1 [==============================] - 0s 14ms/step\n",
            "1/1 [==============================] - 0s 15ms/step\n",
            "1/1 [==============================] - 0s 17ms/step\n",
            "1/1 [==============================] - 0s 14ms/step\n",
            "1/1 [==============================] - 0s 15ms/step\n",
            "1/1 [==============================] - 0s 14ms/step\n",
            "1/1 [==============================] - 0s 14ms/step\n",
            "Input Sentence : i know tom is sensible . \n",
            "Answer Sentence:  je sais que tom est raisonnable . \n",
            "Translated Sentence : je sais que tom est agite . \n",
            "{'rouge-1': {'r': 0.8571428571428571, 'p': 0.8571428571428571, 'f': 0.8571428521428571}, 'rouge-2': {'r': 0.6666666666666666, 'p': 0.6666666666666666, 'f': 0.6666666616666668}, 'rouge-l': {'r': 0.8571428571428571, 'p': 0.8571428571428571, 'f': 0.8571428521428571}}\n",
            "BLEU-1 score: 0.85714\n",
            "BLEU-2 score: 0.66667\n",
            "BLEU-3 score: 0.60000\n",
            "BLEU-4 score: 0.50000\n",
            "--------------------------------------------------\n",
            "1/1 [==============================] - 0s 14ms/step\n",
            "1/1 [==============================] - 0s 16ms/step\n",
            "1/1 [==============================] - 0s 16ms/step\n",
            "1/1 [==============================] - 0s 17ms/step\n",
            "1/1 [==============================] - 0s 16ms/step\n",
            "1/1 [==============================] - 0s 23ms/step\n",
            "1/1 [==============================] - 0s 14ms/step\n",
            "1/1 [==============================] - 0s 14ms/step\n",
            "1/1 [==============================] - 0s 15ms/step\n",
            "Input Sentence : he gave the dog a bone . \n",
            "Answer Sentence:  il donna un os au chien . \n",
            "Translated Sentence : il a tenu sa propre chambre . \n",
            "{'rouge-1': {'r': 0.2857142857142857, 'p': 0.2857142857142857, 'f': 0.2857142807142858}, 'rouge-2': {'r': 0.0, 'p': 0.0, 'f': 0.0}, 'rouge-l': {'r': 0.2857142857142857, 'p': 0.2857142857142857, 'f': 0.2857142807142858}}\n",
            "BLEU-1 score: 0.28571\n",
            "BLEU-2 score: 0.00000\n",
            "BLEU-3 score: 0.00000\n",
            "BLEU-4 score: 0.00000\n",
            "--------------------------------------------------\n",
            "1/1 [==============================] - 0s 18ms/step\n",
            "1/1 [==============================] - 0s 19ms/step\n",
            "1/1 [==============================] - 0s 17ms/step\n",
            "1/1 [==============================] - 0s 17ms/step\n",
            "1/1 [==============================] - 0s 16ms/step\n",
            "1/1 [==============================] - 0s 14ms/step\n",
            "Input Sentence : i m sincere . \n",
            "Answer Sentence:  je suis sincere . \n",
            "Translated Sentence : je suis sincere . \n",
            "{'rouge-1': {'r': 1.0, 'p': 1.0, 'f': 0.999999995}, 'rouge-2': {'r': 1.0, 'p': 1.0, 'f': 0.999999995}, 'rouge-l': {'r': 1.0, 'p': 1.0, 'f': 0.999999995}}\n",
            "BLEU-1 score: 1.00000\n",
            "BLEU-2 score: 1.00000\n",
            "BLEU-3 score: 1.00000\n",
            "BLEU-4 score: 1.00000\n",
            "--------------------------------------------------\n",
            "1/1 [==============================] - 0s 23ms/step\n",
            "1/1 [==============================] - 0s 16ms/step\n",
            "1/1 [==============================] - 0s 16ms/step\n",
            "1/1 [==============================] - 0s 14ms/step\n",
            "1/1 [==============================] - 0s 15ms/step\n",
            "1/1 [==============================] - 0s 16ms/step\n",
            "1/1 [==============================] - 0s 14ms/step\n",
            "Input Sentence : who do you live with ? \n",
            "Answer Sentence:  avec qui vis tu ? \n",
            "Translated Sentence : qui vous voulez vous ? \n",
            "{'rouge-1': {'r': 0.4, 'p': 0.5, 'f': 0.4444444395061729}, 'rouge-2': {'r': 0.0, 'p': 0.0, 'f': 0.0}, 'rouge-l': {'r': 0.4, 'p': 0.5, 'f': 0.4444444395061729}}\n",
            "BLEU-1 score: 0.40000\n",
            "BLEU-2 score: 0.00000\n",
            "BLEU-3 score: 0.00000\n",
            "BLEU-4 score: 0.00000\n",
            "--------------------------------------------------\n"
          ]
        }
      ]
    },
    {
      "cell_type": "markdown",
      "source": [
        "# **Final Model - LSTM**\n",
        "Comparing BLEU-1, BLEU-2, BLEU-3, BLEU-4, the LSTM overally shows better performance compared to GRU. \n",
        "\n",
        "<img src = \"https://drive.google.com/uc?id=1KLOz1mVR7XJvgPxAejy23eTxtR3q9Zab\" height = 350 width = 500>\n",
        "\n",
        "Also, comparing ROUGE-1, ROUGE-2, ROUGE-L, the LSTM overally shows better performance compared to GRU. \n",
        "\n",
        "<img src = \"https://drive.google.com/uc?id=1EsAAGH37dFSZB4aAJXmFWpvfPg0OsN2o\" height = 400 width = 500>\n",
        "\n",
        "\n",
        "Therefore, we try to use LSTM for our neural machine translation model.\n",
        "\n"
      ],
      "metadata": {
        "id": "jvr43hxVC7r7"
      }
    },
    {
      "cell_type": "markdown",
      "source": [
        "## **LSTM model**"
      ],
      "metadata": {
        "id": "SCoN6g7Wkphi"
      }
    },
    {
      "cell_type": "code",
      "source": [
        "def LSTM_Model(embedding_dim, hidden_units, lr, b1, b2, batchsize, encoder_dropout, decoder_dropout):\n",
        "  encoder_inputs = Input(shape=(None,))\n",
        "  enc_emb = Embedding(src_vocab_size, embedding_dim)(encoder_inputs) # Embedding layer\n",
        "  enc_masking = Masking(mask_value=0.0)(enc_emb) # Exclude padding 0 in operation\n",
        "  encoder_lstm = LSTM(hidden_units, return_state=True, dropout=encoder_dropout) # To return state value\n",
        "  encoder_outputs, state_h, state_c = encoder_lstm(enc_masking) # Return hidden state and cell state\n",
        "  encoder_states = [state_h, state_c] # Save encoder's hidden state and cell state -> to decoder!\n",
        "\n",
        "  # Decoder\n",
        "  decoder_inputs = Input(shape=(None,))\n",
        "  dec_emb_layer = Embedding(tar_vocab_size, hidden_units) # Embedding layer\n",
        "  dec_emb = dec_emb_layer(decoder_inputs) # exclude padding 0 in operation\n",
        "  dec_masking = Masking(mask_value=0.0)(dec_emb)\n",
        "\n",
        "  # To return state value, return_state = True\n",
        "  # To predict word for every time step, return_sequences = True\n",
        "  decoder_lstm = LSTM(hidden_units, return_sequences=True, return_state=True, dropout=decoder_dropout) \n",
        "\n",
        "  # Use encoder's hidden state as initial hidden state \n",
        "  decoder_outputs, _, _ = decoder_lstm(dec_masking,\n",
        "                                      initial_state=encoder_states)\n",
        "\n",
        "  # predict word bsaed on softmax activation function for all results from every time step\n",
        "  decoder_dense = Dense(tar_vocab_size, activation='softmax')\n",
        "  decoder_outputs = decoder_dense(decoder_outputs)\n",
        "\n",
        "  # Model's input and output \n",
        "  model = Model([encoder_inputs, decoder_inputs], decoder_outputs)\n",
        "\n",
        "  model.compile(optimizer=optimizers.Adam(learning_rate=lr, beta_1=b1, beta_2=b2), loss='sparse_categorical_crossentropy', metrics=['acc'])\n",
        "\n",
        "  history = model.fit(x=[encoder_input_train, decoder_input_train], y=decoder_target_train, \\\n",
        "          validation_data=([encoder_input_test, decoder_input_test], decoder_target_test),\n",
        "          batch_size=batchsize, callbacks=[EarlyStopping(monitor='val_loss', patience = 3)], epochs=10) # for testing, we use epochs = 10 \n",
        "\n",
        "  return history.history['val_loss'][-1]"
      ],
      "metadata": {
        "id": "IRoJKkCp99Mj"
      },
      "execution_count": null,
      "outputs": []
    },
    {
      "cell_type": "markdown",
      "source": [
        "#### **Hyperparameter Tuning**"
      ],
      "metadata": {
        "id": "ureNg0IerAW2"
      }
    },
    {
      "cell_type": "code",
      "source": [
        "def get_hyper_param(n_iteration):\n",
        "  hyper_param = []  # learning_rate, n_hidden, timestep, epochs\n",
        "  for i in range(n_iteration):\n",
        "    current_params = []\n",
        "    # We use adam optimizer, so we tune learning rate, b1, b2\n",
        "    current_params.append(np.random.uniform(0,0.1)) # learning rate \n",
        "    current_params.append(np.random.uniform(0.5,0.999)) # b1 (from Momentum)\n",
        "    current_params.append(np.random.uniform(0.5,0.999)) # b2 (from RMSProp)\n",
        "    current_params.append(np.random.randint(1,513)) # hidden units \n",
        "    current_params.append(np.random.randint(32,513)) # batch_size\n",
        "    current_params.append(np.random.randint(50,300)) # embedding dimension\n",
        "    current_params.append(np.random.uniform(0,0.5)) # encoder dropout\n",
        "    current_params.append(np.random.uniform(0,0.5)) # decoder dropout\n",
        "    hyper_param.append(current_params)\n",
        "  return hyper_param\n",
        "\n",
        "hyper_parameter = get_hyper_param(30)\n",
        "train_loss, val_loss = list(), list()\n",
        "best_params = []\n",
        "\n",
        "min_val_loss = 999\n",
        "for alpha, b1, b2, hidden_units, batch_size, embedding_dim, en_dropout, de_dropout in hyper_parameter:\n",
        "  print('lr',alpha, 'b1', b1, 'b2', b2, 'n_hiddens', hidden_units,'batch_size', batch_size, 'embedding_dim', embedding_dim, \n",
        "        'en_dropout',  en_dropout, 'de_dropout', de_dropout)\n",
        "\n",
        "  current_val_loss = LSTM_Model(embedding_dim, hidden_units, alpha, b1, b2, batch_size, en_dropout, de_dropout)\n",
        "\n",
        "  if current_val_loss < min_val_loss:\n",
        "    min_val_loss = current_val_loss\n",
        "    best_params = [alpha, b1, b2, hidden_units, batch_size, embedding_dim, en_dropout, de_dropout]\n",
        "    print('best_params',best_params)\n",
        "  \n",
        "print('final best params',best_params)"
      ],
      "metadata": {
        "colab": {
          "base_uri": "https://localhost:8080/"
        },
        "id": "O-ic7p5kxBA4",
        "outputId": "219ae8b9-b226-4b63-ce29-979e14b44ae0"
      },
      "execution_count": null,
      "outputs": [
        {
          "output_type": "stream",
          "name": "stdout",
          "text": [
            "lr 0.06270461188149924 b1 0.843482643498749 b2 0.8925307649479214 n_hiddens 376 batch_size 455 embedding_dim 225 en_dropout 0.25149046826372107 de_dropout 0.28754374782314557\n",
            "Epoch 1/10\n",
            "139/139 [==============================] - 30s 161ms/step - loss: 1.9090 - acc: 0.7286 - val_loss: 1.3475 - val_acc: 0.7799\n",
            "Epoch 2/10\n",
            "139/139 [==============================] - 19s 140ms/step - loss: 1.2717 - acc: 0.7855 - val_loss: 1.2778 - val_acc: 0.7887\n",
            "Epoch 3/10\n",
            "139/139 [==============================] - 20s 141ms/step - loss: 1.2140 - acc: 0.7914 - val_loss: 1.2685 - val_acc: 0.7928\n",
            "Epoch 4/10\n",
            "139/139 [==============================] - 19s 140ms/step - loss: 1.1871 - acc: 0.7942 - val_loss: 1.2826 - val_acc: 0.7924\n",
            "Epoch 5/10\n",
            "139/139 [==============================] - 19s 139ms/step - loss: 1.1731 - acc: 0.7954 - val_loss: 1.2741 - val_acc: 0.7956\n",
            "Epoch 6/10\n",
            "139/139 [==============================] - 19s 139ms/step - loss: 1.1693 - acc: 0.7960 - val_loss: 1.2842 - val_acc: 0.7953\n",
            "best_params [0.06270461188149924, 0.843482643498749, 0.8925307649479214, 376, 455, 225, 0.25149046826372107, 0.28754374782314557]\n",
            "lr 0.02118024944924988 b1 0.9389073612586014 b2 0.6943851192685523 n_hiddens 180 batch_size 483 embedding_dim 267 en_dropout 0.26315532566808136 de_dropout 0.45960397092538496\n",
            "Epoch 1/10\n",
            "131/131 [==============================] - 23s 126ms/step - loss: 4.7951 - acc: 0.6921 - val_loss: 5.7771 - val_acc: 0.7042\n",
            "Epoch 2/10\n",
            "131/131 [==============================] - 14s 109ms/step - loss: 11.5435 - acc: 0.6752 - val_loss: 10.9803 - val_acc: 0.6951\n",
            "Epoch 3/10\n",
            "131/131 [==============================] - 15s 112ms/step - loss: 27.6251 - acc: 0.6610 - val_loss: 19.6772 - val_acc: 0.6848\n",
            "Epoch 4/10\n",
            "131/131 [==============================] - 14s 107ms/step - loss: 27.9606 - acc: 0.6590 - val_loss: 15.0826 - val_acc: 0.6867\n",
            "lr 0.03532356910620672 b1 0.6991163352213629 b2 0.5106045388120525 n_hiddens 31 batch_size 428 embedding_dim 189 en_dropout 0.025871393417969957 de_dropout 0.11966258058417795\n",
            "Epoch 1/10\n",
            "148/148 [==============================] - 21s 85ms/step - loss: 2.1273 - acc: 0.6990 - val_loss: 1.5400 - val_acc: 0.7493\n",
            "Epoch 2/10\n",
            "148/148 [==============================] - 10s 71ms/step - loss: 1.4382 - acc: 0.7627 - val_loss: 1.3728 - val_acc: 0.7709\n",
            "Epoch 3/10\n",
            "148/148 [==============================] - 10s 68ms/step - loss: 1.2985 - acc: 0.7808 - val_loss: 1.2627 - val_acc: 0.7897\n",
            "Epoch 4/10\n",
            "148/148 [==============================] - 10s 69ms/step - loss: 1.2128 - acc: 0.7962 - val_loss: 1.2211 - val_acc: 0.7977\n",
            "Epoch 5/10\n",
            "148/148 [==============================] - 10s 68ms/step - loss: 1.1712 - acc: 0.8026 - val_loss: 1.1976 - val_acc: 0.8020\n",
            "Epoch 6/10\n",
            "148/148 [==============================] - 10s 68ms/step - loss: 1.1501 - acc: 0.8057 - val_loss: 1.1824 - val_acc: 0.8044\n",
            "Epoch 7/10\n",
            "148/148 [==============================] - 11s 72ms/step - loss: 1.1391 - acc: 0.8079 - val_loss: 1.1858 - val_acc: 0.8046\n",
            "Epoch 8/10\n",
            "148/148 [==============================] - 10s 68ms/step - loss: 1.1317 - acc: 0.8094 - val_loss: 1.1775 - val_acc: 0.8071\n",
            "Epoch 9/10\n",
            "148/148 [==============================] - 10s 68ms/step - loss: 1.1240 - acc: 0.8106 - val_loss: 1.1830 - val_acc: 0.8075\n",
            "Epoch 10/10\n",
            "148/148 [==============================] - 10s 68ms/step - loss: 1.1185 - acc: 0.8112 - val_loss: 1.1884 - val_acc: 0.8047\n",
            "best_params [0.03532356910620672, 0.6991163352213629, 0.5106045388120525, 31, 428, 189, 0.025871393417969957, 0.11966258058417795]\n",
            "lr 0.004802586925210162 b1 0.9034282275741946 b2 0.5912046730992582 n_hiddens 347 batch_size 75 embedding_dim 197 en_dropout 0.09069297020865585 de_dropout 0.3571965711563737\n",
            "Epoch 1/10\n",
            "840/840 [==============================] - 41s 42ms/step - loss: 47.3274 - acc: 0.5939 - val_loss: 40.8621 - val_acc: 0.6827\n",
            "Epoch 2/10\n",
            "840/840 [==============================] - 33s 39ms/step - loss: 28.2203 - acc: 0.6869 - val_loss: 20.1261 - val_acc: 0.7027\n",
            "Epoch 3/10\n",
            "840/840 [==============================] - 33s 39ms/step - loss: 17.9412 - acc: 0.6983 - val_loss: 14.8258 - val_acc: 0.7074\n",
            "Epoch 4/10\n",
            "840/840 [==============================] - 33s 39ms/step - loss: 14.3908 - acc: 0.6995 - val_loss: 12.5988 - val_acc: 0.7119\n",
            "Epoch 5/10\n",
            "840/840 [==============================] - 33s 39ms/step - loss: 12.5363 - acc: 0.7025 - val_loss: 10.9532 - val_acc: 0.7096\n",
            "Epoch 6/10\n",
            "840/840 [==============================] - 33s 39ms/step - loss: 11.0241 - acc: 0.7048 - val_loss: 9.7266 - val_acc: 0.7124\n",
            "Epoch 7/10\n",
            "840/840 [==============================] - 34s 40ms/step - loss: 9.6425 - acc: 0.7064 - val_loss: 8.6794 - val_acc: 0.7161\n",
            "Epoch 8/10\n",
            "840/840 [==============================] - 34s 40ms/step - loss: 8.8936 - acc: 0.7076 - val_loss: 8.1400 - val_acc: 0.7189\n",
            "Epoch 9/10\n",
            "840/840 [==============================] - 35s 41ms/step - loss: 7.9552 - acc: 0.7092 - val_loss: 7.3166 - val_acc: 0.7167\n",
            "Epoch 10/10\n",
            "840/840 [==============================] - 36s 43ms/step - loss: 7.5176 - acc: 0.7102 - val_loss: 6.7090 - val_acc: 0.7203\n",
            "lr 0.007884927954053279 b1 0.9902412478808713 b2 0.9118407790180642 n_hiddens 386 batch_size 63 embedding_dim 167 en_dropout 0.19009677049365437 de_dropout 0.45053422893100076\n",
            "Epoch 1/10\n",
            "1000/1000 [==============================] - 54s 48ms/step - loss: 24.4141 - acc: 0.6873 - val_loss: 93.1671 - val_acc: 0.5327\n",
            "Epoch 2/10\n",
            "1000/1000 [==============================] - 43s 43ms/step - loss: 238.8297 - acc: 0.5407 - val_loss: 200.5516 - val_acc: 0.5119\n",
            "Epoch 3/10\n",
            "1000/1000 [==============================] - 43s 43ms/step - loss: 427.3808 - acc: 0.5085 - val_loss: 337.5587 - val_acc: 0.6407\n",
            "Epoch 4/10\n",
            "1000/1000 [==============================] - 42s 42ms/step - loss: 537.8705 - acc: 0.4848 - val_loss: 327.3697 - val_acc: 0.6251\n",
            "lr 0.09523313337605821 b1 0.6918414557475971 b2 0.870946217502218 n_hiddens 400 batch_size 205 embedding_dim 191 en_dropout 0.2421933926534539 de_dropout 0.048646705756616504\n",
            "Epoch 1/10\n",
            "308/308 [==============================] - 40s 96ms/step - loss: 2.1461 - acc: 0.7245 - val_loss: 1.6466 - val_acc: 0.7559\n",
            "Epoch 2/10\n",
            "308/308 [==============================] - 27s 87ms/step - loss: 1.6281 - acc: 0.7584 - val_loss: 1.6918 - val_acc: 0.7595\n",
            "Epoch 3/10\n",
            "308/308 [==============================] - 27s 86ms/step - loss: 1.6613 - acc: 0.7608 - val_loss: 1.7405 - val_acc: 0.7580\n",
            "Epoch 4/10\n",
            "308/308 [==============================] - 26s 85ms/step - loss: 1.6841 - acc: 0.7651 - val_loss: 1.8078 - val_acc: 0.7674\n",
            "lr 0.08857063677568827 b1 0.7265080871745688 b2 0.6628457134279763 n_hiddens 372 batch_size 334 embedding_dim 189 en_dropout 0.4249982088943396 de_dropout 0.3398478068941738\n",
            "Epoch 1/10\n",
            "189/189 [==============================] - 32s 123ms/step - loss: 3.7367 - acc: 0.7050 - val_loss: 1.5900 - val_acc: 0.7657\n",
            "Epoch 2/10\n",
            "189/189 [==============================] - 20s 107ms/step - loss: 1.5847 - acc: 0.7706 - val_loss: 1.6171 - val_acc: 0.7728\n",
            "Epoch 3/10\n",
            "189/189 [==============================] - 20s 107ms/step - loss: 1.6355 - acc: 0.7723 - val_loss: 1.6590 - val_acc: 0.7752\n",
            "Epoch 4/10\n",
            "189/189 [==============================] - 20s 108ms/step - loss: 1.6976 - acc: 0.7729 - val_loss: 1.7277 - val_acc: 0.7767\n",
            "lr 0.0028760899584410193 b1 0.7334312865588856 b2 0.9341215051090186 n_hiddens 48 batch_size 192 embedding_dim 96 en_dropout 0.3086579782727112 de_dropout 0.49606742902546846\n",
            "Epoch 1/10\n",
            "329/329 [==============================] - 25s 54ms/step - loss: 2.3701 - acc: 0.6782 - val_loss: 1.5742 - val_acc: 0.7502\n",
            "Epoch 2/10\n",
            "329/329 [==============================] - 16s 48ms/step - loss: 1.4242 - acc: 0.7722 - val_loss: 1.3342 - val_acc: 0.7857\n",
            "Epoch 3/10\n",
            "329/329 [==============================] - 15s 46ms/step - loss: 1.2487 - acc: 0.7955 - val_loss: 1.2044 - val_acc: 0.8043\n",
            "Epoch 4/10\n",
            "329/329 [==============================] - 14s 44ms/step - loss: 1.1464 - acc: 0.8087 - val_loss: 1.1237 - val_acc: 0.8141\n",
            "Epoch 5/10\n",
            "329/329 [==============================] - 16s 50ms/step - loss: 1.0751 - acc: 0.8171 - val_loss: 1.0709 - val_acc: 0.8197\n",
            "Epoch 6/10\n",
            "329/329 [==============================] - 15s 45ms/step - loss: 1.0205 - acc: 0.8232 - val_loss: 1.0251 - val_acc: 0.8253\n",
            "Epoch 7/10\n",
            "329/329 [==============================] - 14s 44ms/step - loss: 0.9763 - acc: 0.8284 - val_loss: 0.9852 - val_acc: 0.8310\n",
            "Epoch 8/10\n",
            "329/329 [==============================] - 15s 45ms/step - loss: 0.9381 - acc: 0.8332 - val_loss: 0.9549 - val_acc: 0.8356\n",
            "Epoch 9/10\n",
            "329/329 [==============================] - 15s 45ms/step - loss: 0.9056 - acc: 0.8373 - val_loss: 0.9281 - val_acc: 0.8395\n",
            "Epoch 10/10\n",
            "329/329 [==============================] - 15s 46ms/step - loss: 0.8772 - acc: 0.8410 - val_loss: 0.9062 - val_acc: 0.8423\n",
            "best_params [0.0028760899584410193, 0.7334312865588856, 0.9341215051090186, 48, 192, 96, 0.3086579782727112, 0.49606742902546846]\n",
            "lr 0.04238064913974372 b1 0.829922237961483 b2 0.8271039498988201 n_hiddens 185 batch_size 391 embedding_dim 170 en_dropout 0.2392713682353102 de_dropout 0.2268610592144788\n",
            "Epoch 1/10\n",
            "162/162 [==============================] - 26s 116ms/step - loss: 1.7773 - acc: 0.7336 - val_loss: 1.2973 - val_acc: 0.7786\n",
            "Epoch 2/10\n",
            "162/162 [==============================] - 16s 98ms/step - loss: 1.2114 - acc: 0.7892 - val_loss: 1.1852 - val_acc: 0.7972\n",
            "Epoch 3/10\n",
            "162/162 [==============================] - 15s 95ms/step - loss: 1.1253 - acc: 0.8020 - val_loss: 1.1646 - val_acc: 0.8036\n",
            "Epoch 4/10\n",
            "162/162 [==============================] - 16s 96ms/step - loss: 1.0940 - acc: 0.8063 - val_loss: 1.1693 - val_acc: 0.8052\n",
            "Epoch 5/10\n",
            "162/162 [==============================] - 16s 96ms/step - loss: 1.0787 - acc: 0.8086 - val_loss: 1.1743 - val_acc: 0.8056\n",
            "Epoch 6/10\n",
            "162/162 [==============================] - 15s 94ms/step - loss: 1.0697 - acc: 0.8096 - val_loss: 1.1852 - val_acc: 0.8066\n",
            "lr 0.04862684276952181 b1 0.6396875348678882 b2 0.9641528204389789 n_hiddens 336 batch_size 154 embedding_dim 297 en_dropout 0.3454672501989144 de_dropout 0.011447366627501177\n",
            "Epoch 1/10\n",
            "410/410 [==============================] - 36s 68ms/step - loss: 2.0250 - acc: 0.7346 - val_loss: 1.4690 - val_acc: 0.7614\n",
            "Epoch 2/10\n",
            "410/410 [==============================] - 25s 61ms/step - loss: 1.3711 - acc: 0.7789 - val_loss: 1.4103 - val_acc: 0.7802\n",
            "Epoch 3/10\n",
            "410/410 [==============================] - 26s 63ms/step - loss: 1.3285 - acc: 0.7851 - val_loss: 1.4063 - val_acc: 0.7870\n",
            "Epoch 4/10\n",
            "410/410 [==============================] - 27s 66ms/step - loss: 1.3032 - acc: 0.7876 - val_loss: 1.4261 - val_acc: 0.7844\n",
            "Epoch 5/10\n",
            "410/410 [==============================] - 26s 64ms/step - loss: 1.3137 - acc: 0.7878 - val_loss: 1.4847 - val_acc: 0.7856\n",
            "Epoch 6/10\n",
            "410/410 [==============================] - 25s 61ms/step - loss: 1.3207 - acc: 0.7884 - val_loss: 1.4932 - val_acc: 0.7845\n",
            "lr 0.009356619761583062 b1 0.5332853760659995 b2 0.7985972254756912 n_hiddens 421 batch_size 60 embedding_dim 157 en_dropout 0.42917553109835965 de_dropout 0.360774491217183\n",
            "Epoch 1/10\n",
            "1050/1050 [==============================] - 52s 44ms/step - loss: 1.2394 - acc: 0.8083 - val_loss: 1.0283 - val_acc: 0.8401\n",
            "Epoch 2/10\n",
            "1050/1050 [==============================] - 45s 43ms/step - loss: 1.0212 - acc: 0.8424 - val_loss: 0.9933 - val_acc: 0.8477\n",
            "Epoch 3/10\n",
            "1050/1050 [==============================] - 44s 42ms/step - loss: 0.9743 - acc: 0.8471 - val_loss: 0.9738 - val_acc: 0.8507\n",
            "Epoch 4/10\n",
            "1050/1050 [==============================] - 45s 43ms/step - loss: 0.9512 - acc: 0.8493 - val_loss: 0.9908 - val_acc: 0.8514\n",
            "Epoch 5/10\n",
            "1050/1050 [==============================] - 45s 43ms/step - loss: 0.9812 - acc: 0.8477 - val_loss: 0.9939 - val_acc: 0.8522\n",
            "Epoch 6/10\n",
            "1050/1050 [==============================] - 44s 42ms/step - loss: 0.9266 - acc: 0.8508 - val_loss: 0.9483 - val_acc: 0.8567\n",
            "Epoch 7/10\n",
            "1050/1050 [==============================] - 45s 42ms/step - loss: 0.8982 - acc: 0.8552 - val_loss: 0.9917 - val_acc: 0.8564\n",
            "Epoch 8/10\n",
            "1050/1050 [==============================] - 44s 42ms/step - loss: 0.9093 - acc: 0.8561 - val_loss: 1.0104 - val_acc: 0.8599\n",
            "Epoch 9/10\n",
            "1050/1050 [==============================] - 44s 42ms/step - loss: 0.8996 - acc: 0.8576 - val_loss: 1.0145 - val_acc: 0.8573\n",
            "lr 0.0457281561797704 b1 0.5076710156515364 b2 0.5199289398437946 n_hiddens 165 batch_size 225 embedding_dim 129 en_dropout 0.1406144712333035 de_dropout 0.45555442338770247\n",
            "Epoch 1/10\n",
            "280/280 [==============================] - 25s 68ms/step - loss: 1.4679 - acc: 0.7771 - val_loss: 1.2018 - val_acc: 0.8130\n",
            "Epoch 2/10\n",
            "280/280 [==============================] - 16s 58ms/step - loss: 1.2358 - acc: 0.8104 - val_loss: 1.2081 - val_acc: 0.8154\n",
            "Epoch 3/10\n",
            "280/280 [==============================] - 16s 59ms/step - loss: 1.2749 - acc: 0.8106 - val_loss: 1.2691 - val_acc: 0.8141\n",
            "Epoch 4/10\n",
            "280/280 [==============================] - 16s 58ms/step - loss: 1.3564 - acc: 0.8092 - val_loss: 1.3323 - val_acc: 0.8130\n",
            "lr 0.01679811924217257 b1 0.9959429750827256 b2 0.7594863749500774 n_hiddens 231 batch_size 502 embedding_dim 267 en_dropout 0.3497943935602377 de_dropout 0.1712040816938234\n",
            "Epoch 1/10\n",
            "126/126 [==============================] - 24s 133ms/step - loss: 12.2860 - acc: 0.6638 - val_loss: 65.2469 - val_acc: 0.5983\n",
            "Epoch 2/10\n",
            "126/126 [==============================] - 14s 112ms/step - loss: 734.9335 - acc: 0.3042 - val_loss: 2500.8958 - val_acc: 0.1876\n",
            "Epoch 3/10\n",
            "126/126 [==============================] - 14s 114ms/step - loss: 7291.9438 - acc: 0.3178 - val_loss: 14923.3516 - val_acc: 0.2686\n",
            "Epoch 4/10\n",
            "126/126 [==============================] - 14s 113ms/step - loss: 20190.1211 - acc: 0.1384 - val_loss: 14675.0283 - val_acc: 0.1471\n",
            "lr 0.09265086317330892 b1 0.8800318284057217 b2 0.9425648260243342 n_hiddens 8 batch_size 292 embedding_dim 202 en_dropout 0.00891600351209293 de_dropout 0.2948899342456032\n",
            "Epoch 1/10\n",
            "216/216 [==============================] - 24s 71ms/step - loss: 2.0993 - acc: 0.6928 - val_loss: 1.6373 - val_acc: 0.7355\n",
            "Epoch 2/10\n",
            "216/216 [==============================] - 12s 54ms/step - loss: 1.6070 - acc: 0.7368 - val_loss: 1.5688 - val_acc: 0.7426\n",
            "Epoch 3/10\n",
            "216/216 [==============================] - 12s 54ms/step - loss: 1.5582 - acc: 0.7400 - val_loss: 1.5364 - val_acc: 0.7451\n",
            "Epoch 4/10\n",
            "216/216 [==============================] - 12s 55ms/step - loss: 1.5304 - acc: 0.7425 - val_loss: 1.5176 - val_acc: 0.7467\n",
            "Epoch 5/10\n",
            "216/216 [==============================] - 12s 55ms/step - loss: 1.5162 - acc: 0.7437 - val_loss: 1.5163 - val_acc: 0.7467\n",
            "Epoch 6/10\n",
            "216/216 [==============================] - 13s 60ms/step - loss: 1.5076 - acc: 0.7443 - val_loss: 1.5129 - val_acc: 0.7472\n",
            "Epoch 7/10\n",
            "216/216 [==============================] - 13s 58ms/step - loss: 1.5031 - acc: 0.7446 - val_loss: 1.5112 - val_acc: 0.7485\n",
            "Epoch 8/10\n",
            "216/216 [==============================] - 12s 56ms/step - loss: 1.5001 - acc: 0.7445 - val_loss: 1.5187 - val_acc: 0.7474\n",
            "Epoch 9/10\n",
            "216/216 [==============================] - 12s 56ms/step - loss: 1.4978 - acc: 0.7449 - val_loss: 1.5133 - val_acc: 0.7478\n",
            "Epoch 10/10\n",
            "216/216 [==============================] - 12s 58ms/step - loss: 1.4959 - acc: 0.7449 - val_loss: 1.5237 - val_acc: 0.7474\n",
            "lr 0.08068888142242694 b1 0.6897667126065324 b2 0.6593224222592495 n_hiddens 495 batch_size 387 embedding_dim 157 en_dropout 0.09281511616558086 de_dropout 0.09893348002157276\n",
            "Epoch 1/10\n",
            "163/163 [==============================] - 35s 174ms/step - loss: 4.2851 - acc: 0.6987 - val_loss: 1.6232 - val_acc: 0.7527\n",
            "Epoch 2/10\n",
            "163/163 [==============================] - 26s 162ms/step - loss: 1.5616 - acc: 0.7601 - val_loss: 1.5860 - val_acc: 0.7614\n",
            "Epoch 3/10\n",
            "163/163 [==============================] - 26s 158ms/step - loss: 1.5456 - acc: 0.7668 - val_loss: 1.5965 - val_acc: 0.7720\n",
            "Epoch 4/10\n",
            "163/163 [==============================] - 26s 158ms/step - loss: 1.5534 - acc: 0.7738 - val_loss: 1.6337 - val_acc: 0.7736\n",
            "Epoch 5/10\n",
            "163/163 [==============================] - 26s 159ms/step - loss: 1.5835 - acc: 0.7752 - val_loss: 1.6768 - val_acc: 0.7743\n",
            "lr 0.09368401832374376 b1 0.6441522779323736 b2 0.7202581827799663 n_hiddens 147 batch_size 304 embedding_dim 154 en_dropout 0.1984830083082012 de_dropout 0.09426206797341496\n",
            "Epoch 1/10\n",
            "208/208 [==============================] - 31s 97ms/step - loss: 1.6601 - acc: 0.7458 - val_loss: 1.4539 - val_acc: 0.7706\n",
            "Epoch 2/10\n",
            "208/208 [==============================] - 16s 76ms/step - loss: 1.4491 - acc: 0.7717 - val_loss: 1.5041 - val_acc: 0.7694\n",
            "Epoch 3/10\n",
            "208/208 [==============================] - 16s 76ms/step - loss: 1.4806 - acc: 0.7734 - val_loss: 1.5496 - val_acc: 0.7717\n",
            "Epoch 4/10\n",
            "208/208 [==============================] - 15s 73ms/step - loss: 1.5147 - acc: 0.7747 - val_loss: 1.5977 - val_acc: 0.7703\n",
            "lr 0.042692283278584466 b1 0.6253716592985747 b2 0.5118043348713013 n_hiddens 55 batch_size 232 embedding_dim 221 en_dropout 0.2098795539821759 de_dropout 0.15286758968866554\n",
            "Epoch 1/10\n",
            "272/272 [==============================] - 26s 60ms/step - loss: 1.5628 - acc: 0.7640 - val_loss: 1.2489 - val_acc: 0.8026\n",
            "Epoch 2/10\n",
            "272/272 [==============================] - 14s 51ms/step - loss: 1.2165 - acc: 0.8077 - val_loss: 1.1931 - val_acc: 0.8108\n",
            "Epoch 3/10\n",
            "272/272 [==============================] - 13s 49ms/step - loss: 1.1813 - acc: 0.8128 - val_loss: 1.1857 - val_acc: 0.8127\n",
            "Epoch 4/10\n",
            "272/272 [==============================] - 14s 52ms/step - loss: 1.1783 - acc: 0.8132 - val_loss: 1.2055 - val_acc: 0.8120\n",
            "Epoch 5/10\n",
            "272/272 [==============================] - 14s 52ms/step - loss: 1.1949 - acc: 0.8126 - val_loss: 1.2465 - val_acc: 0.8093\n",
            "Epoch 6/10\n",
            "272/272 [==============================] - 15s 55ms/step - loss: 1.2098 - acc: 0.8117 - val_loss: 1.2694 - val_acc: 0.8091\n",
            "lr 0.024942993924761403 b1 0.816646713153006 b2 0.5758239227333691 n_hiddens 299 batch_size 345 embedding_dim 258 en_dropout 0.28320602438051407 de_dropout 0.006364671290011947\n",
            "Epoch 1/10\n",
            "183/183 [==============================] - 32s 118ms/step - loss: 1.8320 - acc: 0.7312 - val_loss: 1.4160 - val_acc: 0.7705\n",
            "Epoch 2/10\n",
            "183/183 [==============================] - 19s 106ms/step - loss: 1.3323 - acc: 0.7758 - val_loss: 1.3254 - val_acc: 0.7756\n",
            "Epoch 3/10\n",
            "183/183 [==============================] - 20s 108ms/step - loss: 1.2669 - acc: 0.7813 - val_loss: 1.3012 - val_acc: 0.7809\n",
            "Epoch 4/10\n",
            "183/183 [==============================] - 20s 108ms/step - loss: 1.2382 - acc: 0.7847 - val_loss: 1.2951 - val_acc: 0.7823\n",
            "Epoch 5/10\n",
            "183/183 [==============================] - 20s 108ms/step - loss: 1.2307 - acc: 0.7867 - val_loss: 1.3297 - val_acc: 0.7815\n",
            "Epoch 6/10\n",
            "183/183 [==============================] - 19s 105ms/step - loss: 1.2393 - acc: 0.7880 - val_loss: 1.3414 - val_acc: 0.7842\n",
            "Epoch 7/10\n",
            "183/183 [==============================] - 19s 107ms/step - loss: 1.2456 - acc: 0.7891 - val_loss: 1.3687 - val_acc: 0.7856\n",
            "lr 0.029361976229069386 b1 0.8722124105253817 b2 0.7990420122442797 n_hiddens 471 batch_size 127 embedding_dim 80 en_dropout 0.46692086319982246 de_dropout 0.424282790315655\n",
            "Epoch 1/10\n",
            "497/497 [==============================] - 44s 70ms/step - loss: 2.1539 - acc: 0.7357 - val_loss: 1.5056 - val_acc: 0.7663\n",
            "Epoch 2/10\n",
            "497/497 [==============================] - 32s 65ms/step - loss: 1.4992 - acc: 0.7694 - val_loss: 1.5014 - val_acc: 0.7733\n",
            "Epoch 3/10\n",
            "497/497 [==============================] - 32s 65ms/step - loss: 1.5303 - acc: 0.7730 - val_loss: 1.5535 - val_acc: 0.7763\n",
            "Epoch 4/10\n",
            "497/497 [==============================] - 32s 65ms/step - loss: 1.5718 - acc: 0.7737 - val_loss: 1.5835 - val_acc: 0.7772\n",
            "Epoch 5/10\n",
            "497/497 [==============================] - 32s 65ms/step - loss: 1.6382 - acc: 0.7732 - val_loss: 1.6622 - val_acc: 0.7770\n",
            "lr 0.015886169959430787 b1 0.5930491086706786 b2 0.9364600597831465 n_hiddens 312 batch_size 273 embedding_dim 166 en_dropout 0.1266038983112921 de_dropout 0.47534027805897144\n",
            "Epoch 1/10\n",
            "231/231 [==============================] - 30s 97ms/step - loss: 1.4377 - acc: 0.7726 - val_loss: 0.9330 - val_acc: 0.8339\n",
            "Epoch 2/10\n",
            "231/231 [==============================] - 20s 87ms/step - loss: 0.7914 - acc: 0.8508 - val_loss: 0.7378 - val_acc: 0.8631\n",
            "Epoch 3/10\n",
            "231/231 [==============================] - 20s 88ms/step - loss: 0.6159 - acc: 0.8744 - val_loss: 0.6561 - val_acc: 0.8763\n",
            "Epoch 4/10\n",
            "231/231 [==============================] - 20s 86ms/step - loss: 0.5213 - acc: 0.8871 - val_loss: 0.6221 - val_acc: 0.8813\n",
            "Epoch 5/10\n",
            "231/231 [==============================] - 20s 86ms/step - loss: 0.4640 - acc: 0.8944 - val_loss: 0.6002 - val_acc: 0.8846\n",
            "Epoch 6/10\n",
            "231/231 [==============================] - 20s 87ms/step - loss: 0.4263 - acc: 0.8991 - val_loss: 0.6023 - val_acc: 0.8859\n",
            "Epoch 7/10\n",
            "231/231 [==============================] - 20s 86ms/step - loss: 0.4004 - acc: 0.9024 - val_loss: 0.6051 - val_acc: 0.8852\n",
            "Epoch 8/10\n",
            "231/231 [==============================] - 20s 87ms/step - loss: 0.3837 - acc: 0.9042 - val_loss: 0.6089 - val_acc: 0.8865\n",
            "best_params [0.015886169959430787, 0.5930491086706786, 0.9364600597831465, 312, 273, 166, 0.1266038983112921, 0.47534027805897144]\n",
            "lr 0.05273769712037634 b1 0.771045744824429 b2 0.7738235870602771 n_hiddens 496 batch_size 72 embedding_dim 248 en_dropout 0.20062518730634193 de_dropout 0.09248141898419032\n",
            "Epoch 1/10\n",
            "875/875 [==============================] - 51s 51ms/step - loss: 1.8287 - acc: 0.7521 - val_loss: 1.8660 - val_acc: 0.7652\n",
            "Epoch 2/10\n",
            "875/875 [==============================] - 42s 47ms/step - loss: 1.9630 - acc: 0.7664 - val_loss: 2.0742 - val_acc: 0.7653\n",
            "Epoch 3/10\n",
            "875/875 [==============================] - 41s 47ms/step - loss: 2.1886 - acc: 0.7659 - val_loss: 2.3230 - val_acc: 0.7642\n",
            "Epoch 4/10\n",
            "875/875 [==============================] - 41s 47ms/step - loss: 2.4191 - acc: 0.7661 - val_loss: 2.5864 - val_acc: 0.7688\n",
            "lr 0.055601445446007314 b1 0.5916481064642332 b2 0.8536670972253568 n_hiddens 357 batch_size 176 embedding_dim 249 en_dropout 0.01406991540158703 de_dropout 0.39708082363877617\n",
            "Epoch 1/10\n",
            "358/358 [==============================] - 34s 78ms/step - loss: 1.5491 - acc: 0.7695 - val_loss: 1.3245 - val_acc: 0.7953\n",
            "Epoch 2/10\n",
            "358/358 [==============================] - 25s 70ms/step - loss: 1.3409 - acc: 0.7935 - val_loss: 1.3572 - val_acc: 0.7964\n",
            "Epoch 3/10\n",
            "358/358 [==============================] - 25s 70ms/step - loss: 1.3710 - acc: 0.7945 - val_loss: 1.3979 - val_acc: 0.7968\n",
            "Epoch 4/10\n",
            "358/358 [==============================] - 25s 70ms/step - loss: 1.4169 - acc: 0.7941 - val_loss: 1.4399 - val_acc: 0.7970\n",
            "lr 0.044215098079003395 b1 0.8786494412321751 b2 0.5257896988483647 n_hiddens 384 batch_size 454 embedding_dim 209 en_dropout 0.12885558872455527 de_dropout 0.020384087026159292\n",
            "Epoch 1/10\n",
            "139/139 [==============================] - 28s 156ms/step - loss: 4.2794 - acc: 0.6652 - val_loss: 4.4400 - val_acc: 0.7061\n",
            "Epoch 2/10\n",
            "139/139 [==============================] - 19s 140ms/step - loss: 4.0948 - acc: 0.7077 - val_loss: 3.9730 - val_acc: 0.7096\n",
            "Epoch 3/10\n",
            "139/139 [==============================] - 19s 138ms/step - loss: 4.0021 - acc: 0.7112 - val_loss: 4.0801 - val_acc: 0.7095\n",
            "Epoch 4/10\n",
            "139/139 [==============================] - 19s 135ms/step - loss: 4.6564 - acc: 0.6864 - val_loss: 4.6833 - val_acc: 0.6761\n",
            "Epoch 5/10\n",
            "139/139 [==============================] - 19s 134ms/step - loss: 5.1929 - acc: 0.7021 - val_loss: 5.6499 - val_acc: 0.6954\n",
            "lr 0.06399230927272871 b1 0.8022081836309816 b2 0.6193060601324336 n_hiddens 9 batch_size 429 embedding_dim 143 en_dropout 0.32337078773127215 de_dropout 0.19331651587228493\n",
            "Epoch 1/10\n",
            "147/147 [==============================] - 21s 85ms/step - loss: 2.7600 - acc: 0.5891 - val_loss: 2.1981 - val_acc: 0.7047\n",
            "Epoch 2/10\n",
            "147/147 [==============================] - 10s 68ms/step - loss: 1.9318 - acc: 0.7138 - val_loss: 1.7526 - val_acc: 0.7213\n",
            "Epoch 3/10\n",
            "147/147 [==============================] - 10s 69ms/step - loss: 1.6939 - acc: 0.7297 - val_loss: 1.6521 - val_acc: 0.7357\n",
            "Epoch 4/10\n",
            "147/147 [==============================] - 11s 72ms/step - loss: 1.6173 - acc: 0.7393 - val_loss: 1.5937 - val_acc: 0.7441\n",
            "Epoch 5/10\n",
            "147/147 [==============================] - 10s 69ms/step - loss: 1.5707 - acc: 0.7475 - val_loss: 1.5548 - val_acc: 0.7524\n",
            "Epoch 6/10\n",
            "147/147 [==============================] - 11s 72ms/step - loss: 1.5391 - acc: 0.7523 - val_loss: 1.5328 - val_acc: 0.7555\n",
            "Epoch 7/10\n",
            "147/147 [==============================] - 10s 69ms/step - loss: 1.5202 - acc: 0.7545 - val_loss: 1.5238 - val_acc: 0.7573\n",
            "Epoch 8/10\n",
            "147/147 [==============================] - 10s 69ms/step - loss: 1.5058 - acc: 0.7559 - val_loss: 1.5089 - val_acc: 0.7576\n",
            "Epoch 9/10\n",
            "147/147 [==============================] - 11s 72ms/step - loss: 1.4938 - acc: 0.7574 - val_loss: 1.5000 - val_acc: 0.7589\n",
            "Epoch 10/10\n",
            "147/147 [==============================] - 10s 68ms/step - loss: 1.4863 - acc: 0.7581 - val_loss: 1.5007 - val_acc: 0.7603\n",
            "lr 0.06915002475804598 b1 0.9260851442606486 b2 0.6656940653868313 n_hiddens 212 batch_size 507 embedding_dim 148 en_dropout 0.06237765532307099 de_dropout 0.20756265346428165\n",
            "Epoch 1/10\n",
            "125/125 [==============================] - 24s 128ms/step - loss: 3.0013 - acc: 0.6962 - val_loss: 3.7629 - val_acc: 0.7154\n",
            "Epoch 2/10\n",
            "125/125 [==============================] - 13s 108ms/step - loss: 3.5388 - acc: 0.7148 - val_loss: 3.2693 - val_acc: 0.7200\n",
            "Epoch 3/10\n",
            "125/125 [==============================] - 14s 110ms/step - loss: 3.5486 - acc: 0.7154 - val_loss: 3.3086 - val_acc: 0.7173\n",
            "Epoch 4/10\n",
            "125/125 [==============================] - 14s 110ms/step - loss: 3.8897 - acc: 0.7131 - val_loss: 3.5053 - val_acc: 0.7194\n",
            "Epoch 5/10\n",
            "125/125 [==============================] - 14s 109ms/step - loss: 4.2286 - acc: 0.7094 - val_loss: 4.1605 - val_acc: 0.7138\n",
            "lr 0.05438078409563382 b1 0.797069514311043 b2 0.8301929923331611 n_hiddens 191 batch_size 437 embedding_dim 112 en_dropout 0.02218607384415172 de_dropout 0.2345667169178683\n",
            "Epoch 1/10\n",
            "145/145 [==============================] - 25s 118ms/step - loss: 1.8315 - acc: 0.7221 - val_loss: 1.3374 - val_acc: 0.7713\n",
            "Epoch 2/10\n",
            "145/145 [==============================] - 15s 102ms/step - loss: 1.2338 - acc: 0.7848 - val_loss: 1.2122 - val_acc: 0.7924\n",
            "Epoch 3/10\n",
            "145/145 [==============================] - 15s 103ms/step - loss: 1.1584 - acc: 0.7955 - val_loss: 1.2064 - val_acc: 0.7968\n",
            "Epoch 4/10\n",
            "145/145 [==============================] - 15s 106ms/step - loss: 1.1330 - acc: 0.8000 - val_loss: 1.2036 - val_acc: 0.7991\n",
            "Epoch 5/10\n",
            "145/145 [==============================] - 15s 102ms/step - loss: 1.1174 - acc: 0.8031 - val_loss: 1.2183 - val_acc: 0.8012\n",
            "Epoch 6/10\n",
            "145/145 [==============================] - 15s 102ms/step - loss: 1.1152 - acc: 0.8047 - val_loss: 1.2330 - val_acc: 0.8017\n",
            "Epoch 7/10\n",
            "145/145 [==============================] - 15s 103ms/step - loss: 1.1137 - acc: 0.8055 - val_loss: 1.2429 - val_acc: 0.8024\n",
            "lr 0.033229711654843945 b1 0.6758362206652616 b2 0.5421071153171824 n_hiddens 474 batch_size 124 embedding_dim 175 en_dropout 0.2203264138955085 de_dropout 0.10858212483705315\n",
            "Epoch 1/10\n",
            "509/509 [==============================] - 43s 71ms/step - loss: 1.5089 - acc: 0.7781 - val_loss: 1.4467 - val_acc: 0.7902\n",
            "Epoch 2/10\n",
            "509/509 [==============================] - 33s 65ms/step - loss: 1.4814 - acc: 0.7914 - val_loss: 1.5569 - val_acc: 0.7892\n",
            "Epoch 3/10\n",
            "509/509 [==============================] - 33s 65ms/step - loss: 1.5894 - acc: 0.7877 - val_loss: 1.6942 - val_acc: 0.7818\n",
            "Epoch 4/10\n",
            "509/509 [==============================] - 33s 65ms/step - loss: 1.6896 - acc: 0.7866 - val_loss: 1.8069 - val_acc: 0.7849\n",
            "lr 0.09371685820879909 b1 0.6131284379504724 b2 0.8654584831833052 n_hiddens 271 batch_size 235 embedding_dim 127 en_dropout 0.06330525067808912 de_dropout 0.4253666884019714\n",
            "Epoch 1/10\n",
            "269/269 [==============================] - 31s 83ms/step - loss: 1.8972 - acc: 0.7443 - val_loss: 1.4226 - val_acc: 0.7778\n",
            "Epoch 2/10\n",
            "269/269 [==============================] - 20s 76ms/step - loss: 1.4256 - acc: 0.7794 - val_loss: 1.4321 - val_acc: 0.7801\n",
            "Epoch 3/10\n",
            "269/269 [==============================] - 20s 74ms/step - loss: 1.4442 - acc: 0.7806 - val_loss: 1.4782 - val_acc: 0.7803\n",
            "Epoch 4/10\n",
            "269/269 [==============================] - 20s 73ms/step - loss: 1.4776 - acc: 0.7801 - val_loss: 1.5299 - val_acc: 0.7829\n",
            "lr 0.02534581039601982 b1 0.9644285184515715 b2 0.9541757548488676 n_hiddens 395 batch_size 408 embedding_dim 154 en_dropout 0.4695161901310664 de_dropout 0.020722358810335628\n",
            "Epoch 1/10\n",
            "155/155 [==============================] - 32s 159ms/step - loss: 2.8059 - acc: 0.6562 - val_loss: 1.9671 - val_acc: 0.7274\n",
            "Epoch 2/10\n",
            "155/155 [==============================] - 22s 144ms/step - loss: 1.5823 - acc: 0.7502 - val_loss: 1.4475 - val_acc: 0.7652\n",
            "Epoch 3/10\n",
            "155/155 [==============================] - 22s 141ms/step - loss: 1.3072 - acc: 0.7746 - val_loss: 1.3300 - val_acc: 0.7802\n",
            "Epoch 4/10\n",
            "155/155 [==============================] - 22s 140ms/step - loss: 1.1962 - acc: 0.7825 - val_loss: 1.2911 - val_acc: 0.7821\n",
            "Epoch 5/10\n",
            "155/155 [==============================] - 22s 141ms/step - loss: 1.1338 - acc: 0.7872 - val_loss: 1.2679 - val_acc: 0.7851\n",
            "Epoch 6/10\n",
            "155/155 [==============================] - 22s 142ms/step - loss: 1.0902 - acc: 0.7910 - val_loss: 1.2587 - val_acc: 0.7853\n",
            "Epoch 7/10\n",
            "155/155 [==============================] - 22s 142ms/step - loss: 1.0599 - acc: 0.7939 - val_loss: 1.2562 - val_acc: 0.7906\n",
            "Epoch 8/10\n",
            "155/155 [==============================] - 22s 141ms/step - loss: 1.0367 - acc: 0.7959 - val_loss: 1.2608 - val_acc: 0.7905\n",
            "Epoch 9/10\n",
            "155/155 [==============================] - 22s 142ms/step - loss: 1.0128 - acc: 0.7990 - val_loss: 1.2467 - val_acc: 0.7916\n",
            "Epoch 10/10\n",
            "155/155 [==============================] - 22s 142ms/step - loss: 0.9887 - acc: 0.8021 - val_loss: 1.2456 - val_acc: 0.7970\n",
            "lr 0.017128197680272673 b1 0.9758117650440161 b2 0.9319366006289951 n_hiddens 236 batch_size 512 embedding_dim 95 en_dropout 0.40416444616136715 de_dropout 0.09073304852829539\n",
            "Epoch 1/10\n",
            "124/124 [==============================] - 24s 138ms/step - loss: 1.9817 - acc: 0.7106 - val_loss: 1.5866 - val_acc: 0.7512\n",
            "Epoch 2/10\n",
            "124/124 [==============================] - 14s 116ms/step - loss: 1.4751 - acc: 0.7630 - val_loss: 1.4215 - val_acc: 0.7699\n",
            "Epoch 3/10\n",
            "124/124 [==============================] - 14s 116ms/step - loss: 1.3033 - acc: 0.7764 - val_loss: 1.3351 - val_acc: 0.7777\n",
            "Epoch 4/10\n",
            "124/124 [==============================] - 14s 115ms/step - loss: 1.2057 - acc: 0.7836 - val_loss: 1.2881 - val_acc: 0.7835\n",
            "Epoch 5/10\n",
            "124/124 [==============================] - 14s 113ms/step - loss: 1.1418 - acc: 0.7889 - val_loss: 1.2639 - val_acc: 0.7844\n",
            "Epoch 6/10\n",
            "124/124 [==============================] - 14s 113ms/step - loss: 1.0979 - acc: 0.7924 - val_loss: 1.2459 - val_acc: 0.7876\n",
            "Epoch 7/10\n",
            "124/124 [==============================] - 14s 115ms/step - loss: 1.0623 - acc: 0.7959 - val_loss: 1.2376 - val_acc: 0.7891\n",
            "Epoch 8/10\n",
            "124/124 [==============================] - 14s 115ms/step - loss: 1.0305 - acc: 0.7984 - val_loss: 1.2266 - val_acc: 0.7891\n",
            "Epoch 9/10\n",
            "124/124 [==============================] - 14s 114ms/step - loss: 1.0091 - acc: 0.8002 - val_loss: 1.2260 - val_acc: 0.7913\n",
            "Epoch 10/10\n",
            "124/124 [==============================] - 14s 114ms/step - loss: 0.9892 - acc: 0.8027 - val_loss: 1.2158 - val_acc: 0.7926\n",
            "final best params [0.015886169959430787, 0.5930491086706786, 0.9364600597831465, 312, 273, 166, 0.1266038983112921, 0.47534027805897144]\n"
          ]
        }
      ]
    },
    {
      "cell_type": "markdown",
      "source": [
        "### **Final LSTM model**\n",
        "\n",
        "Based on best hyperparameter from hyperparameter tuning process, we build our final LSTM model with them. "
      ],
      "metadata": {
        "id": "yJk8zfZUvwwQ"
      }
    },
    {
      "cell_type": "code",
      "source": [
        "# learning rate, b1, b2, hidden_units, batch_size, embedding_dim, encoder dropout, decoder dropout\n",
        "print('final best params',best_params)\n",
        "LSTM_final_lr = best_params[0]\n",
        "LSTM_final_b1 = best_params[1]\n",
        "LSTM_final_b2 = best_params[2]\n",
        "hidden_units = best_params[3]\n",
        "LSTM_final_batch = best_params[4]\n",
        "embedding_dim = best_params[5]\n",
        "LSTM_final_enD = best_params[6]\n",
        "LSTM_final_deD = best_params[7]"
      ],
      "metadata": {
        "colab": {
          "base_uri": "https://localhost:8080/"
        },
        "id": "o2OcnXDk2j-O",
        "outputId": "8f1dcfae-9050-4be6-f6e6-6f4d507f0ef5"
      },
      "execution_count": 108,
      "outputs": [
        {
          "output_type": "stream",
          "name": "stdout",
          "text": [
            "final best params [0.015886169959430787, 0.5930491086706786, 0.9364600597831465, 312, 273, 166, 0.1266038983112921, 0.47534027805897144]\n"
          ]
        }
      ]
    },
    {
      "cell_type": "code",
      "source": [
        "best_params = [0.015886169959430787, 0.5930491086706786, 0.9364600597831465, 312, 273, 166, 0.1266038983112921, 0.47534027805897144]"
      ],
      "metadata": {
        "id": "fmBRCRYMmOEN"
      },
      "execution_count": 107,
      "outputs": []
    },
    {
      "cell_type": "code",
      "source": [
        "# Encoder\n",
        "encoder_inputs = Input(shape=(None,))\n",
        "enc_emb = Embedding(src_vocab_size, embedding_dim)(encoder_inputs) # Embedding layer\n",
        "enc_masking = Masking(mask_value=0.0)(enc_emb) # Exclude padding 0 in operation\n",
        "encoder_lstm = LSTM(hidden_units, return_state=True) # To return state value\n",
        "encoder_outputs, state_h, state_c = encoder_lstm(enc_masking) # Return hidden state and cell state\n",
        "encoder_states = [state_h, state_c] # Save encoder's hidden state and cell state\n",
        "\n",
        "# Decoder\n",
        "decoder_inputs = Input(shape=(None,))\n",
        "dec_emb_layer = Embedding(tar_vocab_size, hidden_units) # Embedding layer\n",
        "dec_emb = dec_emb_layer(decoder_inputs) # exclude padding 0 in operation\n",
        "dec_masking = Masking(mask_value=0.0)(dec_emb)\n",
        "\n",
        "# To return state value, return_state = True\n",
        "# To predict word for every time step, return_sequences = True\n",
        "decoder_lstm = LSTM(hidden_units, return_sequences=True, return_state=True) \n",
        "\n",
        "# Use encoder's hidden state as initial hidden state \n",
        "decoder_outputs, _, _ = decoder_lstm(dec_masking,\n",
        "                                     initial_state=encoder_states)\n",
        "\n",
        "# predict word bsaed on softmax activation function for all results from every time step\n",
        "decoder_dense = Dense(tar_vocab_size, activation='softmax')\n",
        "decoder_outputs = decoder_dense(decoder_outputs)\n",
        "\n",
        "# Model's input and output \n",
        "model = Model([encoder_inputs, decoder_inputs], decoder_outputs)\n",
        "\n",
        "model.compile(optimizer=optimizers.Adam(learning_rate=LSTM_final_lr, beta_1=LSTM_final_b1, beta_2=LSTM_final_b2), \n",
        "              loss='sparse_categorical_crossentropy', metrics=['acc'])\n",
        "\n",
        "model_weights_path = './gdrive/MyDrive/AI/teamProject/LSTM/weights/weights.ckpt'\n",
        "\n",
        "save_best_weights = ModelCheckpoint(\n",
        "  model_weights_path, monitor='val_loss', mode='min',\n",
        "  save_weights_only=True, save_best_only=True, verbose=1, \n",
        ")\n",
        "\n",
        "history = model.fit(x=[encoder_input_train, decoder_input_train], y=decoder_target_train, \\\n",
        "        validation_data=([encoder_input_test, decoder_input_test], decoder_target_test),\n",
        "        batch_size=LSTM_final_batch, callbacks=[save_best_weights,EarlyStopping(monitor='val_loss', patience = 10)], epochs=50) "
      ],
      "metadata": {
        "colab": {
          "base_uri": "https://localhost:8080/"
        },
        "id": "8QXSULWUUfEc",
        "outputId": "0def597e-fff8-498b-9dd1-ab3cc0758bbb"
      },
      "execution_count": 121,
      "outputs": [
        {
          "output_type": "stream",
          "name": "stdout",
          "text": [
            "Epoch 1/50\n",
            "231/231 [==============================] - ETA: 0s - loss: 1.4925 - acc: 0.7664\n",
            "Epoch 1: val_loss improved from inf to 0.96674, saving model to ./gdrive/MyDrive/AI/teamProject/LSTM/weights/weights.ckpt\n",
            "231/231 [==============================] - 31s 101ms/step - loss: 1.4925 - acc: 0.7664 - val_loss: 0.9667 - val_acc: 0.8307\n",
            "Epoch 2/50\n",
            "231/231 [==============================] - ETA: 0s - loss: 0.7986 - acc: 0.8500\n",
            "Epoch 2: val_loss improved from 0.96674 to 0.77422, saving model to ./gdrive/MyDrive/AI/teamProject/LSTM/weights/weights.ckpt\n",
            "231/231 [==============================] - 21s 90ms/step - loss: 0.7986 - acc: 0.8500 - val_loss: 0.7742 - val_acc: 0.8559\n",
            "Epoch 3/50\n",
            "231/231 [==============================] - ETA: 0s - loss: 0.6051 - acc: 0.8753\n",
            "Epoch 3: val_loss improved from 0.77422 to 0.69638, saving model to ./gdrive/MyDrive/AI/teamProject/LSTM/weights/weights.ckpt\n",
            "231/231 [==============================] - 21s 90ms/step - loss: 0.6051 - acc: 0.8753 - val_loss: 0.6964 - val_acc: 0.8678\n",
            "Epoch 4/50\n",
            "231/231 [==============================] - ETA: 0s - loss: 0.4912 - acc: 0.8910\n",
            "Epoch 4: val_loss improved from 0.69638 to 0.65750, saving model to ./gdrive/MyDrive/AI/teamProject/LSTM/weights/weights.ckpt\n",
            "231/231 [==============================] - 20s 88ms/step - loss: 0.4912 - acc: 0.8910 - val_loss: 0.6575 - val_acc: 0.8747\n",
            "Epoch 5/50\n",
            "231/231 [==============================] - ETA: 0s - loss: 0.4194 - acc: 0.9008\n",
            "Epoch 5: val_loss improved from 0.65750 to 0.65017, saving model to ./gdrive/MyDrive/AI/teamProject/LSTM/weights/weights.ckpt\n",
            "231/231 [==============================] - 20s 88ms/step - loss: 0.4194 - acc: 0.9008 - val_loss: 0.6502 - val_acc: 0.8778\n",
            "Epoch 6/50\n",
            "231/231 [==============================] - ETA: 0s - loss: 0.3749 - acc: 0.9071\n",
            "Epoch 6: val_loss did not improve from 0.65017\n",
            "231/231 [==============================] - 20s 88ms/step - loss: 0.3749 - acc: 0.9071 - val_loss: 0.6528 - val_acc: 0.8795\n",
            "Epoch 7/50\n",
            "231/231 [==============================] - ETA: 0s - loss: 0.3422 - acc: 0.9119\n",
            "Epoch 7: val_loss did not improve from 0.65017\n",
            "231/231 [==============================] - 20s 86ms/step - loss: 0.3422 - acc: 0.9119 - val_loss: 0.6566 - val_acc: 0.8803\n",
            "Epoch 8/50\n",
            "231/231 [==============================] - ETA: 0s - loss: 0.3206 - acc: 0.9155\n",
            "Epoch 8: val_loss did not improve from 0.65017\n",
            "231/231 [==============================] - 20s 86ms/step - loss: 0.3206 - acc: 0.9155 - val_loss: 0.6765 - val_acc: 0.8785\n",
            "Epoch 9/50\n",
            "231/231 [==============================] - ETA: 0s - loss: 0.3046 - acc: 0.9179\n",
            "Epoch 9: val_loss did not improve from 0.65017\n",
            "231/231 [==============================] - 20s 88ms/step - loss: 0.3046 - acc: 0.9179 - val_loss: 0.6820 - val_acc: 0.8796\n",
            "Epoch 10/50\n",
            "231/231 [==============================] - ETA: 0s - loss: 0.2930 - acc: 0.9200\n",
            "Epoch 10: val_loss did not improve from 0.65017\n",
            "231/231 [==============================] - 21s 90ms/step - loss: 0.2930 - acc: 0.9200 - val_loss: 0.6969 - val_acc: 0.8788\n",
            "Epoch 11/50\n",
            "231/231 [==============================] - ETA: 0s - loss: 0.2828 - acc: 0.9217\n",
            "Epoch 11: val_loss did not improve from 0.65017\n",
            "231/231 [==============================] - 20s 88ms/step - loss: 0.2828 - acc: 0.9217 - val_loss: 0.7117 - val_acc: 0.8795\n",
            "Epoch 12/50\n",
            "231/231 [==============================] - ETA: 0s - loss: 0.2778 - acc: 0.9227\n",
            "Epoch 12: val_loss did not improve from 0.65017\n",
            "231/231 [==============================] - 20s 89ms/step - loss: 0.2778 - acc: 0.9227 - val_loss: 0.7212 - val_acc: 0.8794\n",
            "Epoch 13/50\n",
            "231/231 [==============================] - ETA: 0s - loss: 0.2714 - acc: 0.9238\n",
            "Epoch 13: val_loss did not improve from 0.65017\n",
            "231/231 [==============================] - 20s 86ms/step - loss: 0.2714 - acc: 0.9238 - val_loss: 0.7331 - val_acc: 0.8792\n",
            "Epoch 14/50\n",
            "231/231 [==============================] - ETA: 0s - loss: 0.2658 - acc: 0.9251\n",
            "Epoch 14: val_loss did not improve from 0.65017\n",
            "231/231 [==============================] - 20s 86ms/step - loss: 0.2658 - acc: 0.9251 - val_loss: 0.7470 - val_acc: 0.8791\n",
            "Epoch 15/50\n",
            "231/231 [==============================] - ETA: 0s - loss: 0.2626 - acc: 0.9254\n",
            "Epoch 15: val_loss did not improve from 0.65017\n",
            "231/231 [==============================] - 21s 89ms/step - loss: 0.2626 - acc: 0.9254 - val_loss: 0.7612 - val_acc: 0.8771\n"
          ]
        }
      ]
    },
    {
      "cell_type": "markdown",
      "source": [
        "### Inference\n",
        "\n"
      ],
      "metadata": {
        "id": "No8ze4gUhXTL"
      }
    },
    {
      "cell_type": "code",
      "source": [
        "# Encoder\n",
        "encoder_model = Model(encoder_inputs, encoder_states)\n",
        "\n",
        "# Decoder \n",
        "# Tensor for previous step's state \n",
        "decoder_state_input_h = Input(shape=(hidden_units,))\n",
        "decoder_state_input_c = Input(shape=(hidden_units,))\n",
        "decoder_states_inputs = [decoder_state_input_h, decoder_state_input_c]\n",
        "\n",
        "# Reuse Embedding layer that was used in training phase \n",
        "dec_emb2 = dec_emb_layer(decoder_inputs)\n",
        "\n",
        "# To predict next word.. \n",
        "# Previous time step's state -> current time step's initial state  \n",
        "decoder_outputs2, state_h2, state_c2 = decoder_lstm(dec_emb2, initial_state=decoder_states_inputs)\n",
        "decoder_states2 = [state_h2, state_c2]\n",
        "\n",
        "# Predict word in every time step \n",
        "decoder_outputs2 = decoder_dense(decoder_outputs2)\n",
        "\n",
        "# Updated decoder \n",
        "decoder_model = Model(\n",
        "    [decoder_inputs] + decoder_states_inputs,\n",
        "    [decoder_outputs2] + decoder_states2)"
      ],
      "metadata": {
        "id": "lBppG7vpUsFr"
      },
      "execution_count": 122,
      "outputs": []
    },
    {
      "cell_type": "code",
      "source": [
        "def decode_sequence(input_seq):\n",
        "    # Get last step's state(hidden state, cell state) of encoder from input sequence\n",
        "    states_value = encoder_model.predict(input_seq)\n",
        "    \n",
        "    # generate integer corresponding <SOS>\n",
        "    target_seq = np.zeros((1,1))\n",
        "    target_seq[0, 0] = tar_to_index['<sos>']\n",
        "    \n",
        "    stop_condition = False\n",
        "    decoded_sentence = ''\n",
        "    \n",
        "    # Iterate loop until stop_condition becomes True (we use batch size 1 for implementation simplification)\n",
        "    \n",
        "    while not stop_condition:\n",
        "        # use previous step's states_value as current step's initial state \n",
        "        output_tokens, h, c = decoder_model.predict([target_seq] + states_value)\n",
        "        \n",
        "        # transform predicted result to word \n",
        "        sampled_token_index = np.argmax(output_tokens[0, -1, :])\n",
        "        sampled_char = index_to_tar[sampled_token_index]\n",
        "        \n",
        "        # add current step's predicted word to predicted sentence \n",
        "        decoded_sentence += ' '+sampled_char\n",
        "        \n",
        "        # reach <eos> or exceed range -> stop\n",
        "        if (sampled_char == '<eos>' or len(decoded_sentence) > 50):\n",
        "            stop_condition = True\n",
        "            \n",
        "        # to use current step's predicted result to next step's input\n",
        "        target_seq = np.zeros((1,1))\n",
        "        target_seq[0, 0] = sampled_token_index\n",
        "        \n",
        "        # to use current step's state in next step's state \n",
        "        states_value = [h, c]\n",
        "        \n",
        "    return decoded_sentence"
      ],
      "metadata": {
        "id": "oRu34aJ-WA_P"
      },
      "execution_count": 123,
      "outputs": []
    },
    {
      "cell_type": "markdown",
      "source": [
        "### Evaluation Result"
      ],
      "metadata": {
        "id": "btMGRg6ShaKi"
      }
    },
    {
      "cell_type": "code",
      "source": [
        "rouge = Rouge()\n",
        "\n",
        "for seq_index in [3, 55, 1020, 300, 1001]:\n",
        "    reference = [[]]\n",
        "    candidate = []\n",
        "    input_seq = encoder_input_train[seq_index: seq_index + 1]\n",
        "    decoded_sentence = decode_sequence(input_seq)\n",
        "    \n",
        "\n",
        "    input_sentence = seq_to_src(encoder_input_train[seq_index])\n",
        "    answer_sentence = seq_to_tar(decoder_input_train[seq_index])\n",
        "    translated_sentence = decoded_sentence[1:-5]\n",
        "\n",
        "    print(\"Input Sentence :\", input_sentence)\n",
        "    print(\"Answer Sentence: \", answer_sentence)\n",
        "    print(\"Translated Sentence :\", translated_sentence)\n",
        "\n",
        "    print(rouge.get_scores([translated_sentence], [answer_sentence], avg=True))\n",
        "    reference[0].extend(answer_sentence.split())\n",
        "    candidate.extend(translated_sentence.split())\n",
        "    print('BLEU-1 score: {:.5f}'.format(bleu.sentence_bleu(reference, candidate, weights=(1, 0, 0, 0))))\n",
        "    print('BLEU-2 score: {:.5f}'.format(bleu.sentence_bleu(reference, candidate, weights=(0, 1, 0, 0))))\n",
        "    print('BLEU-3 score: {:.5f}'.format(bleu.sentence_bleu(reference, candidate, weights=(0, 0, 1, 0))))\n",
        "    print('BLEU-4 score: {:.5f}'.format(bleu.sentence_bleu(reference, candidate, weights=(0, 0, 0, 1))))\n",
        "\n",
        "    print(\"-\"*50)"
      ],
      "metadata": {
        "id": "-9YuQOqh43_0",
        "colab": {
          "base_uri": "https://localhost:8080/"
        },
        "outputId": "4327a0b7-84fd-4421-c814-0487c6507ce7"
      },
      "execution_count": null,
      "outputs": [
        {
          "output_type": "stream",
          "name": "stdout",
          "text": [
            "1/1 [==============================] - 1s 1s/step\n",
            "1/1 [==============================] - 0s 321ms/step\n",
            "1/1 [==============================] - 0s 18ms/step\n",
            "1/1 [==============================] - 0s 18ms/step\n",
            "1/1 [==============================] - 0s 18ms/step\n",
            "1/1 [==============================] - 0s 14ms/step\n",
            "1/1 [==============================] - 0s 16ms/step\n",
            "Input Sentence : yeah you re right . \n",
            "Answer Sentence:  ouais vous avez raison . \n",
            "Translated Sentence : ouais vous avez raison . \n",
            "{'rouge-1': {'r': 1.0, 'p': 1.0, 'f': 0.999999995}, 'rouge-2': {'r': 1.0, 'p': 1.0, 'f': 0.999999995}, 'rouge-l': {'r': 1.0, 'p': 1.0, 'f': 0.999999995}}\n",
            "BLEU-1 score: 1.00000\n",
            "BLEU-2 score: 1.00000\n",
            "BLEU-3 score: 1.00000\n",
            "BLEU-4 score: 1.00000\n",
            "--------------------------------------------------\n",
            "1/1 [==============================] - 0s 15ms/step\n",
            "1/1 [==============================] - 0s 14ms/step\n",
            "1/1 [==============================] - 0s 15ms/step\n",
            "1/1 [==============================] - 0s 15ms/step\n",
            "1/1 [==============================] - 0s 16ms/step\n",
            "1/1 [==============================] - 0s 16ms/step\n",
            "1/1 [==============================] - 0s 15ms/step\n",
            "1/1 [==============================] - 0s 15ms/step\n",
            "1/1 [==============================] - 0s 18ms/step\n",
            "Input Sentence : i know tom is sensible . \n",
            "Answer Sentence:  je sais que tom est raisonnable . \n",
            "Translated Sentence : je sais que tom est raisonnable . \n",
            "{'rouge-1': {'r': 1.0, 'p': 1.0, 'f': 0.999999995}, 'rouge-2': {'r': 1.0, 'p': 1.0, 'f': 0.999999995}, 'rouge-l': {'r': 1.0, 'p': 1.0, 'f': 0.999999995}}\n",
            "BLEU-1 score: 1.00000\n",
            "BLEU-2 score: 1.00000\n",
            "BLEU-3 score: 1.00000\n",
            "BLEU-4 score: 1.00000\n",
            "--------------------------------------------------\n",
            "1/1 [==============================] - 0s 18ms/step\n",
            "1/1 [==============================] - 0s 16ms/step\n",
            "1/1 [==============================] - 0s 16ms/step\n",
            "1/1 [==============================] - 0s 17ms/step\n",
            "1/1 [==============================] - 0s 19ms/step\n",
            "1/1 [==============================] - 0s 16ms/step\n",
            "1/1 [==============================] - 0s 18ms/step\n",
            "1/1 [==============================] - 0s 22ms/step\n",
            "1/1 [==============================] - 0s 17ms/step\n",
            "Input Sentence : he gave the dog a bone . \n",
            "Answer Sentence:  il donna un os au chien . \n",
            "Translated Sentence : il est devenu un peu emeche . \n",
            "{'rouge-1': {'r': 0.42857142857142855, 'p': 0.42857142857142855, 'f': 0.4285714235714286}, 'rouge-2': {'r': 0.0, 'p': 0.0, 'f': 0.0}, 'rouge-l': {'r': 0.42857142857142855, 'p': 0.42857142857142855, 'f': 0.4285714235714286}}\n",
            "BLEU-1 score: 0.42857\n",
            "BLEU-2 score: 0.00000\n",
            "BLEU-3 score: 0.00000\n",
            "BLEU-4 score: 0.00000\n",
            "--------------------------------------------------\n",
            "1/1 [==============================] - 0s 17ms/step\n",
            "1/1 [==============================] - 0s 20ms/step\n",
            "1/1 [==============================] - 0s 18ms/step\n",
            "1/1 [==============================] - 0s 17ms/step\n",
            "1/1 [==============================] - 0s 18ms/step\n",
            "1/1 [==============================] - 0s 17ms/step\n",
            "Input Sentence : i m sincere . \n",
            "Answer Sentence:  je suis sincere . \n",
            "Translated Sentence : je suis la . \n",
            "{'rouge-1': {'r': 0.75, 'p': 0.75, 'f': 0.749999995}, 'rouge-2': {'r': 0.3333333333333333, 'p': 0.3333333333333333, 'f': 0.3333333283333334}, 'rouge-l': {'r': 0.75, 'p': 0.75, 'f': 0.749999995}}\n",
            "BLEU-1 score: 0.75000\n",
            "BLEU-2 score: 0.33333\n",
            "BLEU-3 score: 0.00000\n",
            "BLEU-4 score: 0.00000\n",
            "--------------------------------------------------\n",
            "1/1 [==============================] - 0s 15ms/step\n",
            "1/1 [==============================] - 0s 14ms/step\n",
            "1/1 [==============================] - 0s 15ms/step\n",
            "1/1 [==============================] - 0s 17ms/step\n",
            "1/1 [==============================] - 0s 15ms/step\n",
            "1/1 [==============================] - 0s 16ms/step\n",
            "1/1 [==============================] - 0s 15ms/step\n",
            "Input Sentence : who do you live with ? \n",
            "Answer Sentence:  avec qui vis tu ? \n",
            "Translated Sentence : avec qui vis tu ? \n",
            "{'rouge-1': {'r': 1.0, 'p': 1.0, 'f': 0.999999995}, 'rouge-2': {'r': 1.0, 'p': 1.0, 'f': 0.999999995}, 'rouge-l': {'r': 1.0, 'p': 1.0, 'f': 0.999999995}}\n",
            "BLEU-1 score: 1.00000\n",
            "BLEU-2 score: 1.00000\n",
            "BLEU-3 score: 1.00000\n",
            "BLEU-4 score: 1.00000\n",
            "--------------------------------------------------\n"
          ]
        }
      ]
    },
    {
      "cell_type": "markdown",
      "source": [
        "Compared to previous LSTM model, we can see that in some case shows better performance with high difference. And some case shows lower performance relatively small difference. \n",
        "\n",
        "<img src = \"https://drive.google.com/uc?id=1Sc11jo7iYAcnHdiVDCi8-Xnw15jVexr6\" height = 350 width = 500>\n",
        "\n",
        "<img src = \"https://drive.google.com/uc?id=1hNKPiXj5ACMFf24Dp1ymDkH5urTOZwDZ\" height = 350 width = 450>"
      ],
      "metadata": {
        "id": "BrbKNdXsGbO6"
      }
    },
    {
      "cell_type": "markdown",
      "source": [
        "# **Final Outputs**\n",
        "\n",
        "Our final application is making voice with translated text."
      ],
      "metadata": {
        "id": "tp2GbEBYCjTB"
      }
    },
    {
      "cell_type": "code",
      "source": [
        "braille_sentence = preprocess_sentence(braille_sentence)\n",
        "braille_split = braille_sentence.split()\n",
        "\n",
        "result_seq = []\n",
        "for word in braille_split:\n",
        "  result_seq.append(src_to_index[word])\n",
        "\n",
        "for i in range(9-len(result_seq)):\n",
        "  result_seq.append(0)"
      ],
      "metadata": {
        "id": "3AcVhCHeLfcF"
      },
      "execution_count": 255,
      "outputs": []
    },
    {
      "cell_type": "code",
      "source": [
        "input_sentence2 = seq_to_src(result_seq)\n",
        "decoded_sentence2 = decode_sequence([result_seq])\n",
        "final_translated_text = decoded_sentence2[1:-5]\n",
        "print(\"Input sentence from braille translation: \", input_sentence2)\n",
        "print(\"Translated result: \", final_translated_text)"
      ],
      "metadata": {
        "colab": {
          "base_uri": "https://localhost:8080/"
        },
        "id": "5ks1wFl2MueB",
        "outputId": "829baa88-a31c-44c1-f9d0-b089e5926eea"
      },
      "execution_count": 256,
      "outputs": [
        {
          "output_type": "stream",
          "name": "stdout",
          "text": [
            "1/1 [==============================] - 0s 24ms/step\n",
            "1/1 [==============================] - 0s 15ms/step\n",
            "1/1 [==============================] - 0s 19ms/step\n",
            "1/1 [==============================] - 0s 15ms/step\n",
            "1/1 [==============================] - 0s 17ms/step\n",
            "1/1 [==============================] - 0s 14ms/step\n",
            "1/1 [==============================] - 0s 17ms/step\n",
            "1/1 [==============================] - 0s 15ms/step\n",
            "Input sentence from braille translation:  i like busy place \n",
            "Translated result:  j aime beaucoup plus vite . \n"
          ]
        }
      ]
    },
    {
      "cell_type": "code",
      "source": [
        " pip install gTTS"
      ],
      "metadata": {
        "colab": {
          "base_uri": "https://localhost:8080/",
          "height": 707
        },
        "id": "muN38XTRZGto",
        "outputId": "ae7fd416-137e-4fd0-f92a-af7612d2fc0d"
      },
      "execution_count": 243,
      "outputs": [
        {
          "output_type": "stream",
          "name": "stdout",
          "text": [
            "Looking in indexes: https://pypi.org/simple, https://us-python.pkg.dev/colab-wheels/public/simple/\n",
            "Collecting gTTS\n",
            "  Downloading gTTS-2.3.0-py3-none-any.whl (26 kB)\n",
            "Collecting requests~=2.28.0\n",
            "  Downloading requests-2.28.1-py3-none-any.whl (62 kB)\n",
            "\u001b[K     |████████████████████████████████| 62 kB 1.6 MB/s \n",
            "\u001b[?25hCollecting click~=8.1.3\n",
            "  Downloading click-8.1.3-py3-none-any.whl (96 kB)\n",
            "\u001b[K     |████████████████████████████████| 96 kB 6.5 MB/s \n",
            "\u001b[?25hCollecting six~=1.16.0\n",
            "  Downloading six-1.16.0-py2.py3-none-any.whl (11 kB)\n",
            "Requirement already satisfied: idna<4,>=2.5 in /usr/local/lib/python3.8/dist-packages (from requests~=2.28.0->gTTS) (2.10)\n",
            "Requirement already satisfied: urllib3<1.27,>=1.21.1 in /usr/local/lib/python3.8/dist-packages (from requests~=2.28.0->gTTS) (1.24.3)\n",
            "Requirement already satisfied: charset-normalizer<3,>=2 in /usr/local/lib/python3.8/dist-packages (from requests~=2.28.0->gTTS) (2.1.1)\n",
            "Requirement already satisfied: certifi>=2017.4.17 in /usr/local/lib/python3.8/dist-packages (from requests~=2.28.0->gTTS) (2022.9.24)\n",
            "Installing collected packages: six, requests, click, gTTS\n",
            "  Attempting uninstall: six\n",
            "    Found existing installation: six 1.15.0\n",
            "    Uninstalling six-1.15.0:\n",
            "      Successfully uninstalled six-1.15.0\n",
            "  Attempting uninstall: requests\n",
            "    Found existing installation: requests 2.23.0\n",
            "    Uninstalling requests-2.23.0:\n",
            "      Successfully uninstalled requests-2.23.0\n",
            "  Attempting uninstall: click\n",
            "    Found existing installation: click 7.1.2\n",
            "    Uninstalling click-7.1.2:\n",
            "      Successfully uninstalled click-7.1.2\n",
            "\u001b[31mERROR: pip's dependency resolver does not currently take into account all the packages that are installed. This behaviour is the source of the following dependency conflicts.\n",
            "ipython 7.9.0 requires jedi>=0.10, which is not installed.\n",
            "flask 1.1.4 requires click<8.0,>=5.1, but you have click 8.1.3 which is incompatible.\u001b[0m\n",
            "Successfully installed click-8.1.3 gTTS-2.3.0 requests-2.28.1 six-1.16.0\n"
          ]
        },
        {
          "output_type": "display_data",
          "data": {
            "application/vnd.colab-display-data+json": {
              "pip_warning": {
                "packages": [
                  "requests",
                  "six"
                ]
              }
            }
          },
          "metadata": {}
        }
      ]
    },
    {
      "cell_type": "code",
      "source": [
        "from gtts import gTTS"
      ],
      "metadata": {
        "id": "sErXhiB_ZHU5"
      },
      "execution_count": 246,
      "outputs": []
    },
    {
      "cell_type": "code",
      "source": [
        "tts = gTTS(text=final_translated_text, lang='fr')\n",
        "tts.save(\"translatedText.mp3\")"
      ],
      "metadata": {
        "id": "B9-oWqrMZjYi"
      },
      "execution_count": 259,
      "outputs": []
    },
    {
      "cell_type": "markdown",
      "source": [
        "### Voice output of translated Text\n",
        "\n",
        "https://drive.google.com/file/d/1KDs7nwXlUbGDIOIqSqpiHXXOqHiRWNfl/view?usp=share_link"
      ],
      "metadata": {
        "id": "RtGCEkU8PLJz"
      }
    },
    {
      "cell_type": "markdown",
      "source": [
        "---------\n",
        "# **References**\n",
        "\n",
        "[1] Braille book and voice book supply, Union News, https://www.yna.co.kr/view/AKR20220104120700371\n",
        "\n",
        "[2] Braille Classifier, Kaggle, https://www.kaggle.com/code/kwisatzhaderach/braille-classifier-keras/data\n",
        "\n",
        "[3] Howard, Andrew G., et al. \"Mobilenets: Efficient convolutional neural networks for mobile vision applications.\" arXiv preprint arXiv:1704.04861 (2017)\n",
        "\n",
        "[4] Tan, Mingxing, and Quoc Le. \"Efficientnet: Rethinking model scaling for convolutional neural networks.\" International conference on machine learning. PMLR, 2019.\n",
        "\n",
        "[5] Han, Lifeng. \"Machine translation evaluation resources and methods: A survey.\" arXiv preprint arXiv:1605.04515 (2016).\n",
        "\n",
        "[6] Chimalamarri, Santwana, and Dinkar Sitaram. \"Linguistically enhanced word segmentation for better neural machine translation of low resource agglutinative languages.\" International Journal of Speech Technology 24.4 (2021): 1047-1053.\n",
        "\n",
        "[7] Wu, Yonghui, et al. \"Google's neural machine translation system: Bridging the gap between human and machine translation.\" arXiv preprint arXiv:1609.08144 (2016).\n",
        "\n",
        "[8] Papineni, Kishore, et al. \"Bleu: a method for automatic evaluation of machine translation.\" Proceedings of the 40th annual meeting of the Association for Computational Linguistics. 2002.\n",
        "\n",
        "[9] Chin-Yew Lin. 2004. ROUGE: A Package for Automatic Evaluation of Summaries. In Text Summarization Branches Out, pages 74–81, Barcelona, Spain. Association for Computational Linguistics.\n",
        "\n"
      ],
      "metadata": {
        "id": "pe68r1Q1EYcI"
      }
    },
    {
      "cell_type": "markdown",
      "source": [
        "--------\n",
        "# **Insights and discussions**\n",
        "\n",
        "There is a problem in test case for braille translation. Because the width and length of input image is not constant, we failed generalization to crop each character in braille image. If it is possible to recognize the width and length of the image with braille detection model, the generalization will be achieved.\n",
        "\n",
        "\n",
        "\n",
        "And during our project we wonder if it is possible to compare two models with different hyperparameter (Here, LSTM and GRU model). We found some other previous researches that did comparison between LSTM and GRU model with different hyperparameters. But in common sense, we wondered it was worth comparing different hyperparameters because hyperparameters also important factor that affect to performance. "
      ],
      "metadata": {
        "id": "sof_BqRTT7GJ"
      }
    },
    {
      "cell_type": "markdown",
      "source": [
        "--------\n",
        "# **Member's contribution statement**\n",
        "\n",
        "### Kim-Jong-Gyu\n",
        "- presentor \n",
        "- building braille translation model (including data gathering and preprocessing)\n",
        "- explore related research (about motivation of the project, advancing CNN model)\n",
        "- make presentation materials\n",
        "\n",
        "\n",
        "\n",
        "### Lee-Do-Hui\n",
        "- presentor\n",
        "- building neural machine translation model (including data gathering and preprocessing)\n",
        "- explore related research (about neural machine translation evaluation metrics)\n",
        "- make presentation materials"
      ],
      "metadata": {
        "id": "A3apgZJC7PCv"
      }
    },
    {
      "cell_type": "markdown",
      "source": [
        "------\n",
        "# **Debugging experience worth sharing**\n",
        "\n",
        "For improving CNN model, trying diverse advancing techniques requires a lot of efforts.\n",
        "\n",
        "Unlike previous experiences, finding evaluation metrics fitted for our models takes a lot of time to search about related work's evaluation.\n",
        "\n"
      ],
      "metadata": {
        "id": "WMhSVCTg7S6-"
      }
    },
    {
      "cell_type": "markdown",
      "source": [
        "-------\n",
        "# **The Github repository with the commit history**\n",
        "https://github.com/Kim-Jong-Gyu/AI-teamProject-brailleTranslation"
      ],
      "metadata": {
        "id": "NPnwleLT7W5_"
      }
    }
  ]
}